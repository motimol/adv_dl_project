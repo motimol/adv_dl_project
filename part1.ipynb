{
 "cells": [
  {
   "cell_type": "markdown",
   "id": "4d477ff6",
   "metadata": {},
   "source": [
    "# Team M - Part 1"
   ]
  },
  {
   "cell_type": "markdown",
   "id": "1e837e18",
   "metadata": {},
   "source": [
    "# Imports"
   ]
  },
  {
   "cell_type": "code",
   "execution_count": null,
   "id": "b231d1b8",
   "metadata": {},
   "outputs": [],
   "source": [
    "# !pip install -r requirements.txt"
   ]
  },
  {
   "cell_type": "code",
   "execution_count": null,
   "id": "7b04d337",
   "metadata": {
    "colab": {
     "base_uri": "https://localhost:8080/",
     "height": 384
    },
    "executionInfo": {
     "elapsed": 4780,
     "status": "error",
     "timestamp": 1751459058681,
     "user": {
      "displayName": "מתן פראנק",
      "userId": "05964668191646222176"
     },
     "user_tz": -180
    },
    "id": "7b04d337",
    "outputId": "47ff6abc-1d93-4269-d51b-bb18389817be"
   },
   "outputs": [
    {
     "ename": "ModuleNotFoundError",
     "evalue": "No module named 'wordcloud'",
     "output_type": "error",
     "traceback": [
      "\u001b[1;31m---------------------------------------------------------------------------\u001b[0m",
      "\u001b[1;31mModuleNotFoundError\u001b[0m                       Traceback (most recent call last)",
      "Cell \u001b[1;32mIn[26], line 11\u001b[0m\n\u001b[0;32m      9\u001b[0m \u001b[38;5;28;01mimport\u001b[39;00m \u001b[38;5;21;01mtime\u001b[39;00m\n\u001b[0;32m     10\u001b[0m \u001b[38;5;28;01mfrom\u001b[39;00m \u001b[38;5;21;01mtqdm\u001b[39;00m \u001b[38;5;28;01mimport\u001b[39;00m tqdm\n\u001b[1;32m---> 11\u001b[0m \u001b[38;5;28;01mfrom\u001b[39;00m \u001b[38;5;21;01mwordcloud\u001b[39;00m \u001b[38;5;28;01mimport\u001b[39;00m WordCloud\n\u001b[0;32m     12\u001b[0m \u001b[38;5;28;01mimport\u001b[39;00m \u001b[38;5;21;01mtorch\u001b[39;00m\n",
      "\u001b[1;31mModuleNotFoundError\u001b[0m: No module named 'wordcloud'"
     ]
    }
   ],
   "source": [
    "import os\n",
    "import kagglehub\n",
    "import pandas as pd\n",
    "import seaborn as sns\n",
    "import plotly.express as px\n",
    "import matplotlib.pyplot as plt\n",
    "from tqdm import tqdm\n",
    "import requests\n",
    "import time\n",
    "from tqdm import tqdm\n",
    "import re\n",
    "from collections import Counter\n",
    "from wordcloud import WordCloud\n",
    "import torch"
   ]
  },
  {
   "cell_type": "markdown",
   "id": "af96144f",
   "metadata": {},
   "source": [
    "# Constants"
   ]
  },
  {
   "cell_type": "code",
   "execution_count": null,
   "id": "e366dfd3",
   "metadata": {},
   "outputs": [],
   "source": [
    "RUN_MAP_VIZUALIZATION = True"
   ]
  },
  {
   "cell_type": "code",
   "execution_count": null,
   "id": "jqNV2AnJssdQ",
   "metadata": {
    "colab": {
     "base_uri": "https://localhost:8080/"
    },
    "id": "jqNV2AnJssdQ",
    "outputId": "92c0c7c0-3037-4b45-b4e9-7eab3094e833"
   },
   "outputs": [
    {
     "data": {
      "text/plain": [
       "device(type='cuda')"
      ]
     },
     "execution_count": 58,
     "metadata": {},
     "output_type": "execute_result"
    }
   ],
   "source": [
    "device = torch.device(\"cuda\" if torch.cuda.is_available() else \"cpu\")\n",
    "device"
   ]
  },
  {
   "cell_type": "code",
   "execution_count": null,
   "id": "2cb69a67",
   "metadata": {
    "id": "2cb69a67"
   },
   "outputs": [],
   "source": [
    "torch.amp.autocast('cuda')   # FP16\n",
    "torch.backends.cudnn.benchmark = True"
   ]
  },
  {
   "cell_type": "markdown",
   "id": "7b2226ff",
   "metadata": {},
   "source": [
    "# Data Loading"
   ]
  },
  {
   "cell_type": "code",
   "execution_count": 4,
   "id": "c809c494",
   "metadata": {
    "colab": {
     "base_uri": "https://localhost:8080/"
    },
    "id": "c809c494",
    "outputId": "9a88914a-6729-4783-f2b0-5bbade40605c"
   },
   "outputs": [
    {
     "name": "stdout",
     "output_type": "stream",
     "text": [
      "Warning: Looks like you're using an outdated `kagglehub` version, please consider updating (latest version: 0.3.12)\n",
      "Path to dataset files: C:\\Users\\MotiM\\.cache\\kagglehub\\datasets\\datatattle\\covid-19-nlp-text-classification\\versions\\1\n"
     ]
    }
   ],
   "source": [
    "data_path = kagglehub.dataset_download(\"datatattle/covid-19-nlp-text-classification\")\n",
    "print(\"Path to dataset files:\", data_path)"
   ]
  },
  {
   "cell_type": "code",
   "execution_count": 5,
   "id": "db500c4e",
   "metadata": {
    "id": "db500c4e"
   },
   "outputs": [],
   "source": [
    "train_df = pd.read_csv(os.path.join(data_path, \"Corona_NLP_train.csv\"), encoding=\"latin1\")\n",
    "test_df = pd.read_csv(os.path.join(data_path, \"Corona_NLP_test.csv\"), encoding=\"latin1\")"
   ]
  },
  {
   "cell_type": "markdown",
   "id": "08fdc1a9",
   "metadata": {},
   "source": [
    "### Basic exploration"
   ]
  },
  {
   "cell_type": "code",
   "execution_count": 6,
   "id": "8b25c2c6",
   "metadata": {
    "colab": {
     "base_uri": "https://localhost:8080/"
    },
    "id": "8b25c2c6",
    "outputId": "943b2bf5-4a93-4520-eed7-1dd864a87db5"
   },
   "outputs": [
    {
     "name": "stdout",
     "output_type": "stream",
     "text": [
      "The dimensions of the datasets are: (41157, 6) (3798, 6)\n"
     ]
    }
   ],
   "source": [
    "print(\"The dimensions of the datasets are:\", train_df.shape, test_df.shape)"
   ]
  },
  {
   "cell_type": "code",
   "execution_count": 7,
   "id": "8nbgMgzfihlz",
   "metadata": {
    "colab": {
     "base_uri": "https://localhost:8080/",
     "height": 206
    },
    "id": "8nbgMgzfihlz",
    "outputId": "cd2eb9c5-5c8d-4405-9001-fd22c8040b8a"
   },
   "outputs": [
    {
     "data": {
      "text/html": [
       "<div>\n",
       "<style scoped>\n",
       "    .dataframe tbody tr th:only-of-type {\n",
       "        vertical-align: middle;\n",
       "    }\n",
       "\n",
       "    .dataframe tbody tr th {\n",
       "        vertical-align: top;\n",
       "    }\n",
       "\n",
       "    .dataframe thead th {\n",
       "        text-align: right;\n",
       "    }\n",
       "</style>\n",
       "<table border=\"1\" class=\"dataframe\">\n",
       "  <thead>\n",
       "    <tr style=\"text-align: right;\">\n",
       "      <th></th>\n",
       "      <th>UserName</th>\n",
       "      <th>ScreenName</th>\n",
       "      <th>Location</th>\n",
       "      <th>TweetAt</th>\n",
       "      <th>OriginalTweet</th>\n",
       "      <th>Sentiment</th>\n",
       "    </tr>\n",
       "  </thead>\n",
       "  <tbody>\n",
       "    <tr>\n",
       "      <th>0</th>\n",
       "      <td>3799</td>\n",
       "      <td>48751</td>\n",
       "      <td>London</td>\n",
       "      <td>16-03-2020</td>\n",
       "      <td>@MeNyrbie @Phil_Gahan @Chrisitv https://t.co/i...</td>\n",
       "      <td>Neutral</td>\n",
       "    </tr>\n",
       "    <tr>\n",
       "      <th>1</th>\n",
       "      <td>3800</td>\n",
       "      <td>48752</td>\n",
       "      <td>UK</td>\n",
       "      <td>16-03-2020</td>\n",
       "      <td>advice Talk to your neighbours family to excha...</td>\n",
       "      <td>Positive</td>\n",
       "    </tr>\n",
       "    <tr>\n",
       "      <th>2</th>\n",
       "      <td>3801</td>\n",
       "      <td>48753</td>\n",
       "      <td>Vagabonds</td>\n",
       "      <td>16-03-2020</td>\n",
       "      <td>Coronavirus Australia: Woolworths to give elde...</td>\n",
       "      <td>Positive</td>\n",
       "    </tr>\n",
       "    <tr>\n",
       "      <th>3</th>\n",
       "      <td>3802</td>\n",
       "      <td>48754</td>\n",
       "      <td>NaN</td>\n",
       "      <td>16-03-2020</td>\n",
       "      <td>My food stock is not the only one which is emp...</td>\n",
       "      <td>Positive</td>\n",
       "    </tr>\n",
       "    <tr>\n",
       "      <th>4</th>\n",
       "      <td>3803</td>\n",
       "      <td>48755</td>\n",
       "      <td>NaN</td>\n",
       "      <td>16-03-2020</td>\n",
       "      <td>Me, ready to go at supermarket during the #COV...</td>\n",
       "      <td>Extremely Negative</td>\n",
       "    </tr>\n",
       "  </tbody>\n",
       "</table>\n",
       "</div>"
      ],
      "text/plain": [
       "   UserName  ScreenName   Location     TweetAt  \\\n",
       "0      3799       48751     London  16-03-2020   \n",
       "1      3800       48752         UK  16-03-2020   \n",
       "2      3801       48753  Vagabonds  16-03-2020   \n",
       "3      3802       48754        NaN  16-03-2020   \n",
       "4      3803       48755        NaN  16-03-2020   \n",
       "\n",
       "                                       OriginalTweet           Sentiment  \n",
       "0  @MeNyrbie @Phil_Gahan @Chrisitv https://t.co/i...             Neutral  \n",
       "1  advice Talk to your neighbours family to excha...            Positive  \n",
       "2  Coronavirus Australia: Woolworths to give elde...            Positive  \n",
       "3  My food stock is not the only one which is emp...            Positive  \n",
       "4  Me, ready to go at supermarket during the #COV...  Extremely Negative  "
      ]
     },
     "execution_count": 7,
     "metadata": {},
     "output_type": "execute_result"
    }
   ],
   "source": [
    "train_df.head()"
   ]
  },
  {
   "cell_type": "code",
   "execution_count": 8,
   "id": "xG2HC5RxmBwU",
   "metadata": {
    "colab": {
     "base_uri": "https://localhost:8080/",
     "height": 272
    },
    "id": "xG2HC5RxmBwU",
    "outputId": "a46f2405-72ae-4577-a0b7-0365ce3dfb81"
   },
   "outputs": [
    {
     "data": {
      "text/plain": [
       "UserName          int64\n",
       "ScreenName        int64\n",
       "Location         object\n",
       "TweetAt          object\n",
       "OriginalTweet    object\n",
       "Sentiment        object\n",
       "dtype: object"
      ]
     },
     "execution_count": 8,
     "metadata": {},
     "output_type": "execute_result"
    }
   ],
   "source": [
    "train_df.dtypes"
   ]
  },
  {
   "cell_type": "code",
   "execution_count": 9,
   "id": "dnX2TRv9mwQO",
   "metadata": {
    "id": "dnX2TRv9mwQO"
   },
   "outputs": [],
   "source": [
    "train_df['Sentiment'] = train_df['Sentiment'].astype('category')"
   ]
  },
  {
   "cell_type": "markdown",
   "id": "4efe4032",
   "metadata": {
    "id": "4efe4032"
   },
   "source": [
    "Null count"
   ]
  },
  {
   "cell_type": "code",
   "execution_count": 10,
   "id": "aef2fd19",
   "metadata": {
    "colab": {
     "base_uri": "https://localhost:8080/",
     "height": 272
    },
    "id": "aef2fd19",
    "outputId": "a8e6c205-deb2-46b1-8800-0f82dff3f632"
   },
   "outputs": [
    {
     "data": {
      "text/plain": [
       "UserName            0\n",
       "ScreenName          0\n",
       "Location         8590\n",
       "TweetAt             0\n",
       "OriginalTweet       0\n",
       "Sentiment           0\n",
       "dtype: int64"
      ]
     },
     "execution_count": 10,
     "metadata": {},
     "output_type": "execute_result"
    }
   ],
   "source": [
    "train_df.isna().sum()"
   ]
  },
  {
   "cell_type": "markdown",
   "id": "20c9d865",
   "metadata": {
    "id": "20c9d865"
   },
   "source": [
    "Seems that only location has null values. So, for visualizations involving location, we'll remove them."
   ]
  },
  {
   "cell_type": "markdown",
   "id": "1429f38b",
   "metadata": {
    "id": "1429f38b"
   },
   "source": [
    "Number of unique classes:"
   ]
  },
  {
   "cell_type": "code",
   "execution_count": 11,
   "id": "bc88aa4e",
   "metadata": {
    "colab": {
     "base_uri": "https://localhost:8080/"
    },
    "id": "bc88aa4e",
    "outputId": "29c9960b-0f1a-4872-c034-907509ba7301"
   },
   "outputs": [
    {
     "data": {
      "text/plain": [
       "Positive              11422\n",
       "Negative               9917\n",
       "Neutral                7713\n",
       "Extremely Positive     6624\n",
       "Extremely Negative     5481\n",
       "Name: Sentiment, dtype: int64"
      ]
     },
     "execution_count": 11,
     "metadata": {},
     "output_type": "execute_result"
    }
   ],
   "source": [
    "train_df['Sentiment'].value_counts()"
   ]
  },
  {
   "cell_type": "code",
   "execution_count": 13,
   "id": "_mxDfZ5heeLb",
   "metadata": {
    "id": "_mxDfZ5heeLb"
   },
   "outputs": [],
   "source": [
    "df=train_df.copy()"
   ]
  },
  {
   "cell_type": "code",
   "execution_count": 14,
   "id": "zU-binViebbz",
   "metadata": {
    "colab": {
     "base_uri": "https://localhost:8080/"
    },
    "id": "zU-binViebbz",
    "outputId": "1065cba2-5b91-43d3-ea56-716d4143d289"
   },
   "outputs": [
    {
     "name": "stdout",
     "output_type": "stream",
     "text": [
      "count    41157.000000\n",
      "mean        30.500304\n",
      "std         11.591172\n",
      "min          1.000000\n",
      "25%         21.000000\n",
      "50%         32.000000\n",
      "75%         40.000000\n",
      "max         64.000000\n",
      "Name: text_length, dtype: float64\n"
     ]
    }
   ],
   "source": [
    "df['text_length'] = df['OriginalTweet'].apply(lambda x: len(x.split()))\n",
    "print(df['text_length'].describe())"
   ]
  },
  {
   "cell_type": "code",
   "execution_count": 17,
   "id": "jBzER1AHelv2",
   "metadata": {
    "colab": {
     "base_uri": "https://localhost:8080/",
     "height": 607
    },
    "id": "jBzER1AHelv2",
    "outputId": "4001a6b6-c206-45dd-910b-1a43861424a4"
   },
   "outputs": [
    {
     "data": {
      "image/png": "[encoded data removed]",
      "text/plain": [
       "<Figure size 800x600 with 1 Axes>"
      ]
     },
     "metadata": {},
     "output_type": "display_data"
    }
   ],
   "source": [
    "plt.figure(figsize=(8, 6))\n",
    "sns.histplot(\n",
    "    data=df, x='text_length',hue='Sentiment',bins=20, \n",
    "    multiple='layer',stat='count', palette='viridis', alpha=0.7, edgecolor='black', linewidth=0.5)\n",
    "\n",
    "plt.title('Tweet length histogram(Sentiment)')\n",
    "plt.xlabel('Tweet length (words)')\n",
    "plt.ylabel('Count') \n",
    "plt.grid(axis='y', linestyle='--', alpha=0.7)\n",
    "plt.legend(title='sentiment', labels=['Positve','Extremely Negative','Neutral','Negative','Extremely Positive'])\n",
    "plt.tight_layout()\n",
    "plt.show()"
   ]
  },
  {
   "cell_type": "code",
   "execution_count": 18,
   "id": "698d15c8",
   "metadata": {
    "colab": {
     "base_uri": "https://localhost:8080/",
     "height": 542
    },
    "id": "698d15c8",
    "outputId": "8e115655-e96f-438b-8924-f77d2c1901c4"
   },
   "outputs": [
    {
     "data": {
      "application/vnd.plotly.v1+json": {
       "config": {
        "plotlyServerURL": "https://plot.ly"
       },
       "data": [
        {
         "domain": {
          "x": [
           0,
           1
          ],
          "y": [
           0,
           1
          ]
         },
         "hole": 0.4,
         "hovertemplate": "Sentiment=%{label}<br>Count=%{value}<extra></extra>",
         "labels": [
          "Positive",
          "Negative",
          "Neutral",
          "Extremely Positive",
          "Extremely Negative"
         ],
         "legendgroup": "",
         "name": "",
         "showlegend": true,
         "type": "pie",
         "values": [
          11422,
          9917,
          7713,
          6624,
          5481
         ]
        }
       ],
       "layout": {
        "legend": {
         "tracegroupgap": 0
        },
        "template": {
         "data": {
          "bar": [
           {
            "error_x": {
             "color": "#2a3f5f"
            },
            "error_y": {
             "color": "#2a3f5f"
            },
            "marker": {
             "line": {
              "color": "#E5ECF6",
              "width": 0.5
             },
             "pattern": {
              "fillmode": "overlay",
              "size": 10,
              "solidity": 0.2
             }
            },
            "type": "bar"
           }
          ],
          "barpolar": [
           {
            "marker": {
             "line": {
              "color": "#E5ECF6",
              "width": 0.5
             },
             "pattern": {
              "fillmode": "overlay",
              "size": 10,
              "solidity": 0.2
             }
            },
            "type": "barpolar"
           }
          ],
          "carpet": [
           {
            "aaxis": {
             "endlinecolor": "#2a3f5f",
             "gridcolor": "white",
             "linecolor": "white",
             "minorgridcolor": "white",
             "startlinecolor": "#2a3f5f"
            },
            "baxis": {
             "endlinecolor": "#2a3f5f",
             "gridcolor": "white",
             "linecolor": "white",
             "minorgridcolor": "white",
             "startlinecolor": "#2a3f5f"
            },
            "type": "carpet"
           }
          ],
          "choropleth": [
           {
            "colorbar": {
             "outlinewidth": 0,
             "ticks": ""
            },
            "type": "choropleth"
           }
          ],
          "contour": [
           {
            "colorbar": {
             "outlinewidth": 0,
             "ticks": ""
            },
            "colorscale": [
             [
              0,
              "#0d0887"
             ],
             [
              0.1111111111111111,
              "#46039f"
             ],
             [
              0.2222222222222222,
              "#7201a8"
             ],
             [
              0.3333333333333333,
              "#9c179e"
             ],
             [
              0.4444444444444444,
              "#bd3786"
             ],
             [
              0.5555555555555556,
              "#d8576b"
             ],
             [
              0.6666666666666666,
              "#ed7953"
             ],
             [
              0.7777777777777778,
              "#fb9f3a"
             ],
             [
              0.8888888888888888,
              "#fdca26"
             ],
             [
              1,
              "#f0f921"
             ]
            ],
            "type": "contour"
           }
          ],
          "contourcarpet": [
           {
            "colorbar": {
             "outlinewidth": 0,
             "ticks": ""
            },
            "type": "contourcarpet"
           }
          ],
          "heatmap": [
           {
            "colorbar": {
             "outlinewidth": 0,
             "ticks": ""
            },
            "colorscale": [
             [
              0,
              "#0d0887"
             ],
             [
              0.1111111111111111,
              "#46039f"
             ],
             [
              0.2222222222222222,
              "#7201a8"
             ],
             [
              0.3333333333333333,
              "#9c179e"
             ],
             [
              0.4444444444444444,
              "#bd3786"
             ],
             [
              0.5555555555555556,
              "#d8576b"
             ],
             [
              0.6666666666666666,
              "#ed7953"
             ],
             [
              0.7777777777777778,
              "#fb9f3a"
             ],
             [
              0.8888888888888888,
              "#fdca26"
             ],
             [
              1,
              "#f0f921"
             ]
            ],
            "type": "heatmap"
           }
          ],
          "heatmapgl": [
           {
            "colorbar": {
             "outlinewidth": 0,
             "ticks": ""
            },
            "colorscale": [
             [
              0,
              "#0d0887"
             ],
             [
              0.1111111111111111,
              "#46039f"
             ],
             [
              0.2222222222222222,
              "#7201a8"
             ],
             [
              0.3333333333333333,
              "#9c179e"
             ],
             [
              0.4444444444444444,
              "#bd3786"
             ],
             [
              0.5555555555555556,
              "#d8576b"
             ],
             [
              0.6666666666666666,
              "#ed7953"
             ],
             [
              0.7777777777777778,
              "#fb9f3a"
             ],
             [
              0.8888888888888888,
              "#fdca26"
             ],
             [
              1,
              "#f0f921"
             ]
            ],
            "type": "heatmapgl"
           }
          ],
          "histogram": [
           {
            "marker": {
             "pattern": {
              "fillmode": "overlay",
              "size": 10,
              "solidity": 0.2
             }
            },
            "type": "histogram"
           }
          ],
          "histogram2d": [
           {
            "colorbar": {
             "outlinewidth": 0,
             "ticks": ""
            },
            "colorscale": [
             [
              0,
              "#0d0887"
             ],
             [
              0.1111111111111111,
              "#46039f"
             ],
             [
              0.2222222222222222,
              "#7201a8"
             ],
             [
              0.3333333333333333,
              "#9c179e"
             ],
             [
              0.4444444444444444,
              "#bd3786"
             ],
             [
              0.5555555555555556,
              "#d8576b"
             ],
             [
              0.6666666666666666,
              "#ed7953"
             ],
             [
              0.7777777777777778,
              "#fb9f3a"
             ],
             [
              0.8888888888888888,
              "#fdca26"
             ],
             [
              1,
              "#f0f921"
             ]
            ],
            "type": "histogram2d"
           }
          ],
          "histogram2dcontour": [
           {
            "colorbar": {
             "outlinewidth": 0,
             "ticks": ""
            },
            "colorscale": [
             [
              0,
              "#0d0887"
             ],
             [
              0.1111111111111111,
              "#46039f"
             ],
             [
              0.2222222222222222,
              "#7201a8"
             ],
             [
              0.3333333333333333,
              "#9c179e"
             ],
             [
              0.4444444444444444,
              "#bd3786"
             ],
             [
              0.5555555555555556,
              "#d8576b"
             ],
             [
              0.6666666666666666,
              "#ed7953"
             ],
             [
              0.7777777777777778,
              "#fb9f3a"
             ],
             [
              0.8888888888888888,
              "#fdca26"
             ],
             [
              1,
              "#f0f921"
             ]
            ],
            "type": "histogram2dcontour"
           }
          ],
          "mesh3d": [
           {
            "colorbar": {
             "outlinewidth": 0,
             "ticks": ""
            },
            "type": "mesh3d"
           }
          ],
          "parcoords": [
           {
            "line": {
             "colorbar": {
              "outlinewidth": 0,
              "ticks": ""
             }
            },
            "type": "parcoords"
           }
          ],
          "pie": [
           {
            "automargin": true,
            "type": "pie"
           }
          ],
          "scatter": [
           {
            "fillpattern": {
             "fillmode": "overlay",
             "size": 10,
             "solidity": 0.2
            },
            "type": "scatter"
           }
          ],
          "scatter3d": [
           {
            "line": {
             "colorbar": {
              "outlinewidth": 0,
              "ticks": ""
             }
            },
            "marker": {
             "colorbar": {
              "outlinewidth": 0,
              "ticks": ""
             }
            },
            "type": "scatter3d"
           }
          ],
          "scattercarpet": [
           {
            "marker": {
             "colorbar": {
              "outlinewidth": 0,
              "ticks": ""
             }
            },
            "type": "scattercarpet"
           }
          ],
          "scattergeo": [
           {
            "marker": {
             "colorbar": {
              "outlinewidth": 0,
              "ticks": ""
             }
            },
            "type": "scattergeo"
           }
          ],
          "scattergl": [
           {
            "marker": {
             "colorbar": {
              "outlinewidth": 0,
              "ticks": ""
             }
            },
            "type": "scattergl"
           }
          ],
          "scattermapbox": [
           {
            "marker": {
             "colorbar": {
              "outlinewidth": 0,
              "ticks": ""
             }
            },
            "type": "scattermapbox"
           }
          ],
          "scatterpolar": [
           {
            "marker": {
             "colorbar": {
              "outlinewidth": 0,
              "ticks": ""
             }
            },
            "type": "scatterpolar"
           }
          ],
          "scatterpolargl": [
           {
            "marker": {
             "colorbar": {
              "outlinewidth": 0,
              "ticks": ""
             }
            },
            "type": "scatterpolargl"
           }
          ],
          "scatterternary": [
           {
            "marker": {
             "colorbar": {
              "outlinewidth": 0,
              "ticks": ""
             }
            },
            "type": "scatterternary"
           }
          ],
          "surface": [
           {
            "colorbar": {
             "outlinewidth": 0,
             "ticks": ""
            },
            "colorscale": [
             [
              0,
              "#0d0887"
             ],
             [
              0.1111111111111111,
              "#46039f"
             ],
             [
              0.2222222222222222,
              "#7201a8"
             ],
             [
              0.3333333333333333,
              "#9c179e"
             ],
             [
              0.4444444444444444,
              "#bd3786"
             ],
             [
              0.5555555555555556,
              "#d8576b"
             ],
             [
              0.6666666666666666,
              "#ed7953"
             ],
             [
              0.7777777777777778,
              "#fb9f3a"
             ],
             [
              0.8888888888888888,
              "#fdca26"
             ],
             [
              1,
              "#f0f921"
             ]
            ],
            "type": "surface"
           }
          ],
          "table": [
           {
            "cells": {
             "fill": {
              "color": "#EBF0F8"
             },
             "line": {
              "color": "white"
             }
            },
            "header": {
             "fill": {
              "color": "#C8D4E3"
             },
             "line": {
              "color": "white"
             }
            },
            "type": "table"
           }
          ]
         },
         "layout": {
          "annotationdefaults": {
           "arrowcolor": "#2a3f5f",
           "arrowhead": 0,
           "arrowwidth": 1
          },
          "autotypenumbers": "strict",
          "coloraxis": {
           "colorbar": {
            "outlinewidth": 0,
            "ticks": ""
           }
          },
          "colorscale": {
           "diverging": [
            [
             0,
             "#8e0152"
            ],
            [
             0.1,
             "#c51b7d"
            ],
            [
             0.2,
             "#de77ae"
            ],
            [
             0.3,
             "#f1b6da"
            ],
            [
             0.4,
             "#fde0ef"
            ],
            [
             0.5,
             "#f7f7f7"
            ],
            [
             0.6,
             "#e6f5d0"
            ],
            [
             0.7,
             "#b8e186"
            ],
            [
             0.8,
             "#7fbc41"
            ],
            [
             0.9,
             "#4d9221"
            ],
            [
             1,
             "#276419"
            ]
           ],
           "sequential": [
            [
             0,
             "#0d0887"
            ],
            [
             0.1111111111111111,
             "#46039f"
            ],
            [
             0.2222222222222222,
             "#7201a8"
            ],
            [
             0.3333333333333333,
             "#9c179e"
            ],
            [
             0.4444444444444444,
             "#bd3786"
            ],
            [
             0.5555555555555556,
             "#d8576b"
            ],
            [
             0.6666666666666666,
             "#ed7953"
            ],
            [
             0.7777777777777778,
             "#fb9f3a"
            ],
            [
             0.8888888888888888,
             "#fdca26"
            ],
            [
             1,
             "#f0f921"
            ]
           ],
           "sequentialminus": [
            [
             0,
             "#0d0887"
            ],
            [
             0.1111111111111111,
             "#46039f"
            ],
            [
             0.2222222222222222,
             "#7201a8"
            ],
            [
             0.3333333333333333,
             "#9c179e"
            ],
            [
             0.4444444444444444,
             "#bd3786"
            ],
            [
             0.5555555555555556,
             "#d8576b"
            ],
            [
             0.6666666666666666,
             "#ed7953"
            ],
            [
             0.7777777777777778,
             "#fb9f3a"
            ],
            [
             0.8888888888888888,
             "#fdca26"
            ],
            [
             1,
             "#f0f921"
            ]
           ]
          },
          "colorway": [
           "#636efa",
           "#EF553B",
           "#00cc96",
           "#ab63fa",
           "#FFA15A",
           "#19d3f3",
           "#FF6692",
           "#B6E880",
           "#FF97FF",
           "#FECB52"
          ],
          "font": {
           "color": "#2a3f5f"
          },
          "geo": {
           "bgcolor": "white",
           "lakecolor": "white",
           "landcolor": "#E5ECF6",
           "showlakes": true,
           "showland": true,
           "subunitcolor": "white"
          },
          "hoverlabel": {
           "align": "left"
          },
          "hovermode": "closest",
          "mapbox": {
           "style": "light"
          },
          "paper_bgcolor": "white",
          "plot_bgcolor": "#E5ECF6",
          "polar": {
           "angularaxis": {
            "gridcolor": "white",
            "linecolor": "white",
            "ticks": ""
           },
           "bgcolor": "#E5ECF6",
           "radialaxis": {
            "gridcolor": "white",
            "linecolor": "white",
            "ticks": ""
           }
          },
          "scene": {
           "xaxis": {
            "backgroundcolor": "#E5ECF6",
            "gridcolor": "white",
            "gridwidth": 2,
            "linecolor": "white",
            "showbackground": true,
            "ticks": "",
            "zerolinecolor": "white"
           },
           "yaxis": {
            "backgroundcolor": "#E5ECF6",
            "gridcolor": "white",
            "gridwidth": 2,
            "linecolor": "white",
            "showbackground": true,
            "ticks": "",
            "zerolinecolor": "white"
           },
           "zaxis": {
            "backgroundcolor": "#E5ECF6",
            "gridcolor": "white",
            "gridwidth": 2,
            "linecolor": "white",
            "showbackground": true,
            "ticks": "",
            "zerolinecolor": "white"
           }
          },
          "shapedefaults": {
           "line": {
            "color": "#2a3f5f"
           }
          },
          "ternary": {
           "aaxis": {
            "gridcolor": "white",
            "linecolor": "white",
            "ticks": ""
           },
           "baxis": {
            "gridcolor": "white",
            "linecolor": "white",
            "ticks": ""
           },
           "bgcolor": "#E5ECF6",
           "caxis": {
            "gridcolor": "white",
            "linecolor": "white",
            "ticks": ""
           }
          },
          "title": {
           "x": 0.05
          },
          "xaxis": {
           "automargin": true,
           "gridcolor": "white",
           "linecolor": "white",
           "ticks": "",
           "title": {
            "standoff": 15
           },
           "zerolinecolor": "white",
           "zerolinewidth": 2
          },
          "yaxis": {
           "automargin": true,
           "gridcolor": "white",
           "linecolor": "white",
           "ticks": "",
           "title": {
            "standoff": 15
           },
           "zerolinecolor": "white",
           "zerolinewidth": 2
          }
         }
        },
        "title": {
         "text": "Distribution of Sentiments in Training Data"
        }
       }
      }
     },
     "metadata": {},
     "output_type": "display_data"
    }
   ],
   "source": [
    "sentiment_counts = train_df['Sentiment'].value_counts().reset_index()\n",
    "sentiment_counts.columns = ['Sentiment', 'Count']\n",
    "fig = px.pie(sentiment_counts, values='Count', names='Sentiment', title='Distribution of Sentiments in Training Data', hole=0.4)\n",
    "fig.show()"
   ]
  },
  {
   "cell_type": "markdown",
   "id": "d80b5e66",
   "metadata": {
    "id": "d80b5e66"
   },
   "source": [
    "5 classes, seems quite balanced, if we see a bias towords the classes \"positive\" and \"negative\" we will have to consider weighted loss approch.\n",
    "All in all, seems like the sentiment were not leaning toward negative emotions. on the contrary, there are more positive sentiment tweets than negative."
   ]
  },
  {
   "cell_type": "markdown",
   "id": "c064205d",
   "metadata": {
    "id": "c064205d"
   },
   "source": [
    "# Visualizations"
   ]
  },
  {
   "cell_type": "markdown",
   "id": "b7b7d008",
   "metadata": {
    "id": "b7b7d008"
   },
   "source": [
    "## 1. Sentiment VS Geographical location"
   ]
  },
  {
   "cell_type": "markdown",
   "id": "4b6e2000",
   "metadata": {
    "id": "4b6e2000"
   },
   "source": [
    "Clean dataframe for visualiations regarding location"
   ]
  },
  {
   "cell_type": "code",
   "execution_count": 19,
   "id": "7272ccca",
   "metadata": {
    "id": "7272ccca"
   },
   "outputs": [],
   "source": [
    "SENTIMENT_TO_SCORE_MAPPING = {\n",
    "    'Extremely Negative': -2,\n",
    "    'Negative': -1,\n",
    "    'Neutral': 0,\n",
    "    'Positive': 1,\n",
    "    'Extremely Positive': 2\n",
    "    }"
   ]
  },
  {
   "cell_type": "code",
   "execution_count": null,
   "id": "fcd9559b",
   "metadata": {
    "colab": {
     "base_uri": "https://localhost:8080/"
    },
    "id": "fcd9559b",
    "outputId": "b3b7ff95-f65f-44e5-f4e9-195713fafb24"
   },
   "outputs": [
    {
     "name": "stderr",
     "output_type": "stream",
     "text": [
      "C:\\Users\\MotiM\\AppData\\Local\\Temp\\ipykernel_14088\\474962109.py:2: SettingWithCopyWarning:\n",
      "\n",
      "\n",
      "A value is trying to be set on a copy of a slice from a DataFrame.\n",
      "Try using .loc[row_indexer,col_indexer] = value instead\n",
      "\n",
      "See the caveats in the documentation: https://pandas.pydata.org/pandas-docs/stable/user_guide/indexing.html#returning-a-view-versus-a-copy\n",
      "\n"
     ]
    }
   ],
   "source": [
    "if RUN_MAP_VIZUALIZATION:\n",
    "    location_viz_df = train_df[~train_df[\"Location\"].isna()]\n",
    "    location_viz_df[\"sentiment_score\"] = location_viz_df[\"Sentiment\"].map(SENTIMENT_TO_SCORE_MAPPING)"
   ]
  },
  {
   "cell_type": "code",
   "execution_count": 23,
   "id": "6e97b156",
   "metadata": {
    "id": "6e97b156"
   },
   "outputs": [],
   "source": [
    "LOCATION_IQ_TOKEN = 'pk.141e2e5711ccfbe2bea40ef7e857c721'\n",
    "SAMPLE_SIZE = 500 # because of a rate limit to the API - maximum 5K / day - so limit to 500."
   ]
  },
  {
   "cell_type": "code",
   "execution_count": null,
   "id": "1e564581",
   "metadata": {
    "id": "1e564581"
   },
   "outputs": [],
   "source": [
    "if RUN_MAP_VIZUALIZATION:\n",
    "    map_viz_df = location_viz_df.sample(SAMPLE_SIZE, random_state=23)"
   ]
  },
  {
   "cell_type": "markdown",
   "id": "8258f163",
   "metadata": {},
   "source": [
    "Extrapolate long, lat coordinates"
   ]
  },
  {
   "cell_type": "code",
   "execution_count": 27,
   "id": "1b2052fe",
   "metadata": {
    "colab": {
     "base_uri": "https://localhost:8080/",
     "height": 139
    },
    "id": "1b2052fe",
    "outputId": "b185c3ea-9fe5-4d55-844e-5aaadddea0ef"
   },
   "outputs": [
    {
     "name": "stderr",
     "output_type": "stream",
     "text": [
      "  8%|▊         | 39/500 [00:33<06:28,  1.19it/s]"
     ]
    },
    {
     "name": "stdout",
     "output_type": "stream",
     "text": [
      "Error geocoding ?????: 404 Client Error: Not Found for url: https://us1.locationiq.com/v1/search.php?key=pk.141e2e5711ccfbe2bea40ef7e857c721&q=%3F%3F%3F%3F%3F&format=json\n"
     ]
    },
    {
     "name": "stderr",
     "output_type": "stream",
     "text": [
      " 14%|█▍        | 69/500 [00:58<06:03,  1.18it/s]"
     ]
    },
    {
     "name": "stdout",
     "output_type": "stream",
     "text": [
      "Error geocoding Here and there: 429 Client Error: Too Many Requests for url: https://us1.locationiq.com/v1/search.php?key=pk.141e2e5711ccfbe2bea40ef7e857c721&q=Here+and+there&format=json\n"
     ]
    },
    {
     "name": "stderr",
     "output_type": "stream",
     "text": [
      " 14%|█▍        | 70/500 [00:59<05:59,  1.20it/s]"
     ]
    },
    {
     "name": "stdout",
     "output_type": "stream",
     "text": [
      "Error geocoding Germany: 429 Client Error: Too Many Requests for url: https://us1.locationiq.com/v1/search.php?key=pk.141e2e5711ccfbe2bea40ef7e857c721&q=Germany&format=json\n"
     ]
    },
    {
     "name": "stderr",
     "output_type": "stream",
     "text": [
      " 14%|█▍        | 71/500 [00:59<05:53,  1.21it/s]"
     ]
    },
    {
     "name": "stdout",
     "output_type": "stream",
     "text": [
      "Error geocoding Troy, MI: 429 Client Error: Too Many Requests for url: https://us1.locationiq.com/v1/search.php?key=pk.141e2e5711ccfbe2bea40ef7e857c721&q=Troy%2C+MI&format=json\n"
     ]
    },
    {
     "name": "stderr",
     "output_type": "stream",
     "text": [
      " 14%|█▍        | 72/500 [01:00<05:43,  1.25it/s]"
     ]
    },
    {
     "name": "stdout",
     "output_type": "stream",
     "text": [
      "Error geocoding Southampton: 429 Client Error: Too Many Requests for url: https://us1.locationiq.com/v1/search.php?key=pk.141e2e5711ccfbe2bea40ef7e857c721&q=Southampton&format=json\n"
     ]
    },
    {
     "name": "stderr",
     "output_type": "stream",
     "text": [
      " 15%|█▍        | 73/500 [01:01<05:31,  1.29it/s]"
     ]
    },
    {
     "name": "stdout",
     "output_type": "stream",
     "text": [
      "Error geocoding Serbia: 429 Client Error: Too Many Requests for url: https://us1.locationiq.com/v1/search.php?key=pk.141e2e5711ccfbe2bea40ef7e857c721&q=Serbia&format=json\n"
     ]
    },
    {
     "name": "stderr",
     "output_type": "stream",
     "text": [
      " 15%|█▍        | 74/500 [01:02<05:25,  1.31it/s]"
     ]
    },
    {
     "name": "stdout",
     "output_type": "stream",
     "text": [
      "Error geocoding Ankara: 429 Client Error: Too Many Requests for url: https://us1.locationiq.com/v1/search.php?key=pk.141e2e5711ccfbe2bea40ef7e857c721&q=Ankara&format=json\n"
     ]
    },
    {
     "name": "stderr",
     "output_type": "stream",
     "text": [
      " 15%|█▌        | 75/500 [01:02<05:20,  1.33it/s]"
     ]
    },
    {
     "name": "stdout",
     "output_type": "stream",
     "text": [
      "Error geocoding KC-LIMA: 429 Client Error: Too Many Requests for url: https://us1.locationiq.com/v1/search.php?key=pk.141e2e5711ccfbe2bea40ef7e857c721&q=KC-LIMA&format=json\n"
     ]
    },
    {
     "name": "stderr",
     "output_type": "stream",
     "text": [
      " 19%|█▉        | 95/500 [01:24<05:29,  1.23it/s]"
     ]
    },
    {
     "name": "stdout",
     "output_type": "stream",
     "text": [
      "Error geocoding www.fucktrump.com: 404 Client Error: Not Found for url: https://us1.locationiq.com/v1/search.php?key=pk.141e2e5711ccfbe2bea40ef7e857c721&q=www.fucktrump.com&format=json\n"
     ]
    },
    {
     "name": "stderr",
     "output_type": "stream",
     "text": [
      " 22%|██▏       | 110/500 [01:36<05:04,  1.28it/s]"
     ]
    },
    {
     "name": "stdout",
     "output_type": "stream",
     "text": [
      "Error geocoding Argadahana: 404 Client Error: Not Found for url: https://us1.locationiq.com/v1/search.php?key=pk.141e2e5711ccfbe2bea40ef7e857c721&q=Argadahana&format=json\n"
     ]
    },
    {
     "name": "stderr",
     "output_type": "stream",
     "text": [
      " 24%|██▍       | 120/500 [01:45<05:38,  1.12it/s]"
     ]
    },
    {
     "name": "stdout",
     "output_type": "stream",
     "text": [
      "Error geocoding ??: 404 Client Error: Not Found for url: https://us1.locationiq.com/v1/search.php?key=pk.141e2e5711ccfbe2bea40ef7e857c721&q=%3F%3F&format=json\n"
     ]
    },
    {
     "name": "stderr",
     "output_type": "stream",
     "text": [
      " 27%|██▋       | 136/500 [01:58<05:07,  1.18it/s]"
     ]
    },
    {
     "name": "stdout",
     "output_type": "stream",
     "text": [
      "Error geocoding Georgia, USA: 429 Client Error: Too Many Requests for url: https://us1.locationiq.com/v1/search.php?key=pk.141e2e5711ccfbe2bea40ef7e857c721&q=Georgia%2C+USA&format=json\n"
     ]
    },
    {
     "name": "stderr",
     "output_type": "stream",
     "text": [
      " 27%|██▋       | 137/500 [01:59<05:03,  1.20it/s]"
     ]
    },
    {
     "name": "stdout",
     "output_type": "stream",
     "text": [
      "Error geocoding Leeds  |  Burton  |  UK: 429 Client Error: Too Many Requests for url: https://us1.locationiq.com/v1/search.php?key=pk.141e2e5711ccfbe2bea40ef7e857c721&q=Leeds++%7C++Burton++%7C++UK&format=json\n"
     ]
    },
    {
     "name": "stderr",
     "output_type": "stream",
     "text": [
      " 28%|██▊       | 138/500 [02:00<05:02,  1.20it/s]"
     ]
    },
    {
     "name": "stdout",
     "output_type": "stream",
     "text": [
      "Error geocoding Montgomery County, MD: 429 Client Error: Too Many Requests for url: https://us1.locationiq.com/v1/search.php?key=pk.141e2e5711ccfbe2bea40ef7e857c721&q=Montgomery+County%2C+MD&format=json\n"
     ]
    },
    {
     "name": "stderr",
     "output_type": "stream",
     "text": [
      " 28%|██▊       | 139/500 [02:01<04:52,  1.24it/s]"
     ]
    },
    {
     "name": "stdout",
     "output_type": "stream",
     "text": [
      "Error geocoding India: 429 Client Error: Too Many Requests for url: https://us1.locationiq.com/v1/search.php?key=pk.141e2e5711ccfbe2bea40ef7e857c721&q=India&format=json\n"
     ]
    },
    {
     "name": "stderr",
     "output_type": "stream",
     "text": [
      " 28%|██▊       | 140/500 [02:01<04:41,  1.28it/s]"
     ]
    },
    {
     "name": "stdout",
     "output_type": "stream",
     "text": [
      "Error geocoding Brisbane, Queensland: 429 Client Error: Too Many Requests for url: https://us1.locationiq.com/v1/search.php?key=pk.141e2e5711ccfbe2bea40ef7e857c721&q=Brisbane%2C+Queensland&format=json\n"
     ]
    },
    {
     "name": "stderr",
     "output_type": "stream",
     "text": [
      " 28%|██▊       | 141/500 [02:02<04:40,  1.28it/s]"
     ]
    },
    {
     "name": "stdout",
     "output_type": "stream",
     "text": [
      "Error geocoding PUNE: 429 Client Error: Too Many Requests for url: https://us1.locationiq.com/v1/search.php?key=pk.141e2e5711ccfbe2bea40ef7e857c721&q=PUNE&format=json\n"
     ]
    },
    {
     "name": "stderr",
     "output_type": "stream",
     "text": [
      " 28%|██▊       | 142/500 [02:03<04:43,  1.26it/s]"
     ]
    },
    {
     "name": "stdout",
     "output_type": "stream",
     "text": [
      "Error geocoding Malawi: 429 Client Error: Too Many Requests for url: https://us1.locationiq.com/v1/search.php?key=pk.141e2e5711ccfbe2bea40ef7e857c721&q=Malawi&format=json\n"
     ]
    },
    {
     "name": "stderr",
     "output_type": "stream",
     "text": [
      " 29%|██▊       | 143/500 [02:04<04:45,  1.25it/s]"
     ]
    },
    {
     "name": "stdout",
     "output_type": "stream",
     "text": [
      "Error geocoding New York, NY: 429 Client Error: Too Many Requests for url: https://us1.locationiq.com/v1/search.php?key=pk.141e2e5711ccfbe2bea40ef7e857c721&q=New+York%2C+NY&format=json\n"
     ]
    },
    {
     "name": "stderr",
     "output_type": "stream",
     "text": [
      " 29%|██▉       | 144/500 [02:05<04:34,  1.30it/s]"
     ]
    },
    {
     "name": "stdout",
     "output_type": "stream",
     "text": [
      "Error geocoding New York, NY: 429 Client Error: Too Many Requests for url: https://us1.locationiq.com/v1/search.php?key=pk.141e2e5711ccfbe2bea40ef7e857c721&q=New+York%2C+NY&format=json\n"
     ]
    },
    {
     "name": "stderr",
     "output_type": "stream",
     "text": [
      " 29%|██▉       | 145/500 [02:05<04:27,  1.33it/s]"
     ]
    },
    {
     "name": "stdout",
     "output_type": "stream",
     "text": [
      "Error geocoding Australia: 429 Client Error: Too Many Requests for url: https://us1.locationiq.com/v1/search.php?key=pk.141e2e5711ccfbe2bea40ef7e857c721&q=Australia&format=json\n"
     ]
    },
    {
     "name": "stderr",
     "output_type": "stream",
     "text": [
      " 29%|██▉       | 146/500 [02:06<04:22,  1.35it/s]"
     ]
    },
    {
     "name": "stdout",
     "output_type": "stream",
     "text": [
      "Error geocoding Paris: 429 Client Error: Too Many Requests for url: https://us1.locationiq.com/v1/search.php?key=pk.141e2e5711ccfbe2bea40ef7e857c721&q=Paris&format=json\n"
     ]
    },
    {
     "name": "stderr",
     "output_type": "stream",
     "text": [
      " 29%|██▉       | 147/500 [02:07<04:20,  1.35it/s]"
     ]
    },
    {
     "name": "stdout",
     "output_type": "stream",
     "text": [
      "Error geocoding News & Bible verses USA: 404 Client Error: Not Found for url: https://us1.locationiq.com/v1/search.php?key=pk.141e2e5711ccfbe2bea40ef7e857c721&q=News+%26+Bible+verses+USA&format=json\n"
     ]
    },
    {
     "name": "stderr",
     "output_type": "stream",
     "text": [
      " 31%|███       | 154/500 [02:13<04:51,  1.19it/s]"
     ]
    },
    {
     "name": "stdout",
     "output_type": "stream",
     "text": [
      "Error geocoding deep in cognitive dissonance: 404 Client Error: Not Found for url: https://us1.locationiq.com/v1/search.php?key=pk.141e2e5711ccfbe2bea40ef7e857c721&q=deep+in+cognitive+dissonance&format=json\n"
     ]
    },
    {
     "name": "stderr",
     "output_type": "stream",
     "text": [
      " 32%|███▏      | 162/500 [02:19<04:27,  1.26it/s]"
     ]
    },
    {
     "name": "stdout",
     "output_type": "stream",
     "text": [
      "Error geocoding Retweet doesnÂt = endorsement: 404 Client Error: Not Found for url: https://us1.locationiq.com/v1/search.php?key=pk.141e2e5711ccfbe2bea40ef7e857c721&q=Retweet+doesn%C3%82%C2%92t+%3D+endorsement&format=json\n"
     ]
    },
    {
     "name": "stderr",
     "output_type": "stream",
     "text": [
      " 36%|███▌      | 179/500 [02:33<04:26,  1.21it/s]"
     ]
    },
    {
     "name": "stdout",
     "output_type": "stream",
     "text": [
      "Error geocoding Try Ur Luck...Guess: 404 Client Error: Not Found for url: https://us1.locationiq.com/v1/search.php?key=pk.141e2e5711ccfbe2bea40ef7e857c721&q=Try+Ur+Luck...Guess&format=json\n"
     ]
    },
    {
     "name": "stderr",
     "output_type": "stream",
     "text": [
      " 41%|████▏     | 207/500 [02:57<03:55,  1.24it/s]"
     ]
    },
    {
     "name": "stdout",
     "output_type": "stream",
     "text": [
      "Error geocoding Dubai: 429 Client Error: Too Many Requests for url: https://us1.locationiq.com/v1/search.php?key=pk.141e2e5711ccfbe2bea40ef7e857c721&q=Dubai&format=json\n"
     ]
    },
    {
     "name": "stderr",
     "output_type": "stream",
     "text": [
      " 42%|████▏     | 208/500 [02:58<03:56,  1.23it/s]"
     ]
    },
    {
     "name": "stdout",
     "output_type": "stream",
     "text": [
      "Error geocoding Fort Smith, AR: 429 Client Error: Too Many Requests for url: https://us1.locationiq.com/v1/search.php?key=pk.141e2e5711ccfbe2bea40ef7e857c721&q=Fort+Smith%2C+AR&format=json\n"
     ]
    },
    {
     "name": "stderr",
     "output_type": "stream",
     "text": [
      " 42%|████▏     | 209/500 [02:58<03:48,  1.27it/s]"
     ]
    },
    {
     "name": "stdout",
     "output_type": "stream",
     "text": [
      "Error geocoding Loughborough, England: 429 Client Error: Too Many Requests for url: https://us1.locationiq.com/v1/search.php?key=pk.141e2e5711ccfbe2bea40ef7e857c721&q=Loughborough%2C+England&format=json\n"
     ]
    },
    {
     "name": "stderr",
     "output_type": "stream",
     "text": [
      " 42%|████▏     | 210/500 [02:59<03:42,  1.31it/s]"
     ]
    },
    {
     "name": "stdout",
     "output_type": "stream",
     "text": [
      "Error geocoding California, USA: 429 Client Error: Too Many Requests for url: https://us1.locationiq.com/v1/search.php?key=pk.141e2e5711ccfbe2bea40ef7e857c721&q=California%2C+USA&format=json\n"
     ]
    },
    {
     "name": "stderr",
     "output_type": "stream",
     "text": [
      " 42%|████▏     | 211/500 [03:00<03:38,  1.33it/s]"
     ]
    },
    {
     "name": "stdout",
     "output_type": "stream",
     "text": [
      "Error geocoding Marawi City, Autonomous Region Of Muslim Mindanao: 429 Client Error: Too Many Requests for url: https://us1.locationiq.com/v1/search.php?key=pk.141e2e5711ccfbe2bea40ef7e857c721&q=Marawi+City%2C+Autonomous+Region+Of+Muslim+Mindanao&format=json\n"
     ]
    },
    {
     "name": "stderr",
     "output_type": "stream",
     "text": [
      " 42%|████▏     | 212/500 [03:01<03:40,  1.30it/s]"
     ]
    },
    {
     "name": "stdout",
     "output_type": "stream",
     "text": [
      "Error geocoding Wichita Falls,Texas: 429 Client Error: Too Many Requests for url: https://us1.locationiq.com/v1/search.php?key=pk.141e2e5711ccfbe2bea40ef7e857c721&q=Wichita+Falls%2CTexas&format=json\n"
     ]
    },
    {
     "name": "stderr",
     "output_type": "stream",
     "text": [
      " 43%|████▎     | 213/500 [03:01<03:44,  1.28it/s]"
     ]
    },
    {
     "name": "stdout",
     "output_type": "stream",
     "text": [
      "Error geocoding Crenshaw X Slauson Ave = The District: 429 Client Error: Too Many Requests for url: https://us1.locationiq.com/v1/search.php?key=pk.141e2e5711ccfbe2bea40ef7e857c721&q=Crenshaw+X+Slauson+Ave+%3D+The+District&format=json\n"
     ]
    },
    {
     "name": "stderr",
     "output_type": "stream",
     "text": [
      " 43%|████▎     | 214/500 [03:02<03:48,  1.25it/s]"
     ]
    },
    {
     "name": "stdout",
     "output_type": "stream",
     "text": [
      "Error geocoding New South Wales, Australia: 429 Client Error: Too Many Requests for url: https://us1.locationiq.com/v1/search.php?key=pk.141e2e5711ccfbe2bea40ef7e857c721&q=New+South+Wales%2C+Australia&format=json\n"
     ]
    },
    {
     "name": "stderr",
     "output_type": "stream",
     "text": [
      " 44%|████▍     | 221/500 [03:13<04:56,  1.06s/it]"
     ]
    },
    {
     "name": "stdout",
     "output_type": "stream",
     "text": [
      "Error geocoding @literary.libations on Instagr: 404 Client Error: Not Found for url: https://us1.locationiq.com/v1/search.php?key=pk.141e2e5711ccfbe2bea40ef7e857c721&q=%40literary.libations+on+Instagr&format=json\n"
     ]
    },
    {
     "name": "stderr",
     "output_type": "stream",
     "text": [
      " 48%|████▊     | 242/500 [03:30<03:23,  1.26it/s]"
     ]
    },
    {
     "name": "stdout",
     "output_type": "stream",
     "text": [
      "Error geocoding Playing Cool Games Since ATARI: 404 Client Error: Not Found for url: https://us1.locationiq.com/v1/search.php?key=pk.141e2e5711ccfbe2bea40ef7e857c721&q=Playing+Cool+Games+Since+ATARI&format=json\n"
     ]
    },
    {
     "name": "stderr",
     "output_type": "stream",
     "text": [
      " 49%|████▉     | 244/500 [03:32<03:40,  1.16it/s]"
     ]
    },
    {
     "name": "stdout",
     "output_type": "stream",
     "text": [
      "Error geocoding info@aptitudeconsulting.co.za: 404 Client Error: Not Found for url: https://us1.locationiq.com/v1/search.php?key=pk.141e2e5711ccfbe2bea40ef7e857c721&q=info%40aptitudeconsulting.co.za&format=json\n"
     ]
    },
    {
     "name": "stderr",
     "output_type": "stream",
     "text": [
      " 49%|████▉     | 245/500 [03:32<03:34,  1.19it/s]"
     ]
    },
    {
     "name": "stdout",
     "output_type": "stream",
     "text": [
      "Error geocoding WestMonster: 404 Client Error: Not Found for url: https://us1.locationiq.com/v1/search.php?key=pk.141e2e5711ccfbe2bea40ef7e857c721&q=WestMonster&format=json\n"
     ]
    },
    {
     "name": "stderr",
     "output_type": "stream",
     "text": [
      " 52%|█████▏    | 260/500 [03:45<03:20,  1.20it/s]"
     ]
    },
    {
     "name": "stdout",
     "output_type": "stream",
     "text": [
      "Error geocoding Planeptune: 404 Client Error: Not Found for url: https://us1.locationiq.com/v1/search.php?key=pk.141e2e5711ccfbe2bea40ef7e857c721&q=Planeptune&format=json\n"
     ]
    },
    {
     "name": "stderr",
     "output_type": "stream",
     "text": [
      " 55%|█████▌    | 275/500 [03:57<03:02,  1.23it/s]"
     ]
    },
    {
     "name": "stdout",
     "output_type": "stream",
     "text": [
      "Error geocoding United States: 429 Client Error: Too Many Requests for url: https://us1.locationiq.com/v1/search.php?key=pk.141e2e5711ccfbe2bea40ef7e857c721&q=United+States&format=json\n"
     ]
    },
    {
     "name": "stderr",
     "output_type": "stream",
     "text": [
      " 55%|█████▌    | 276/500 [03:58<02:55,  1.28it/s]"
     ]
    },
    {
     "name": "stdout",
     "output_type": "stream",
     "text": [
      "Error geocoding Cardiff, Wales: 429 Client Error: Too Many Requests for url: https://us1.locationiq.com/v1/search.php?key=pk.141e2e5711ccfbe2bea40ef7e857c721&q=Cardiff%2C+Wales&format=json\n"
     ]
    },
    {
     "name": "stderr",
     "output_type": "stream",
     "text": [
      " 55%|█████▌    | 277/500 [03:58<02:50,  1.31it/s]"
     ]
    },
    {
     "name": "stdout",
     "output_type": "stream",
     "text": [
      "Error geocoding Ottawa, ON: 429 Client Error: Too Many Requests for url: https://us1.locationiq.com/v1/search.php?key=pk.141e2e5711ccfbe2bea40ef7e857c721&q=Ottawa%2C+ON&format=json\n"
     ]
    },
    {
     "name": "stderr",
     "output_type": "stream",
     "text": [
      " 56%|█████▌    | 278/500 [03:59<02:51,  1.30it/s]"
     ]
    },
    {
     "name": "stdout",
     "output_type": "stream",
     "text": [
      "Error geocoding Follow Dance Studio & Arts: 429 Client Error: Too Many Requests for url: https://us1.locationiq.com/v1/search.php?key=pk.141e2e5711ccfbe2bea40ef7e857c721&q=Follow+Dance+Studio+%26+Arts&format=json\n"
     ]
    },
    {
     "name": "stderr",
     "output_type": "stream",
     "text": [
      " 56%|█████▌    | 279/500 [04:00<02:54,  1.26it/s]"
     ]
    },
    {
     "name": "stdout",
     "output_type": "stream",
     "text": [
      "Error geocoding Colorado Springs: 429 Client Error: Too Many Requests for url: https://us1.locationiq.com/v1/search.php?key=pk.141e2e5711ccfbe2bea40ef7e857c721&q=Colorado+Springs&format=json\n"
     ]
    },
    {
     "name": "stderr",
     "output_type": "stream",
     "text": [
      " 56%|█████▌    | 280/500 [04:01<02:50,  1.29it/s]"
     ]
    },
    {
     "name": "stdout",
     "output_type": "stream",
     "text": [
      "Error geocoding Arizona, USA: 429 Client Error: Too Many Requests for url: https://us1.locationiq.com/v1/search.php?key=pk.141e2e5711ccfbe2bea40ef7e857c721&q=Arizona%2C+USA&format=json\n"
     ]
    },
    {
     "name": "stderr",
     "output_type": "stream",
     "text": [
      " 56%|█████▌    | 281/500 [04:02<02:50,  1.29it/s]"
     ]
    },
    {
     "name": "stdout",
     "output_type": "stream",
     "text": [
      "Error geocoding Durban, South Africa: 429 Client Error: Too Many Requests for url: https://us1.locationiq.com/v1/search.php?key=pk.141e2e5711ccfbe2bea40ef7e857c721&q=Durban%2C+South+Africa&format=json\n"
     ]
    },
    {
     "name": "stderr",
     "output_type": "stream",
     "text": [
      " 56%|█████▋    | 282/500 [04:02<02:46,  1.31it/s]"
     ]
    },
    {
     "name": "stdout",
     "output_type": "stream",
     "text": [
      "Error geocoding Poway, CA: 429 Client Error: Too Many Requests for url: https://us1.locationiq.com/v1/search.php?key=pk.141e2e5711ccfbe2bea40ef7e857c721&q=Poway%2C+CA&format=json\n"
     ]
    },
    {
     "name": "stderr",
     "output_type": "stream",
     "text": [
      " 57%|█████▋    | 283/500 [04:03<02:49,  1.28it/s]"
     ]
    },
    {
     "name": "stdout",
     "output_type": "stream",
     "text": [
      "Error geocoding nowhere in particular: 429 Client Error: Too Many Requests for url: https://us1.locationiq.com/v1/search.php?key=pk.141e2e5711ccfbe2bea40ef7e857c721&q=nowhere+in+particular&format=json\n"
     ]
    },
    {
     "name": "stderr",
     "output_type": "stream",
     "text": [
      " 57%|█████▋    | 284/500 [04:04<02:50,  1.27it/s]"
     ]
    },
    {
     "name": "stdout",
     "output_type": "stream",
     "text": [
      "Error geocoding Singapore: 429 Client Error: Too Many Requests for url: https://us1.locationiq.com/v1/search.php?key=pk.141e2e5711ccfbe2bea40ef7e857c721&q=Singapore&format=json\n"
     ]
    },
    {
     "name": "stderr",
     "output_type": "stream",
     "text": [
      " 57%|█████▋    | 285/500 [04:05<02:45,  1.30it/s]"
     ]
    },
    {
     "name": "stdout",
     "output_type": "stream",
     "text": [
      "Error geocoding Pasadena, CA: 429 Client Error: Too Many Requests for url: https://us1.locationiq.com/v1/search.php?key=pk.141e2e5711ccfbe2bea40ef7e857c721&q=Pasadena%2C+CA&format=json\n"
     ]
    },
    {
     "name": "stderr",
     "output_type": "stream",
     "text": [
      " 57%|█████▋    | 286/500 [04:05<02:40,  1.34it/s]"
     ]
    },
    {
     "name": "stdout",
     "output_type": "stream",
     "text": [
      "Error geocoding 1021|Msawuden : 429 Client Error: Too Many Requests for url: https://us1.locationiq.com/v1/search.php?key=pk.141e2e5711ccfbe2bea40ef7e857c721&q=1021%7CMsawuden+&format=json\n"
     ]
    },
    {
     "name": "stderr",
     "output_type": "stream",
     "text": [
      " 57%|█████▋    | 287/500 [04:06<02:36,  1.36it/s]"
     ]
    },
    {
     "name": "stdout",
     "output_type": "stream",
     "text": [
      "Error geocoding New York, NY: 429 Client Error: Too Many Requests for url: https://us1.locationiq.com/v1/search.php?key=pk.141e2e5711ccfbe2bea40ef7e857c721&q=New+York%2C+NY&format=json\n"
     ]
    },
    {
     "name": "stderr",
     "output_type": "stream",
     "text": [
      " 60%|█████▉    | 299/500 [04:17<03:13,  1.04it/s]"
     ]
    },
    {
     "name": "stdout",
     "output_type": "stream",
     "text": [
      "Error geocoding ????????: 404 Client Error: Not Found for url: https://us1.locationiq.com/v1/search.php?key=pk.141e2e5711ccfbe2bea40ef7e857c721&q=%3F%3F%3F%3F%3F%3F%3F%3F&format=json\n"
     ]
    },
    {
     "name": "stderr",
     "output_type": "stream",
     "text": [
      " 66%|██████▌   | 328/500 [04:41<02:21,  1.22it/s]"
     ]
    },
    {
     "name": "stdout",
     "output_type": "stream",
     "text": [
      "Error geocoding Hollyweird, CA: 404 Client Error: Not Found for url: https://us1.locationiq.com/v1/search.php?key=pk.141e2e5711ccfbe2bea40ef7e857c721&q=Hollyweird%2C+CA&format=json\n"
     ]
    },
    {
     "name": "stderr",
     "output_type": "stream",
     "text": [
      " 70%|██████▉   | 348/500 [04:57<02:05,  1.21it/s]"
     ]
    },
    {
     "name": "stdout",
     "output_type": "stream",
     "text": [
      "Error geocoding WANA/Arab region: 429 Client Error: Too Many Requests for url: https://us1.locationiq.com/v1/search.php?key=pk.141e2e5711ccfbe2bea40ef7e857c721&q=WANA%2FArab+region&format=json\n"
     ]
    },
    {
     "name": "stderr",
     "output_type": "stream",
     "text": [
      " 70%|██████▉   | 349/500 [04:58<01:59,  1.26it/s]"
     ]
    },
    {
     "name": "stdout",
     "output_type": "stream",
     "text": [
      "Error geocoding Onitsha, Nigeria: 429 Client Error: Too Many Requests for url: https://us1.locationiq.com/v1/search.php?key=pk.141e2e5711ccfbe2bea40ef7e857c721&q=Onitsha%2C+Nigeria&format=json\n"
     ]
    },
    {
     "name": "stderr",
     "output_type": "stream",
     "text": [
      " 70%|███████   | 350/500 [04:58<01:55,  1.30it/s]"
     ]
    },
    {
     "name": "stdout",
     "output_type": "stream",
     "text": [
      "Error geocoding Lenasia South, JHB: 429 Client Error: Too Many Requests for url: https://us1.locationiq.com/v1/search.php?key=pk.141e2e5711ccfbe2bea40ef7e857c721&q=Lenasia+South%2C+JHB&format=json\n"
     ]
    },
    {
     "name": "stderr",
     "output_type": "stream",
     "text": [
      " 70%|███████   | 351/500 [04:59<01:59,  1.25it/s]"
     ]
    },
    {
     "name": "stdout",
     "output_type": "stream",
     "text": [
      "Error geocoding Bournemouth, England: 429 Client Error: Too Many Requests for url: https://us1.locationiq.com/v1/search.php?key=pk.141e2e5711ccfbe2bea40ef7e857c721&q=Bournemouth%2C+England&format=json\n"
     ]
    },
    {
     "name": "stderr",
     "output_type": "stream",
     "text": [
      " 70%|███████   | 352/500 [05:00<02:03,  1.20it/s]"
     ]
    },
    {
     "name": "stdout",
     "output_type": "stream",
     "text": [
      "Error geocoding Wichita, KS: 429 Client Error: Too Many Requests for url: https://us1.locationiq.com/v1/search.php?key=pk.141e2e5711ccfbe2bea40ef7e857c721&q=Wichita%2C+KS&format=json\n"
     ]
    },
    {
     "name": "stderr",
     "output_type": "stream",
     "text": [
      " 71%|███████   | 353/500 [05:01<02:01,  1.21it/s]"
     ]
    },
    {
     "name": "stdout",
     "output_type": "stream",
     "text": [
      "Error geocoding ????She/Her ? Global: 429 Client Error: Too Many Requests for url: https://us1.locationiq.com/v1/search.php?key=pk.141e2e5711ccfbe2bea40ef7e857c721&q=%3F%3F%3F%3FShe%2FHer+%3F+Global&format=json\n"
     ]
    },
    {
     "name": "stderr",
     "output_type": "stream",
     "text": [
      " 71%|███████   | 354/500 [05:02<01:56,  1.26it/s]"
     ]
    },
    {
     "name": "stdout",
     "output_type": "stream",
     "text": [
      "Error geocoding SF Bay Area & the OC: 429 Client Error: Too Many Requests for url: https://us1.locationiq.com/v1/search.php?key=pk.141e2e5711ccfbe2bea40ef7e857c721&q=SF+Bay+Area+%26+the+OC&format=json\n"
     ]
    },
    {
     "name": "stderr",
     "output_type": "stream",
     "text": [
      " 71%|███████   | 355/500 [05:02<01:52,  1.29it/s]"
     ]
    },
    {
     "name": "stdout",
     "output_type": "stream",
     "text": [
      "Error geocoding CumiÃ¨res-le-Mort-Homme, France: 429 Client Error: Too Many Requests for url: https://us1.locationiq.com/v1/search.php?key=pk.141e2e5711ccfbe2bea40ef7e857c721&q=Cumi%C3%83%C2%A8res-le-Mort-Homme%2C+France&format=json\n"
     ]
    },
    {
     "name": "stderr",
     "output_type": "stream",
     "text": [
      " 73%|███████▎  | 367/500 [05:17<01:54,  1.16it/s]"
     ]
    },
    {
     "name": "stdout",
     "output_type": "stream",
     "text": [
      "Error geocoding #TheGreenPibble: 404 Client Error: Not Found for url: https://us1.locationiq.com/v1/search.php?key=pk.141e2e5711ccfbe2bea40ef7e857c721&q=%23TheGreenPibble&format=json\n"
     ]
    },
    {
     "name": "stderr",
     "output_type": "stream",
     "text": [
      " 83%|████████▎ | 416/500 [05:57<01:04,  1.29it/s]"
     ]
    },
    {
     "name": "stdout",
     "output_type": "stream",
     "text": [
      "Error geocoding Berne, Switzerland: 429 Client Error: Too Many Requests for url: https://us1.locationiq.com/v1/search.php?key=pk.141e2e5711ccfbe2bea40ef7e857c721&q=Berne%2C+Switzerland&format=json\n"
     ]
    },
    {
     "name": "stderr",
     "output_type": "stream",
     "text": [
      " 83%|████████▎ | 417/500 [05:58<01:03,  1.31it/s]"
     ]
    },
    {
     "name": "stdout",
     "output_type": "stream",
     "text": [
      "Error geocoding Kenya: 429 Client Error: Too Many Requests for url: https://us1.locationiq.com/v1/search.php?key=pk.141e2e5711ccfbe2bea40ef7e857c721&q=Kenya&format=json\n"
     ]
    },
    {
     "name": "stderr",
     "output_type": "stream",
     "text": [
      " 84%|████████▎ | 418/500 [05:59<01:04,  1.28it/s]"
     ]
    },
    {
     "name": "stdout",
     "output_type": "stream",
     "text": [
      "Error geocoding Vancouver, BC, Canada: 429 Client Error: Too Many Requests for url: https://us1.locationiq.com/v1/search.php?key=pk.141e2e5711ccfbe2bea40ef7e857c721&q=Vancouver%2C+BC%2C+Canada&format=json\n"
     ]
    },
    {
     "name": "stderr",
     "output_type": "stream",
     "text": [
      " 84%|████████▍ | 419/500 [06:00<01:07,  1.20it/s]"
     ]
    },
    {
     "name": "stdout",
     "output_type": "stream",
     "text": [
      "Error geocoding Edmonton: 429 Client Error: Too Many Requests for url: https://us1.locationiq.com/v1/search.php?key=pk.141e2e5711ccfbe2bea40ef7e857c721&q=Edmonton&format=json\n"
     ]
    },
    {
     "name": "stderr",
     "output_type": "stream",
     "text": [
      " 84%|████████▍ | 420/500 [06:01<01:04,  1.23it/s]"
     ]
    },
    {
     "name": "stdout",
     "output_type": "stream",
     "text": [
      "Error geocoding Cleveland, Ohio: 429 Client Error: Too Many Requests for url: https://us1.locationiq.com/v1/search.php?key=pk.141e2e5711ccfbe2bea40ef7e857c721&q=Cleveland%2C+Ohio&format=json\n"
     ]
    },
    {
     "name": "stderr",
     "output_type": "stream",
     "text": [
      " 84%|████████▍ | 421/500 [06:01<01:01,  1.28it/s]"
     ]
    },
    {
     "name": "stdout",
     "output_type": "stream",
     "text": [
      "Error geocoding Leicester, England: 429 Client Error: Too Many Requests for url: https://us1.locationiq.com/v1/search.php?key=pk.141e2e5711ccfbe2bea40ef7e857c721&q=Leicester%2C+England&format=json\n"
     ]
    },
    {
     "name": "stderr",
     "output_type": "stream",
     "text": [
      " 84%|████████▍ | 422/500 [06:02<00:59,  1.30it/s]"
     ]
    },
    {
     "name": "stdout",
     "output_type": "stream",
     "text": [
      "Error geocoding Cape Cod, MA: 429 Client Error: Too Many Requests for url: https://us1.locationiq.com/v1/search.php?key=pk.141e2e5711ccfbe2bea40ef7e857c721&q=Cape+Cod%2C+MA&format=json\n"
     ]
    },
    {
     "name": "stderr",
     "output_type": "stream",
     "text": [
      " 85%|████████▍ | 423/500 [06:03<00:57,  1.33it/s]"
     ]
    },
    {
     "name": "stdout",
     "output_type": "stream",
     "text": [
      "Error geocoding Methuen, Mass.: 429 Client Error: Too Many Requests for url: https://us1.locationiq.com/v1/search.php?key=pk.141e2e5711ccfbe2bea40ef7e857c721&q=Methuen%2C+Mass.&format=json\n"
     ]
    },
    {
     "name": "stderr",
     "output_type": "stream",
     "text": [
      " 85%|████████▍ | 424/500 [06:04<00:58,  1.31it/s]"
     ]
    },
    {
     "name": "stdout",
     "output_type": "stream",
     "text": [
      "Error geocoding AmazonBooks: 429 Client Error: Too Many Requests for url: https://us1.locationiq.com/v1/search.php?key=pk.141e2e5711ccfbe2bea40ef7e857c721&q=AmazonBooks&format=json\n"
     ]
    },
    {
     "name": "stderr",
     "output_type": "stream",
     "text": [
      " 85%|████████▌ | 425/500 [06:04<00:58,  1.29it/s]"
     ]
    },
    {
     "name": "stdout",
     "output_type": "stream",
     "text": [
      "Error geocoding Devon, England: 429 Client Error: Too Many Requests for url: https://us1.locationiq.com/v1/search.php?key=pk.141e2e5711ccfbe2bea40ef7e857c721&q=Devon%2C+England&format=json\n"
     ]
    },
    {
     "name": "stderr",
     "output_type": "stream",
     "text": [
      " 85%|████████▌ | 426/500 [06:05<00:59,  1.25it/s]"
     ]
    },
    {
     "name": "stdout",
     "output_type": "stream",
     "text": [
      "Error geocoding West Midlands: 429 Client Error: Too Many Requests for url: https://us1.locationiq.com/v1/search.php?key=pk.141e2e5711ccfbe2bea40ef7e857c721&q=West+Midlands&format=json\n"
     ]
    },
    {
     "name": "stderr",
     "output_type": "stream",
     "text": [
      " 85%|████████▌ | 427/500 [06:06<00:58,  1.25it/s]"
     ]
    },
    {
     "name": "stdout",
     "output_type": "stream",
     "text": [
      "Error geocoding Williamsport, MD: 429 Client Error: Too Many Requests for url: https://us1.locationiq.com/v1/search.php?key=pk.141e2e5711ccfbe2bea40ef7e857c721&q=Williamsport%2C+MD&format=json\n"
     ]
    },
    {
     "name": "stderr",
     "output_type": "stream",
     "text": [
      " 98%|█████████▊| 488/500 [06:55<00:09,  1.22it/s]"
     ]
    },
    {
     "name": "stdout",
     "output_type": "stream",
     "text": [
      "Error geocoding Hyderabad: 429 Client Error: Too Many Requests for url: https://us1.locationiq.com/v1/search.php?key=pk.141e2e5711ccfbe2bea40ef7e857c721&q=Hyderabad&format=json\n"
     ]
    },
    {
     "name": "stderr",
     "output_type": "stream",
     "text": [
      " 98%|█████████▊| 489/500 [06:55<00:08,  1.26it/s]"
     ]
    },
    {
     "name": "stdout",
     "output_type": "stream",
     "text": [
      "Error geocoding email Dan@630wpro.com: 429 Client Error: Too Many Requests for url: https://us1.locationiq.com/v1/search.php?key=pk.141e2e5711ccfbe2bea40ef7e857c721&q=email+Dan%40630wpro.com&format=json\n"
     ]
    },
    {
     "name": "stderr",
     "output_type": "stream",
     "text": [
      " 98%|█████████▊| 490/500 [06:56<00:07,  1.28it/s]"
     ]
    },
    {
     "name": "stdout",
     "output_type": "stream",
     "text": [
      "Error geocoding Toronto, Ontario: 429 Client Error: Too Many Requests for url: https://us1.locationiq.com/v1/search.php?key=pk.141e2e5711ccfbe2bea40ef7e857c721&q=Toronto%2C+Ontario&format=json\n"
     ]
    },
    {
     "name": "stderr",
     "output_type": "stream",
     "text": [
      " 98%|█████████▊| 491/500 [06:57<00:06,  1.30it/s]"
     ]
    },
    {
     "name": "stdout",
     "output_type": "stream",
     "text": [
      "Error geocoding Virtually Everywhere: 429 Client Error: Too Many Requests for url: https://us1.locationiq.com/v1/search.php?key=pk.141e2e5711ccfbe2bea40ef7e857c721&q=Virtually+Everywhere&format=json\n"
     ]
    },
    {
     "name": "stderr",
     "output_type": "stream",
     "text": [
      " 98%|█████████▊| 492/500 [06:58<00:06,  1.32it/s]"
     ]
    },
    {
     "name": "stdout",
     "output_type": "stream",
     "text": [
      "Error geocoding Philippines: 429 Client Error: Too Many Requests for url: https://us1.locationiq.com/v1/search.php?key=pk.141e2e5711ccfbe2bea40ef7e857c721&q=Philippines&format=json\n"
     ]
    },
    {
     "name": "stderr",
     "output_type": "stream",
     "text": [
      " 99%|█████████▊| 493/500 [06:58<00:05,  1.34it/s]"
     ]
    },
    {
     "name": "stdout",
     "output_type": "stream",
     "text": [
      "Error geocoding Denver, CO: 429 Client Error: Too Many Requests for url: https://us1.locationiq.com/v1/search.php?key=pk.141e2e5711ccfbe2bea40ef7e857c721&q=Denver%2C+CO&format=json\n"
     ]
    },
    {
     "name": "stderr",
     "output_type": "stream",
     "text": [
      " 99%|█████████▉| 494/500 [06:59<00:04,  1.35it/s]"
     ]
    },
    {
     "name": "stdout",
     "output_type": "stream",
     "text": [
      "Error geocoding Hackney: 429 Client Error: Too Many Requests for url: https://us1.locationiq.com/v1/search.php?key=pk.141e2e5711ccfbe2bea40ef7e857c721&q=Hackney&format=json\n"
     ]
    },
    {
     "name": "stderr",
     "output_type": "stream",
     "text": [
      " 99%|█████████▉| 495/500 [07:00<00:03,  1.32it/s]"
     ]
    },
    {
     "name": "stdout",
     "output_type": "stream",
     "text": [
      "Error geocoding London: 429 Client Error: Too Many Requests for url: https://us1.locationiq.com/v1/search.php?key=pk.141e2e5711ccfbe2bea40ef7e857c721&q=London&format=json\n"
     ]
    },
    {
     "name": "stderr",
     "output_type": "stream",
     "text": [
      " 99%|█████████▉| 496/500 [07:01<00:03,  1.23it/s]"
     ]
    },
    {
     "name": "stdout",
     "output_type": "stream",
     "text": [
      "Error geocoding Hyderabad : 429 Client Error: Too Many Requests for url: https://us1.locationiq.com/v1/search.php?key=pk.141e2e5711ccfbe2bea40ef7e857c721&q=Hyderabad+&format=json\n"
     ]
    },
    {
     "name": "stderr",
     "output_type": "stream",
     "text": [
      " 99%|█████████▉| 497/500 [07:02<00:02,  1.27it/s]"
     ]
    },
    {
     "name": "stdout",
     "output_type": "stream",
     "text": [
      "Error geocoding Warwick: 429 Client Error: Too Many Requests for url: https://us1.locationiq.com/v1/search.php?key=pk.141e2e5711ccfbe2bea40ef7e857c721&q=Warwick&format=json\n"
     ]
    },
    {
     "name": "stderr",
     "output_type": "stream",
     "text": [
      "100%|█████████▉| 498/500 [07:02<00:01,  1.31it/s]"
     ]
    },
    {
     "name": "stdout",
     "output_type": "stream",
     "text": [
      "Error geocoding London, England: 429 Client Error: Too Many Requests for url: https://us1.locationiq.com/v1/search.php?key=pk.141e2e5711ccfbe2bea40ef7e857c721&q=London%2C+England&format=json\n"
     ]
    },
    {
     "name": "stderr",
     "output_type": "stream",
     "text": [
      "100%|██████████| 500/500 [07:09<00:00,  1.16it/s]\n"
     ]
    }
   ],
   "source": [
    "def geocode_locationiq(location):\n",
    "    url = \"https://us1.locationiq.com/v1/search.php\"\n",
    "    params = {\n",
    "        \"key\": LOCATION_IQ_TOKEN,\n",
    "        \"q\": location,\n",
    "        \"format\": \"json\"\n",
    "    }\n",
    "    try:\n",
    "        response = requests.get(url, params=params)\n",
    "        response.raise_for_status()\n",
    "        data = response.json()\n",
    "        if isinstance(data, list) and data:\n",
    "            return float(data[0]['lat']), float(data[0]['lon'])\n",
    "        else:\n",
    "            return None, None\n",
    "    except Exception as e:\n",
    "        print(f\"Error geocoding {location}: {e}\")\n",
    "        return None, None\n",
    "\n",
    "if RUN_MAP_VIZUALIZATION:\n",
    "    results = []\n",
    "    for loc in tqdm(map_viz_df['Location']):\n",
    "        lat, lon = geocode_locationiq(loc)\n",
    "        results.append((lat, lon))\n",
    "        time.sleep(0.5)  # Needed throttle (LocationIQ free tier = 2 req/sec)\n",
    "    map_viz_df[['latitude', 'longitude']] = pd.DataFrame(results, index=map_viz_df.index)\n",
    "\n"
   ]
  },
  {
   "cell_type": "markdown",
   "id": "592292c6",
   "metadata": {},
   "source": [
    "Plot on map"
   ]
  },
  {
   "cell_type": "code",
   "execution_count": 30,
   "id": "1a49b04d",
   "metadata": {
    "colab": {
     "base_uri": "https://localhost:8080/",
     "height": 70
    },
    "id": "1a49b04d",
    "outputId": "8424cd6b-639c-4cdd-e596-5064be072fb4"
   },
   "outputs": [
    {
     "name": "stderr",
     "output_type": "stream",
     "text": [
      "C:\\Users\\MotiM\\AppData\\Local\\Temp\\ipykernel_14088\\2415151948.py:2: FutureWarning:\n",
      "\n",
      "Dropping invalid columns in DataFrameGroupBy.add is deprecated. In a future version, a TypeError will be raised. Before calling .add, select only columns which should be valid for the function.\n",
      "\n"
     ]
    },
    {
     "data": {
      "application/vnd.plotly.v1+json": {
       "config": {
        "plotlyServerURL": "https://plot.ly"
       },
       "data": [
        {
         "coloraxis": "coloraxis",
         "hovertemplate": "sentiment_score=%{z}<br>latitude=%{lat}<br>longitude=%{lon}<extra></extra>",
         "lat": [
          35.6729639,
          25.9812025,
          -33.8698439,
          -41.5000831,
          36.1622767,
          23.4610615,
          41.6500201,
          51.1638175,
          19.054999,
          -37.8142454,
          43.6534817,
          23.2584857,
          43.6534817,
          40.7947222,
          6.4550575,
          49.2608724,
          30.3308401,
          25.6093239,
          56.1156137,
          39.7837304,
          33.0283854,
          37.7792588,
          40.7587838,
          47.6571934,
          -1.4481149,
          53.7974185,
          51.0000002,
          32.723268,
          51.642737249999996,
          33.2588817,
          40.7127281,
          39.5162401,
          39.7837304,
          41.8755616,
          30.3849632,
          51.5074456,
          41.4406084,
          53.1389753,
          40.7944504,
          null,
          -16.7643235,
          -43.530955,
          35.672803,
          18.567412500000003,
          37.7792588,
          37.970495,
          -1.3026148499999999,
          -41.275618800000004,
          33.8708215,
          52.5310214,
          41.8755616,
          36.29885175,
          47.6038321,
          -41.5000831,
          35.7803977,
          -33.8698439,
          38.8950368,
          -15.80752915,
          24.8546842,
          47.6038321,
          27.6886419,
          -1.27900465,
          -28.8166236,
          37.6922361,
          52.5310214,
          38.5810606,
          23.0215374,
          12.3051828,
          50.7352621,
          null,
          null,
          null,
          null,
          null,
          null,
          null,
          38.7311123,
          35.7490023,
          36.7014631,
          34.0536909,
          37.93852375,
          51.2239544,
          52.2434979,
          -41.283683,
          10.5060934,
          38.4898675,
          39.7837304,
          18.5213738,
          28.9174855,
          54.7023545,
          42.3315509,
          14.6510546,
          52.666667,
          45.4208777,
          42.437417499999995,
          null,
          48.2083537,
          2.726855,
          51.0456064,
          41.8755616,
          53.3493795,
          19.054999,
          42.3315509,
          40.6526006,
          35.4729886,
          61.1529386,
          42.088442,
          51.4816546,
          40.781625,
          42.9905492,
          null,
          52.0579324,
          53.3806626,
          37.5666791,
          40.785734,
          28.6517178,
          1.357107,
          41.8755616,
          33.7489924,
          37.1232245,
          null,
          55.6052931,
          55.9286442,
          51.8784385,
          54.7023545,
          1.357107,
          41.0339862,
          40.375713,
          40.9699889,
          37.4429964,
          38.8950368,
          35.6876096,
          34.0536909,
          42.3554334,
          -33.8698439,
          56.3473407,
          null,
          null,
          null,
          null,
          null,
          null,
          null,
          null,
          null,
          null,
          null,
          null,
          36.7014631,
          -24.7761086,
          41.7690695,
          24.474487,
          40.1392766,
          29.7851029,
          null,
          47.6582198,
          52.4796992,
          43.6211955,
          39.9786296,
          9.759159,
          56.7861112,
          51.7634675,
          null,
          51.0456064,
          16.5099109,
          51.0456064,
          25.074282349999997,
          43.6534817,
          -1.3026148499999999,
          42.3554334,
          39.7837304,
          51.7520131,
          22.3511148,
          -31.9558933,
          8.4963657,
          29.4246002,
          33.7489924,
          38.7251776,
          53.4794892,
          null,
          51.5004439,
          31,
          34.2331373,
          39.7837304,
          33.403229,
          39.9527237,
          51.2078275,
          -0.60467,
          -36.5986096,
          36.5748441,
          37.0412584,
          34.0536909,
          38.8950368,
          53.3493795,
          39.359152,
          16.5099109,
          41.9153358,
          51.5323423,
          44.3048009,
          6.4550575,
          52.98430785,
          51.6520851,
          25.6093239,
          54.7023545,
          11.5024338,
          45.022172,
          40.7127281,
          null,
          null,
          null,
          null,
          null,
          null,
          null,
          null,
          32.5143898,
          42.3788774,
          51.5030443,
          28.64308585,
          33.34883,
          51.5074456,
          null,
          51.5074456,
          52.5310214,
          -28.8166236,
          52.865196,
          39.92176275,
          29.9759983,
          33.5206824,
          32.612602,
          39.7837304,
          25.7741728,
          -33.987952,
          44.2057083,
          53.5462055,
          44.5990718,
          52.5747187,
          53.8320958,
          41.8755616,
          48.2083537,
          47.5614705,
          54.7023545,
          null,
          41.8755616,
          null,
          null,
          35.2272086,
          52.5310214,
          53.685418,
          -27.5610193,
          12.7503486,
          51.5074456,
          40.7127281,
          51.0000002,
          43.9792797,
          41.4996574,
          61.0666922,
          40.7696272,
          52.5310214,
          11.9918671,
          null,
          42.9300668,
          35.7803977,
          37.5726028,
          45.5202471,
          51.4863958,
          34.3129464,
          40.7896239,
          37.7792588,
          51.5074456,
          51.5156177,
          35.7803977,
          44.6092059,
          32.9715285,
          30.4380832,
          null,
          null,
          null,
          null,
          null,
          null,
          null,
          null,
          null,
          null,
          null,
          null,
          null,
          42.1900249,
          42.9832406,
          22.2793278,
          40.1164841,
          -33.9288301,
          39.1014537,
          1.357107,
          25.074282349999997,
          36.7014631,
          19.1773954,
          -37.674207,
          null,
          -28.8166236,
          42.6511674,
          43.093354,
          32.6475314,
          51.5074456,
          37.987648,
          52.5310214,
          16.5099109,
          43.6534817,
          15.640174,
          53.3493795,
          29.784753,
          22.2793278,
          51.4816546,
          51.5030443,
          29.7589382,
          14.5480343,
          34.395342,
          42.3788774,
          13.0836939,
          40.6526006,
          42.5407167,
          40.7127281,
          48.4283182,
          -23.718249,
          30.2711286,
          51.5074456,
          55.1315321,
          null,
          -29.861825,
          23.6579595,
          42.523669,
          24.5548262,
          55.001251,
          40.7127281,
          39.7837304,
          50.0491699,
          40.0757384,
          51.5455033,
          53.7440745,
          45.5031824,
          21.2380912,
          -37.8142454,
          40.7433066,
          52.3828397,
          42.9832406,
          22.785169155555554,
          34.0536909,
          null,
          null,
          null,
          null,
          null,
          null,
          null,
          null,
          41.4996574,
          39.9527237,
          6.4550575,
          44.9772995,
          19.4326296,
          42.4134836,
          38.8950368,
          40.53981,
          33.6117105,
          34.5802074,
          30.4380832,
          null,
          42.6615412,
          35.0000663,
          41.4996574,
          33.6874388,
          32.7174202,
          47.7623204,
          10.028712,
          24.8546842,
          46.500283,
          -33.8938107,
          37.2081729,
          39.7837304,
          34.2331373,
          0.3177137,
          51.5074456,
          39.100105,
          27.7567667,
          22.3511148,
          42.6511674,
          40.7596198,
          6.458683,
          29.4246002,
          -18.1239696,
          40.3496953,
          33.253333,
          28.6419258,
          39.7837304,
          32.7762719,
          23.5882019,
          41.8755616,
          33.6874388,
          32.7174202,
          34.0536909,
          27.7567667,
          43.6534817,
          37.8081685,
          53.4071991,
          41.6808672,
          54.7023545,
          51.5074456,
          42.3315509,
          52.5310214,
          49.110933,
          54.091592750000004,
          51.5074456,
          39.7837304,
          53.3806626,
          -18.1239696,
          null,
          null,
          null,
          null,
          null,
          null,
          null,
          null,
          null,
          null,
          null,
          null,
          42.5361805,
          56.7861112,
          1.3165066,
          51.5074456,
          33.9597677,
          43.6534817,
          35.8885993,
          38.5810606,
          41.8878145,
          40.7127281,
          28.6517178,
          40.9699889,
          34.0536909,
          33.4484367,
          51.5074456,
          51.5232789,
          28.5706333,
          6.4550575,
          28.64308585,
          22.3511148,
          23.69032,
          17.360589,
          61.0666922,
          38.8950368,
          16.5099109,
          44.4761601,
          39.7837304,
          54.7023545,
          29.7589382,
          50.90894935,
          43.6534817,
          33.6874388,
          -30.245967,
          18.9068356,
          40.434218,
          50.6402809,
          42.437417499999995,
          37.496904,
          41.896471,
          51.5081127,
          31.9524685,
          44.6425012,
          -0.2201641,
          51.5362883,
          51.4096275,
          42.3554334,
          29.784753,
          37.6624312,
          43.1778085,
          51.531713100000005,
          51.5074456,
          40.3270127,
          40.0796606,
          34.0536909,
          45.5202471,
          50.109345950000005,
          39.9527237,
          34.2176371,
          30.9293211,
          27.7567667,
          null,
          null,
          null,
          null,
          null,
          null,
          null,
          null,
          null,
          null,
          null,
          11.0248119
         ],
         "lon": [
          -79.0392919,
          -80.148379,
          151.2082848,
          172.8344077,
          -86.7742984,
          91.1808748,
          -72.7342163,
          10.4478313,
          72.8692035,
          144.9631732,
          -79.3839347,
          77.401989,
          -79.3839347,
          -73.9425,
          3.3941795,
          -123.113952,
          71.247499,
          85.1235252,
          -3.7922423,
          -100.445882,
          -97.0867203,
          -122.4193286,
          -73.8306503,
          -117.42351,
          36.971587,
          -1.5437941,
          -109,
          -114.6179954,
          -0.4510282863423837,
          -86.8295337,
          -74.0060152,
          -76.9382069,
          -100.445882,
          -87.6244212,
          -97.6496465,
          -0.1277653,
          -75.6260271,
          8.2146017,
          -77.8616386,
          null,
          -49.43397430215106,
          172.6364343,
          47.0124376,
          73.77641686826863,
          -122.4193286,
          -87.5715641,
          36.82884201813725,
          174.78376177208366,
          -117.929416,
          -1.2649062,
          -87.6244212,
          -82.35919331410948,
          -122.330062,
          172.8344077,
          -78.6390989,
          151.2082848,
          -77.0365427,
          -47.87384817034305,
          67.0207055,
          -122.330062,
          -82.5723193,
          37.39526976452546,
          24.991639,
          -97.3375448,
          -1.2649062,
          -121.493895,
          72.5800568,
          76.6553609,
          7.1024635,
          null,
          null,
          null,
          null,
          null,
          null,
          null,
          -95.2414104,
          -84.320293,
          -118.755997,
          -118.242766,
          23.661628673564437,
          1.4027344,
          5.6343227,
          174.905424,
          -66.9146008,
          -122.3218414,
          -100.445882,
          73.8545071,
          -81.9228604,
          -3.2765753,
          -83.0466403,
          121.0486254,
          1,
          -75.6901106,
          -76.54837235139263,
          null,
          16.3725042,
          101.723619,
          -114.057541,
          -87.6244212,
          -6.2605593,
          72.8692035,
          -83.0466403,
          -73.9497211,
          -97.5170536,
          8.7876653,
          -84.211181,
          -3.1791934,
          -77.877355,
          -89.5335575,
          null,
          1.1528095,
          -1.4702278,
          126.9782914,
          -74.009098,
          77.2219388,
          103.8194992,
          -87.6244212,
          -84.3902644,
          -78.4927721,
          null,
          13.0001566,
          -4.3979459,
          -0.4152837,
          -3.2765753,
          103.8194992,
          -73.7629097,
          -76.4626118,
          -77.7278831,
          -122.1545229,
          -77.0365427,
          -105.938456,
          -118.242766,
          -71.060511,
          151.2082848,
          -2.8050703,
          null,
          null,
          null,
          null,
          null,
          null,
          null,
          null,
          null,
          null,
          null,
          null,
          -118.755997,
          134.755,
          -72.6206449,
          81.846893,
          -74.9810019,
          -82.46847607232229,
          null,
          -122.3476777,
          -1.9026911,
          -84.6824346,
          -74.5614824,
          118.759845,
          -4.1140518,
          -0.2258741,
          null,
          -114.057541,
          80.6762186,
          -114.057541,
          55.18853865430702,
          -79.3839347,
          36.82884201813725,
          -71.060511,
          -100.445882,
          -1.2578499,
          78.6677428,
          115.8605855,
          4.5480484,
          -98.4951405,
          -84.3902644,
          -105.607716,
          -2.2451148,
          null,
          -0.1265398,
          72,
          -102.4107493,
          -100.445882,
          -111.923357,
          -75.1635262,
          -1.479355,
          30.64851,
          144.6780052,
          139.2394179,
          50.0068157,
          -118.242766,
          -77.0365427,
          -6.2605593,
          -120.266932,
          80.6762186,
          -83.5135665,
          9.937216,
          -78.3199496,
          3.3941795,
          -3.932482297247055,
          -0.0810175,
          85.1235252,
          -3.2765753,
          17.7578122,
          4.3221548,
          -74.0060152,
          null,
          null,
          null,
          null,
          null,
          null,
          null,
          null,
          -96.8066615,
          -72.032366,
          -0.0015493,
          77.21926705734865,
          -112.49123,
          -0.1277653,
          null,
          -0.1277653,
          -1.2649062,
          24.991639,
          -7.9794599,
          116.42988483398855,
          -90.0782127,
          -86.8024326,
          -90.0367512,
          -100.445882,
          -80.19362,
          18.476826114477987,
          -70.75378387447887,
          -113.491241,
          -72.5002608,
          -1.1251481,
          -1.6439739,
          -87.6244212,
          16.3725042,
          -52.7126162,
          -3.2765753,
          null,
          -87.6244212,
          null,
          null,
          -80.8430827,
          -1.2649062,
          -113.262277,
          151.953351,
          122.7312101,
          -0.1277653,
          -74.0060152,
          -109,
          -120.737257,
          -81.6936772,
          -107.991707,
          44.6736646,
          -1.2649062,
          8.5303654,
          null,
          -75.8526969,
          -78.6390989,
          -85.1551411,
          -122.674194,
          -0.3216623,
          -78.1611077,
          -73.9598939,
          -122.4193286,
          -0.1277653,
          -0.0919983,
          -78.6390989,
          -79.4175587,
          -89.7348497,
          -84.2809332,
          null,
          null,
          null,
          null,
          null,
          null,
          null,
          null,
          null,
          null,
          null,
          null,
          null,
          -87.9084039,
          -81.243372,
          114.1628131,
          -88.2430932,
          18.4172197,
          -84.5124602,
          103.8194992,
          55.18853865430702,
          -118.755997,
          30.4524924,
          176.166578,
          null,
          24.991639,
          -73.754968,
          -79.07426,
          54.5643516,
          -0.1277653,
          -87.401784,
          -1.2649062,
          80.6762186,
          -79.3839347,
          73.7193707,
          -6.2605593,
          -95.361416,
          114.1628131,
          -3.1791934,
          -0.0015493,
          -95.3676974,
          121.0128136,
          -111.763275,
          -72.032366,
          80.270186,
          -73.9497211,
          1.5732033,
          -74.0060152,
          -123.364953,
          -46.548971,
          -97.7436995,
          -0.1277653,
          -2.0724884535351493,
          null,
          31.009909,
          86.0839161,
          -78.47797101598792,
          -81.8020722,
          -125.002441,
          -74.0060152,
          -100.445882,
          1.4175744,
          -74.4041622,
          13.9581679,
          -1.5988598,
          -73.5698065,
          81.6336993,
          144.9631732,
          -74.0323752,
          -8.0635351,
          -81.243372,
          121.04914751111112,
          -118.242766,
          null,
          null,
          null,
          null,
          null,
          null,
          null,
          null,
          -81.6936772,
          -75.1635262,
          3.3941795,
          -93.2654692,
          -99.1331785,
          -70.991668,
          -77.0365427,
          -74.360141,
          -111.717361,
          -105.996047,
          -84.2809332,
          null,
          -85.3117964,
          104.999955,
          -81.6936772,
          -80.4363743,
          -117.162772,
          -122.2054035,
          105.787109,
          67.0207055,
          -66.750183,
          151.2621478,
          -93.2922715,
          -100.445882,
          -102.4107493,
          32.5813539,
          -0.1277653,
          -94.5781416,
          -81.4639835,
          78.6677428,
          -73.754968,
          -111.886797,
          3.387703,
          -98.4951405,
          179.0122737,
          -74.6597376,
          44.828889,
          77.2217499,
          -100.445882,
          -96.7968559,
          58.3829448,
          -87.6244212,
          -80.4363743,
          -117.162772,
          -118.242766,
          -81.4639835,
          -79.3839347,
          -121.3003197,
          -2.99168,
          44.0287806,
          -3.2765753,
          -0.1277653,
          -83.0466403,
          -1.2649062,
          -122.646124,
          -1.535911258050148,
          -0.1277653,
          -100.445882,
          -1.4702278,
          179.0122737,
          null,
          null,
          null,
          null,
          null,
          null,
          null,
          null,
          null,
          null,
          null,
          null,
          -92.447758,
          -4.1140518,
          103.8625991,
          -0.1277653,
          -83.376398,
          -79.3839347,
          14.4476911,
          -121.493895,
          -87.7887615,
          -74.0060152,
          77.2219388,
          -77.7278831,
          -118.242766,
          -112.074141,
          -0.1277653,
          -0.155596,
          77.3272147,
          3.3941795,
          77.21926705734865,
          78.6677428,
          -110.05012,
          78.4740613,
          -107.991707,
          -77.0365427,
          80.6762186,
          -73.212906,
          -100.445882,
          -3.2765753,
          -95.3676974,
          -1.4028279661907845,
          -79.3839347,
          -80.4363743,
          -57.58723,
          75.6741579,
          -3.59576,
          4.6667145,
          -76.54837235139263,
          -122.3330573,
          -87.635719,
          0.029707137943262345,
          -102.1732905,
          -63.5781491,
          -78.5123274,
          0.0525498,
          -0.3062621,
          -71.060511,
          -95.361416,
          -121.8746789,
          -76.35521665295359,
          -0.9155376120645077,
          -0.1277653,
          -86.1746933,
          -89.4337288,
          -118.242766,
          -122.674194,
          14.393264664529315,
          -75.1635262,
          -119.0383541,
          75.5004841,
          -81.4639835,
          null,
          null,
          null,
          null,
          null,
          null,
          null,
          null,
          null,
          null,
          null,
          7.651853311586596
         ],
         "name": "",
         "radius": 25,
         "subplot": "mapbox",
         "type": "densitymapbox",
         "z": [
          -1,
          -1,
          -1,
          2,
          1,
          -1,
          1,
          2,
          1,
          2,
          1,
          2,
          -1,
          1,
          0,
          0,
          2,
          2,
          0,
          1,
          2,
          1,
          1,
          2,
          0,
          -2,
          2,
          -1,
          -1,
          -1,
          0,
          -1,
          -1,
          -1,
          -1,
          -2,
          -1,
          1,
          -1,
          -1,
          1,
          -2,
          1,
          2,
          -1,
          -1,
          1,
          0,
          1,
          -1,
          2,
          -1,
          -1,
          0,
          2,
          1,
          0,
          -2,
          -1,
          -2,
          0,
          -2,
          1,
          2,
          1,
          2,
          -1,
          0,
          2,
          -2,
          -1,
          1,
          1,
          1,
          -1,
          0,
          1,
          1,
          1,
          -1,
          -2,
          -1,
          0,
          1,
          -1,
          1,
          0,
          1,
          0,
          -1,
          -1,
          1,
          2,
          1,
          -1,
          1,
          0,
          -1,
          -2,
          -2,
          2,
          -1,
          -2,
          -1,
          -1,
          0,
          -1,
          -2,
          0,
          2,
          -2,
          -1,
          2,
          -1,
          0,
          -1,
          -1,
          1,
          0,
          0,
          0,
          1,
          2,
          1,
          2,
          2,
          2,
          -2,
          -1,
          -2,
          -2,
          -2,
          -1,
          2,
          1,
          0,
          -1,
          1,
          -1,
          1,
          1,
          0,
          -1,
          2,
          0,
          -1,
          1,
          0,
          0,
          1,
          1,
          1,
          0,
          -2,
          -2,
          -2,
          -1,
          1,
          -1,
          1,
          0,
          1,
          -2,
          -2,
          0,
          -1,
          0,
          0,
          2,
          1,
          2,
          2,
          1,
          -2,
          0,
          1,
          1,
          -2,
          0,
          -2,
          -1,
          0,
          -1,
          -1,
          1,
          -2,
          0,
          -1,
          1,
          -2,
          1,
          1,
          -2,
          0,
          0,
          1,
          2,
          -2,
          1,
          -1,
          -1,
          1,
          0,
          1,
          2,
          0,
          0,
          -1,
          2,
          -2,
          2,
          -1,
          -2,
          1,
          1,
          1,
          0,
          1,
          -2,
          2,
          0,
          -2,
          -2,
          -1,
          0,
          0,
          0,
          2,
          -1,
          -2,
          2,
          1,
          2,
          1,
          1,
          -1,
          2,
          1,
          -1,
          -2,
          1,
          1,
          -1,
          -1,
          1,
          0,
          -1,
          1,
          1,
          1,
          2,
          -1,
          -2,
          -1,
          -1,
          -2,
          0,
          -2,
          -2,
          1,
          -1,
          -1,
          -1,
          1,
          2,
          1,
          -1,
          1,
          0,
          0,
          -1,
          2,
          0,
          -1,
          0,
          -2,
          -1,
          1,
          0,
          1,
          2,
          -1,
          2,
          0,
          -2,
          -1,
          1,
          2,
          -1,
          -2,
          0,
          1,
          2,
          1,
          2,
          1,
          -2,
          -1,
          -1,
          0,
          -1,
          -2,
          1,
          1,
          -1,
          0,
          1,
          0,
          1,
          -2,
          1,
          -1,
          2,
          1,
          -1,
          0,
          0,
          -2,
          -1,
          0,
          2,
          -1,
          -1,
          0,
          -1,
          1,
          0,
          -2,
          0,
          1,
          -1,
          -1,
          -1,
          -1,
          2,
          1,
          0,
          2,
          0,
          -1,
          -1,
          -2,
          1,
          0,
          1,
          0,
          2,
          0,
          -1,
          1,
          -1,
          -1,
          1,
          -1,
          1,
          -2,
          1,
          -1,
          1,
          1,
          1,
          2,
          1,
          -1,
          0,
          -1,
          0,
          1,
          1,
          1,
          1,
          2,
          -1,
          1,
          0,
          1,
          -2,
          0,
          2,
          1,
          0,
          1,
          2,
          1,
          -2,
          0,
          1,
          -1,
          2,
          -1,
          -2,
          0,
          -1,
          -1,
          -1,
          1,
          -1,
          2,
          0,
          -1,
          0,
          1,
          2,
          1,
          -1,
          -1,
          0,
          -1,
          -2,
          0,
          -2,
          2,
          -2,
          -1,
          0,
          -2,
          1,
          0,
          2,
          2,
          2,
          -1,
          2,
          1,
          1,
          -1,
          -1,
          -1,
          -1,
          -1,
          0,
          1,
          1,
          -1,
          2,
          -2,
          -1,
          -1,
          1,
          -2,
          -1,
          1,
          0,
          2,
          1,
          -1,
          0,
          -1,
          1,
          0,
          -1,
          -1,
          -2,
          1,
          -2,
          -2,
          -2,
          -1,
          -1,
          0,
          -1,
          1,
          -1,
          -1,
          0,
          0,
          2,
          0,
          -1,
          -1,
          0,
          -2,
          0,
          0,
          1,
          1,
          -1,
          -2,
          -1,
          -2,
          1,
          1,
          -1,
          2,
          -1,
          2,
          0,
          -1,
          -1,
          -1,
          2,
          -2,
          -1,
          2,
          2,
          -1,
          1,
          -1,
          0,
          -1
         ]
        }
       ],
       "layout": {
        "coloraxis": {
         "colorbar": {
          "title": {
           "text": "sentiment_score"
          }
         },
         "colorscale": [
          [
           0,
           "#0d0887"
          ],
          [
           0.1111111111111111,
           "#46039f"
          ],
          [
           0.2222222222222222,
           "#7201a8"
          ],
          [
           0.3333333333333333,
           "#9c179e"
          ],
          [
           0.4444444444444444,
           "#bd3786"
          ],
          [
           0.5555555555555556,
           "#d8576b"
          ],
          [
           0.6666666666666666,
           "#ed7953"
          ],
          [
           0.7777777777777778,
           "#fb9f3a"
          ],
          [
           0.8888888888888888,
           "#fdca26"
          ],
          [
           1,
           "#f0f921"
          ]
         ]
        },
        "legend": {
         "tracegroupgap": 0
        },
        "mapbox": {
         "center": {
          "lat": 30,
          "lon": 0
         },
         "domain": {
          "x": [
           0,
           1
          ],
          "y": [
           0,
           1
          ]
         },
         "style": "carto-positron",
         "zoom": 1
        },
        "margin": {
         "t": 60
        },
        "template": {
         "data": {
          "bar": [
           {
            "error_x": {
             "color": "#2a3f5f"
            },
            "error_y": {
             "color": "#2a3f5f"
            },
            "marker": {
             "line": {
              "color": "#E5ECF6",
              "width": 0.5
             },
             "pattern": {
              "fillmode": "overlay",
              "size": 10,
              "solidity": 0.2
             }
            },
            "type": "bar"
           }
          ],
          "barpolar": [
           {
            "marker": {
             "line": {
              "color": "#E5ECF6",
              "width": 0.5
             },
             "pattern": {
              "fillmode": "overlay",
              "size": 10,
              "solidity": 0.2
             }
            },
            "type": "barpolar"
           }
          ],
          "carpet": [
           {
            "aaxis": {
             "endlinecolor": "#2a3f5f",
             "gridcolor": "white",
             "linecolor": "white",
             "minorgridcolor": "white",
             "startlinecolor": "#2a3f5f"
            },
            "baxis": {
             "endlinecolor": "#2a3f5f",
             "gridcolor": "white",
             "linecolor": "white",
             "minorgridcolor": "white",
             "startlinecolor": "#2a3f5f"
            },
            "type": "carpet"
           }
          ],
          "choropleth": [
           {
            "colorbar": {
             "outlinewidth": 0,
             "ticks": ""
            },
            "type": "choropleth"
           }
          ],
          "contour": [
           {
            "colorbar": {
             "outlinewidth": 0,
             "ticks": ""
            },
            "colorscale": [
             [
              0,
              "#0d0887"
             ],
             [
              0.1111111111111111,
              "#46039f"
             ],
             [
              0.2222222222222222,
              "#7201a8"
             ],
             [
              0.3333333333333333,
              "#9c179e"
             ],
             [
              0.4444444444444444,
              "#bd3786"
             ],
             [
              0.5555555555555556,
              "#d8576b"
             ],
             [
              0.6666666666666666,
              "#ed7953"
             ],
             [
              0.7777777777777778,
              "#fb9f3a"
             ],
             [
              0.8888888888888888,
              "#fdca26"
             ],
             [
              1,
              "#f0f921"
             ]
            ],
            "type": "contour"
           }
          ],
          "contourcarpet": [
           {
            "colorbar": {
             "outlinewidth": 0,
             "ticks": ""
            },
            "type": "contourcarpet"
           }
          ],
          "heatmap": [
           {
            "colorbar": {
             "outlinewidth": 0,
             "ticks": ""
            },
            "colorscale": [
             [
              0,
              "#0d0887"
             ],
             [
              0.1111111111111111,
              "#46039f"
             ],
             [
              0.2222222222222222,
              "#7201a8"
             ],
             [
              0.3333333333333333,
              "#9c179e"
             ],
             [
              0.4444444444444444,
              "#bd3786"
             ],
             [
              0.5555555555555556,
              "#d8576b"
             ],
             [
              0.6666666666666666,
              "#ed7953"
             ],
             [
              0.7777777777777778,
              "#fb9f3a"
             ],
             [
              0.8888888888888888,
              "#fdca26"
             ],
             [
              1,
              "#f0f921"
             ]
            ],
            "type": "heatmap"
           }
          ],
          "heatmapgl": [
           {
            "colorbar": {
             "outlinewidth": 0,
             "ticks": ""
            },
            "colorscale": [
             [
              0,
              "#0d0887"
             ],
             [
              0.1111111111111111,
              "#46039f"
             ],
             [
              0.2222222222222222,
              "#7201a8"
             ],
             [
              0.3333333333333333,
              "#9c179e"
             ],
             [
              0.4444444444444444,
              "#bd3786"
             ],
             [
              0.5555555555555556,
              "#d8576b"
             ],
             [
              0.6666666666666666,
              "#ed7953"
             ],
             [
              0.7777777777777778,
              "#fb9f3a"
             ],
             [
              0.8888888888888888,
              "#fdca26"
             ],
             [
              1,
              "#f0f921"
             ]
            ],
            "type": "heatmapgl"
           }
          ],
          "histogram": [
           {
            "marker": {
             "pattern": {
              "fillmode": "overlay",
              "size": 10,
              "solidity": 0.2
             }
            },
            "type": "histogram"
           }
          ],
          "histogram2d": [
           {
            "colorbar": {
             "outlinewidth": 0,
             "ticks": ""
            },
            "colorscale": [
             [
              0,
              "#0d0887"
             ],
             [
              0.1111111111111111,
              "#46039f"
             ],
             [
              0.2222222222222222,
              "#7201a8"
             ],
             [
              0.3333333333333333,
              "#9c179e"
             ],
             [
              0.4444444444444444,
              "#bd3786"
             ],
             [
              0.5555555555555556,
              "#d8576b"
             ],
             [
              0.6666666666666666,
              "#ed7953"
             ],
             [
              0.7777777777777778,
              "#fb9f3a"
             ],
             [
              0.8888888888888888,
              "#fdca26"
             ],
             [
              1,
              "#f0f921"
             ]
            ],
            "type": "histogram2d"
           }
          ],
          "histogram2dcontour": [
           {
            "colorbar": {
             "outlinewidth": 0,
             "ticks": ""
            },
            "colorscale": [
             [
              0,
              "#0d0887"
             ],
             [
              0.1111111111111111,
              "#46039f"
             ],
             [
              0.2222222222222222,
              "#7201a8"
             ],
             [
              0.3333333333333333,
              "#9c179e"
             ],
             [
              0.4444444444444444,
              "#bd3786"
             ],
             [
              0.5555555555555556,
              "#d8576b"
             ],
             [
              0.6666666666666666,
              "#ed7953"
             ],
             [
              0.7777777777777778,
              "#fb9f3a"
             ],
             [
              0.8888888888888888,
              "#fdca26"
             ],
             [
              1,
              "#f0f921"
             ]
            ],
            "type": "histogram2dcontour"
           }
          ],
          "mesh3d": [
           {
            "colorbar": {
             "outlinewidth": 0,
             "ticks": ""
            },
            "type": "mesh3d"
           }
          ],
          "parcoords": [
           {
            "line": {
             "colorbar": {
              "outlinewidth": 0,
              "ticks": ""
             }
            },
            "type": "parcoords"
           }
          ],
          "pie": [
           {
            "automargin": true,
            "type": "pie"
           }
          ],
          "scatter": [
           {
            "fillpattern": {
             "fillmode": "overlay",
             "size": 10,
             "solidity": 0.2
            },
            "type": "scatter"
           }
          ],
          "scatter3d": [
           {
            "line": {
             "colorbar": {
              "outlinewidth": 0,
              "ticks": ""
             }
            },
            "marker": {
             "colorbar": {
              "outlinewidth": 0,
              "ticks": ""
             }
            },
            "type": "scatter3d"
           }
          ],
          "scattercarpet": [
           {
            "marker": {
             "colorbar": {
              "outlinewidth": 0,
              "ticks": ""
             }
            },
            "type": "scattercarpet"
           }
          ],
          "scattergeo": [
           {
            "marker": {
             "colorbar": {
              "outlinewidth": 0,
              "ticks": ""
             }
            },
            "type": "scattergeo"
           }
          ],
          "scattergl": [
           {
            "marker": {
             "colorbar": {
              "outlinewidth": 0,
              "ticks": ""
             }
            },
            "type": "scattergl"
           }
          ],
          "scattermapbox": [
           {
            "marker": {
             "colorbar": {
              "outlinewidth": 0,
              "ticks": ""
             }
            },
            "type": "scattermapbox"
           }
          ],
          "scatterpolar": [
           {
            "marker": {
             "colorbar": {
              "outlinewidth": 0,
              "ticks": ""
             }
            },
            "type": "scatterpolar"
           }
          ],
          "scatterpolargl": [
           {
            "marker": {
             "colorbar": {
              "outlinewidth": 0,
              "ticks": ""
             }
            },
            "type": "scatterpolargl"
           }
          ],
          "scatterternary": [
           {
            "marker": {
             "colorbar": {
              "outlinewidth": 0,
              "ticks": ""
             }
            },
            "type": "scatterternary"
           }
          ],
          "surface": [
           {
            "colorbar": {
             "outlinewidth": 0,
             "ticks": ""
            },
            "colorscale": [
             [
              0,
              "#0d0887"
             ],
             [
              0.1111111111111111,
              "#46039f"
             ],
             [
              0.2222222222222222,
              "#7201a8"
             ],
             [
              0.3333333333333333,
              "#9c179e"
             ],
             [
              0.4444444444444444,
              "#bd3786"
             ],
             [
              0.5555555555555556,
              "#d8576b"
             ],
             [
              0.6666666666666666,
              "#ed7953"
             ],
             [
              0.7777777777777778,
              "#fb9f3a"
             ],
             [
              0.8888888888888888,
              "#fdca26"
             ],
             [
              1,
              "#f0f921"
             ]
            ],
            "type": "surface"
           }
          ],
          "table": [
           {
            "cells": {
             "fill": {
              "color": "#EBF0F8"
             },
             "line": {
              "color": "white"
             }
            },
            "header": {
             "fill": {
              "color": "#C8D4E3"
             },
             "line": {
              "color": "white"
             }
            },
            "type": "table"
           }
          ]
         },
         "layout": {
          "annotationdefaults": {
           "arrowcolor": "#2a3f5f",
           "arrowhead": 0,
           "arrowwidth": 1
          },
          "autotypenumbers": "strict",
          "coloraxis": {
           "colorbar": {
            "outlinewidth": 0,
            "ticks": ""
           }
          },
          "colorscale": {
           "diverging": [
            [
             0,
             "#8e0152"
            ],
            [
             0.1,
             "#c51b7d"
            ],
            [
             0.2,
             "#de77ae"
            ],
            [
             0.3,
             "#f1b6da"
            ],
            [
             0.4,
             "#fde0ef"
            ],
            [
             0.5,
             "#f7f7f7"
            ],
            [
             0.6,
             "#e6f5d0"
            ],
            [
             0.7,
             "#b8e186"
            ],
            [
             0.8,
             "#7fbc41"
            ],
            [
             0.9,
             "#4d9221"
            ],
            [
             1,
             "#276419"
            ]
           ],
           "sequential": [
            [
             0,
             "#0d0887"
            ],
            [
             0.1111111111111111,
             "#46039f"
            ],
            [
             0.2222222222222222,
             "#7201a8"
            ],
            [
             0.3333333333333333,
             "#9c179e"
            ],
            [
             0.4444444444444444,
             "#bd3786"
            ],
            [
             0.5555555555555556,
             "#d8576b"
            ],
            [
             0.6666666666666666,
             "#ed7953"
            ],
            [
             0.7777777777777778,
             "#fb9f3a"
            ],
            [
             0.8888888888888888,
             "#fdca26"
            ],
            [
             1,
             "#f0f921"
            ]
           ],
           "sequentialminus": [
            [
             0,
             "#0d0887"
            ],
            [
             0.1111111111111111,
             "#46039f"
            ],
            [
             0.2222222222222222,
             "#7201a8"
            ],
            [
             0.3333333333333333,
             "#9c179e"
            ],
            [
             0.4444444444444444,
             "#bd3786"
            ],
            [
             0.5555555555555556,
             "#d8576b"
            ],
            [
             0.6666666666666666,
             "#ed7953"
            ],
            [
             0.7777777777777778,
             "#fb9f3a"
            ],
            [
             0.8888888888888888,
             "#fdca26"
            ],
            [
             1,
             "#f0f921"
            ]
           ]
          },
          "colorway": [
           "#636efa",
           "#EF553B",
           "#00cc96",
           "#ab63fa",
           "#FFA15A",
           "#19d3f3",
           "#FF6692",
           "#B6E880",
           "#FF97FF",
           "#FECB52"
          ],
          "font": {
           "color": "#2a3f5f"
          },
          "geo": {
           "bgcolor": "white",
           "lakecolor": "white",
           "landcolor": "#E5ECF6",
           "showlakes": true,
           "showland": true,
           "subunitcolor": "white"
          },
          "hoverlabel": {
           "align": "left"
          },
          "hovermode": "closest",
          "mapbox": {
           "style": "light"
          },
          "paper_bgcolor": "white",
          "plot_bgcolor": "#E5ECF6",
          "polar": {
           "angularaxis": {
            "gridcolor": "white",
            "linecolor": "white",
            "ticks": ""
           },
           "bgcolor": "#E5ECF6",
           "radialaxis": {
            "gridcolor": "white",
            "linecolor": "white",
            "ticks": ""
           }
          },
          "scene": {
           "xaxis": {
            "backgroundcolor": "#E5ECF6",
            "gridcolor": "white",
            "gridwidth": 2,
            "linecolor": "white",
            "showbackground": true,
            "ticks": "",
            "zerolinecolor": "white"
           },
           "yaxis": {
            "backgroundcolor": "#E5ECF6",
            "gridcolor": "white",
            "gridwidth": 2,
            "linecolor": "white",
            "showbackground": true,
            "ticks": "",
            "zerolinecolor": "white"
           },
           "zaxis": {
            "backgroundcolor": "#E5ECF6",
            "gridcolor": "white",
            "gridwidth": 2,
            "linecolor": "white",
            "showbackground": true,
            "ticks": "",
            "zerolinecolor": "white"
           }
          },
          "shapedefaults": {
           "line": {
            "color": "#2a3f5f"
           }
          },
          "ternary": {
           "aaxis": {
            "gridcolor": "white",
            "linecolor": "white",
            "ticks": ""
           },
           "baxis": {
            "gridcolor": "white",
            "linecolor": "white",
            "ticks": ""
           },
           "bgcolor": "#E5ECF6",
           "caxis": {
            "gridcolor": "white",
            "linecolor": "white",
            "ticks": ""
           }
          },
          "title": {
           "x": 0.05
          },
          "xaxis": {
           "automargin": true,
           "gridcolor": "white",
           "linecolor": "white",
           "ticks": "",
           "title": {
            "standoff": 15
           },
           "zerolinecolor": "white",
           "zerolinewidth": 2
          },
          "yaxis": {
           "automargin": true,
           "gridcolor": "white",
           "linecolor": "white",
           "ticks": "",
           "title": {
            "standoff": 15
           },
           "zerolinecolor": "white",
           "zerolinewidth": 2
          }
         }
        }
       }
      }
     },
     "metadata": {},
     "output_type": "display_data"
    }
   ],
   "source": [
    "if RUN_MAP_VIZUALIZATION:\n",
    "    agg_df = map_viz_df.groupby(['latitude', 'longitude'], as_index=False)['sentiment_score'].sum()\n",
    "    fig = px.density_mapbox(\n",
    "        map_viz_df,\n",
    "        lat=\"latitude\",\n",
    "        lon=\"longitude\",\n",
    "        z=\"sentiment_score\",\n",
    "        radius=25,\n",
    "        center={\"lat\": 30, \"lon\": 0},\n",
    "        zoom=1,\n",
    "        mapbox_style=\"carto-positron\"\n",
    "    )\n",
    "    fig.show()"
   ]
  },
  {
   "cell_type": "markdown",
   "id": "559848f9",
   "metadata": {
    "id": "559848f9"
   },
   "source": [
    "## 2. Sentiment accross dates:\n",
    "Total sentiment score per day"
   ]
  },
  {
   "cell_type": "code",
   "execution_count": 31,
   "id": "707ef669",
   "metadata": {
    "id": "707ef669"
   },
   "outputs": [],
   "source": [
    "timeline_sentiment_df = train_df.copy()\n",
    "timeline_sentiment_df = timeline_sentiment_df[[\"TweetAt\", \"Sentiment\"]]"
   ]
  },
  {
   "cell_type": "code",
   "execution_count": 32,
   "id": "d61a7736",
   "metadata": {
    "colab": {
     "base_uri": "https://localhost:8080/",
     "height": 506
    },
    "id": "d61a7736",
    "outputId": "bc168a84-d3d8-4fe1-bae0-6470e2c23d19"
   },
   "outputs": [
    {
     "data": {
      "application/vnd.plotly.v1+json": {
       "config": {
        "plotlyServerURL": "https://plot.ly"
       },
       "data": [
        {
         "coloraxis": "coloraxis",
         "hovertemplate": "Date: %{x}<br>Sentiment Score: %{y}<br>Tweet Count: %{z}<extra></extra>",
         "name": "0",
         "type": "heatmap",
         "x": [
          "2020-03-16",
          "2020-03-17",
          "2020-03-18",
          "2020-03-19",
          "2020-03-20",
          "2020-03-21",
          "2020-03-22",
          "2020-03-23",
          "2020-03-24",
          "2020-03-25",
          "2020-03-26",
          "2020-03-27",
          "2020-03-28",
          "2020-03-29",
          "2020-03-30",
          "2020-03-31",
          "2020-04-01",
          "2020-04-02",
          "2020-04-03",
          "2020-04-04",
          "2020-04-05",
          "2020-04-06",
          "2020-04-07",
          "2020-04-08",
          "2020-04-09",
          "2020-04-10",
          "2020-04-11",
          "2020-04-12",
          "2020-04-13",
          "2020-04-14"
         ],
         "xaxis": "x",
         "y": [
          "Extremely Negative",
          "Negative",
          "Neutral",
          "Positive",
          "Extremely Positive"
         ],
         "yaxis": "y",
         "z": [
          [
           98,
           304,
           433,
           489,
           594,
           372,
           282,
           246,
           208,
           336,
           136,
           38,
           1,
           10,
           19,
           38,
           90,
           119,
           103,
           113,
           120,
           207,
           227,
           214,
           159,
           115,
           93,
           102,
           178,
           37
          ],
          [
           165,
           518,
           674,
           810,
           869,
           689,
           488,
           479,
           373,
           688,
           316,
           97,
           4,
           22,
           20,
           89,
           156,
           242,
           208,
           163,
           262,
           423,
           434,
           409,
           309,
           197,
           208,
           206,
           330,
           69
          ],
          [
           108,
           361,
           486,
           571,
           597,
           456,
           381,
           394,
           284,
           524,
           263,
           80,
           1,
           28,
           10,
           42,
           125,
           201,
           154,
           130,
           235,
           360,
           374,
           365,
           285,
           239,
           182,
           146,
           271,
           60
          ],
          [
           186,
           508,
           741,
           863,
           910,
           710,
           588,
           615,
           402,
           886,
           343,
           91,
           6,
           42,
           24,
           99,
           170,
           251,
           228,
           232,
           306,
           471,
           521,
           558,
           430,
           287,
           262,
           210,
           408,
           74
          ],
          [
           99,
           286,
           408,
           482,
           478,
           426,
           375,
           328,
           213,
           545,
           219,
           39,
           11,
           23,
           14,
           48,
           89,
           141,
           117,
           129,
           208,
           281,
           287,
           335,
           288,
           167,
           164,
           139,
           241,
           44
          ]
         ]
        }
       ],
       "layout": {
        "coloraxis": {
         "colorbar": {
          "title": {
           "text": "Tweet Count"
          }
         },
         "colorscale": [
          [
           0,
           "rgb(255,255,204)"
          ],
          [
           0.125,
           "rgb(255,237,160)"
          ],
          [
           0.25,
           "rgb(254,217,118)"
          ],
          [
           0.375,
           "rgb(254,178,76)"
          ],
          [
           0.5,
           "rgb(253,141,60)"
          ],
          [
           0.625,
           "rgb(252,78,42)"
          ],
          [
           0.75,
           "rgb(227,26,28)"
          ],
          [
           0.875,
           "rgb(189,0,38)"
          ],
          [
           1,
           "rgb(128,0,38)"
          ]
         ]
        },
        "height": 400,
        "margin": {
         "t": 60
        },
        "template": {
         "data": {
          "bar": [
           {
            "error_x": {
             "color": "#2a3f5f"
            },
            "error_y": {
             "color": "#2a3f5f"
            },
            "marker": {
             "line": {
              "color": "#E5ECF6",
              "width": 0.5
             },
             "pattern": {
              "fillmode": "overlay",
              "size": 10,
              "solidity": 0.2
             }
            },
            "type": "bar"
           }
          ],
          "barpolar": [
           {
            "marker": {
             "line": {
              "color": "#E5ECF6",
              "width": 0.5
             },
             "pattern": {
              "fillmode": "overlay",
              "size": 10,
              "solidity": 0.2
             }
            },
            "type": "barpolar"
           }
          ],
          "carpet": [
           {
            "aaxis": {
             "endlinecolor": "#2a3f5f",
             "gridcolor": "white",
             "linecolor": "white",
             "minorgridcolor": "white",
             "startlinecolor": "#2a3f5f"
            },
            "baxis": {
             "endlinecolor": "#2a3f5f",
             "gridcolor": "white",
             "linecolor": "white",
             "minorgridcolor": "white",
             "startlinecolor": "#2a3f5f"
            },
            "type": "carpet"
           }
          ],
          "choropleth": [
           {
            "colorbar": {
             "outlinewidth": 0,
             "ticks": ""
            },
            "type": "choropleth"
           }
          ],
          "contour": [
           {
            "colorbar": {
             "outlinewidth": 0,
             "ticks": ""
            },
            "colorscale": [
             [
              0,
              "#0d0887"
             ],
             [
              0.1111111111111111,
              "#46039f"
             ],
             [
              0.2222222222222222,
              "#7201a8"
             ],
             [
              0.3333333333333333,
              "#9c179e"
             ],
             [
              0.4444444444444444,
              "#bd3786"
             ],
             [
              0.5555555555555556,
              "#d8576b"
             ],
             [
              0.6666666666666666,
              "#ed7953"
             ],
             [
              0.7777777777777778,
              "#fb9f3a"
             ],
             [
              0.8888888888888888,
              "#fdca26"
             ],
             [
              1,
              "#f0f921"
             ]
            ],
            "type": "contour"
           }
          ],
          "contourcarpet": [
           {
            "colorbar": {
             "outlinewidth": 0,
             "ticks": ""
            },
            "type": "contourcarpet"
           }
          ],
          "heatmap": [
           {
            "colorbar": {
             "outlinewidth": 0,
             "ticks": ""
            },
            "colorscale": [
             [
              0,
              "#0d0887"
             ],
             [
              0.1111111111111111,
              "#46039f"
             ],
             [
              0.2222222222222222,
              "#7201a8"
             ],
             [
              0.3333333333333333,
              "#9c179e"
             ],
             [
              0.4444444444444444,
              "#bd3786"
             ],
             [
              0.5555555555555556,
              "#d8576b"
             ],
             [
              0.6666666666666666,
              "#ed7953"
             ],
             [
              0.7777777777777778,
              "#fb9f3a"
             ],
             [
              0.8888888888888888,
              "#fdca26"
             ],
             [
              1,
              "#f0f921"
             ]
            ],
            "type": "heatmap"
           }
          ],
          "heatmapgl": [
           {
            "colorbar": {
             "outlinewidth": 0,
             "ticks": ""
            },
            "colorscale": [
             [
              0,
              "#0d0887"
             ],
             [
              0.1111111111111111,
              "#46039f"
             ],
             [
              0.2222222222222222,
              "#7201a8"
             ],
             [
              0.3333333333333333,
              "#9c179e"
             ],
             [
              0.4444444444444444,
              "#bd3786"
             ],
             [
              0.5555555555555556,
              "#d8576b"
             ],
             [
              0.6666666666666666,
              "#ed7953"
             ],
             [
              0.7777777777777778,
              "#fb9f3a"
             ],
             [
              0.8888888888888888,
              "#fdca26"
             ],
             [
              1,
              "#f0f921"
             ]
            ],
            "type": "heatmapgl"
           }
          ],
          "histogram": [
           {
            "marker": {
             "pattern": {
              "fillmode": "overlay",
              "size": 10,
              "solidity": 0.2
             }
            },
            "type": "histogram"
           }
          ],
          "histogram2d": [
           {
            "colorbar": {
             "outlinewidth": 0,
             "ticks": ""
            },
            "colorscale": [
             [
              0,
              "#0d0887"
             ],
             [
              0.1111111111111111,
              "#46039f"
             ],
             [
              0.2222222222222222,
              "#7201a8"
             ],
             [
              0.3333333333333333,
              "#9c179e"
             ],
             [
              0.4444444444444444,
              "#bd3786"
             ],
             [
              0.5555555555555556,
              "#d8576b"
             ],
             [
              0.6666666666666666,
              "#ed7953"
             ],
             [
              0.7777777777777778,
              "#fb9f3a"
             ],
             [
              0.8888888888888888,
              "#fdca26"
             ],
             [
              1,
              "#f0f921"
             ]
            ],
            "type": "histogram2d"
           }
          ],
          "histogram2dcontour": [
           {
            "colorbar": {
             "outlinewidth": 0,
             "ticks": ""
            },
            "colorscale": [
             [
              0,
              "#0d0887"
             ],
             [
              0.1111111111111111,
              "#46039f"
             ],
             [
              0.2222222222222222,
              "#7201a8"
             ],
             [
              0.3333333333333333,
              "#9c179e"
             ],
             [
              0.4444444444444444,
              "#bd3786"
             ],
             [
              0.5555555555555556,
              "#d8576b"
             ],
             [
              0.6666666666666666,
              "#ed7953"
             ],
             [
              0.7777777777777778,
              "#fb9f3a"
             ],
             [
              0.8888888888888888,
              "#fdca26"
             ],
             [
              1,
              "#f0f921"
             ]
            ],
            "type": "histogram2dcontour"
           }
          ],
          "mesh3d": [
           {
            "colorbar": {
             "outlinewidth": 0,
             "ticks": ""
            },
            "type": "mesh3d"
           }
          ],
          "parcoords": [
           {
            "line": {
             "colorbar": {
              "outlinewidth": 0,
              "ticks": ""
             }
            },
            "type": "parcoords"
           }
          ],
          "pie": [
           {
            "automargin": true,
            "type": "pie"
           }
          ],
          "scatter": [
           {
            "fillpattern": {
             "fillmode": "overlay",
             "size": 10,
             "solidity": 0.2
            },
            "type": "scatter"
           }
          ],
          "scatter3d": [
           {
            "line": {
             "colorbar": {
              "outlinewidth": 0,
              "ticks": ""
             }
            },
            "marker": {
             "colorbar": {
              "outlinewidth": 0,
              "ticks": ""
             }
            },
            "type": "scatter3d"
           }
          ],
          "scattercarpet": [
           {
            "marker": {
             "colorbar": {
              "outlinewidth": 0,
              "ticks": ""
             }
            },
            "type": "scattercarpet"
           }
          ],
          "scattergeo": [
           {
            "marker": {
             "colorbar": {
              "outlinewidth": 0,
              "ticks": ""
             }
            },
            "type": "scattergeo"
           }
          ],
          "scattergl": [
           {
            "marker": {
             "colorbar": {
              "outlinewidth": 0,
              "ticks": ""
             }
            },
            "type": "scattergl"
           }
          ],
          "scattermapbox": [
           {
            "marker": {
             "colorbar": {
              "outlinewidth": 0,
              "ticks": ""
             }
            },
            "type": "scattermapbox"
           }
          ],
          "scatterpolar": [
           {
            "marker": {
             "colorbar": {
              "outlinewidth": 0,
              "ticks": ""
             }
            },
            "type": "scatterpolar"
           }
          ],
          "scatterpolargl": [
           {
            "marker": {
             "colorbar": {
              "outlinewidth": 0,
              "ticks": ""
             }
            },
            "type": "scatterpolargl"
           }
          ],
          "scatterternary": [
           {
            "marker": {
             "colorbar": {
              "outlinewidth": 0,
              "ticks": ""
             }
            },
            "type": "scatterternary"
           }
          ],
          "surface": [
           {
            "colorbar": {
             "outlinewidth": 0,
             "ticks": ""
            },
            "colorscale": [
             [
              0,
              "#0d0887"
             ],
             [
              0.1111111111111111,
              "#46039f"
             ],
             [
              0.2222222222222222,
              "#7201a8"
             ],
             [
              0.3333333333333333,
              "#9c179e"
             ],
             [
              0.4444444444444444,
              "#bd3786"
             ],
             [
              0.5555555555555556,
              "#d8576b"
             ],
             [
              0.6666666666666666,
              "#ed7953"
             ],
             [
              0.7777777777777778,
              "#fb9f3a"
             ],
             [
              0.8888888888888888,
              "#fdca26"
             ],
             [
              1,
              "#f0f921"
             ]
            ],
            "type": "surface"
           }
          ],
          "table": [
           {
            "cells": {
             "fill": {
              "color": "#EBF0F8"
             },
             "line": {
              "color": "white"
             }
            },
            "header": {
             "fill": {
              "color": "#C8D4E3"
             },
             "line": {
              "color": "white"
             }
            },
            "type": "table"
           }
          ]
         },
         "layout": {
          "annotationdefaults": {
           "arrowcolor": "#2a3f5f",
           "arrowhead": 0,
           "arrowwidth": 1
          },
          "autotypenumbers": "strict",
          "coloraxis": {
           "colorbar": {
            "outlinewidth": 0,
            "ticks": ""
           }
          },
          "colorscale": {
           "diverging": [
            [
             0,
             "#8e0152"
            ],
            [
             0.1,
             "#c51b7d"
            ],
            [
             0.2,
             "#de77ae"
            ],
            [
             0.3,
             "#f1b6da"
            ],
            [
             0.4,
             "#fde0ef"
            ],
            [
             0.5,
             "#f7f7f7"
            ],
            [
             0.6,
             "#e6f5d0"
            ],
            [
             0.7,
             "#b8e186"
            ],
            [
             0.8,
             "#7fbc41"
            ],
            [
             0.9,
             "#4d9221"
            ],
            [
             1,
             "#276419"
            ]
           ],
           "sequential": [
            [
             0,
             "#0d0887"
            ],
            [
             0.1111111111111111,
             "#46039f"
            ],
            [
             0.2222222222222222,
             "#7201a8"
            ],
            [
             0.3333333333333333,
             "#9c179e"
            ],
            [
             0.4444444444444444,
             "#bd3786"
            ],
            [
             0.5555555555555556,
             "#d8576b"
            ],
            [
             0.6666666666666666,
             "#ed7953"
            ],
            [
             0.7777777777777778,
             "#fb9f3a"
            ],
            [
             0.8888888888888888,
             "#fdca26"
            ],
            [
             1,
             "#f0f921"
            ]
           ],
           "sequentialminus": [
            [
             0,
             "#0d0887"
            ],
            [
             0.1111111111111111,
             "#46039f"
            ],
            [
             0.2222222222222222,
             "#7201a8"
            ],
            [
             0.3333333333333333,
             "#9c179e"
            ],
            [
             0.4444444444444444,
             "#bd3786"
            ],
            [
             0.5555555555555556,
             "#d8576b"
            ],
            [
             0.6666666666666666,
             "#ed7953"
            ],
            [
             0.7777777777777778,
             "#fb9f3a"
            ],
            [
             0.8888888888888888,
             "#fdca26"
            ],
            [
             1,
             "#f0f921"
            ]
           ]
          },
          "colorway": [
           "#636efa",
           "#EF553B",
           "#00cc96",
           "#ab63fa",
           "#FFA15A",
           "#19d3f3",
           "#FF6692",
           "#B6E880",
           "#FF97FF",
           "#FECB52"
          ],
          "font": {
           "color": "#2a3f5f"
          },
          "geo": {
           "bgcolor": "white",
           "lakecolor": "white",
           "landcolor": "#E5ECF6",
           "showlakes": true,
           "showland": true,
           "subunitcolor": "white"
          },
          "hoverlabel": {
           "align": "left"
          },
          "hovermode": "closest",
          "mapbox": {
           "style": "light"
          },
          "paper_bgcolor": "white",
          "plot_bgcolor": "#E5ECF6",
          "polar": {
           "angularaxis": {
            "gridcolor": "white",
            "linecolor": "white",
            "ticks": ""
           },
           "bgcolor": "#E5ECF6",
           "radialaxis": {
            "gridcolor": "white",
            "linecolor": "white",
            "ticks": ""
           }
          },
          "scene": {
           "xaxis": {
            "backgroundcolor": "#E5ECF6",
            "gridcolor": "white",
            "gridwidth": 2,
            "linecolor": "white",
            "showbackground": true,
            "ticks": "",
            "zerolinecolor": "white"
           },
           "yaxis": {
            "backgroundcolor": "#E5ECF6",
            "gridcolor": "white",
            "gridwidth": 2,
            "linecolor": "white",
            "showbackground": true,
            "ticks": "",
            "zerolinecolor": "white"
           },
           "zaxis": {
            "backgroundcolor": "#E5ECF6",
            "gridcolor": "white",
            "gridwidth": 2,
            "linecolor": "white",
            "showbackground": true,
            "ticks": "",
            "zerolinecolor": "white"
           }
          },
          "shapedefaults": {
           "line": {
            "color": "#2a3f5f"
           }
          },
          "ternary": {
           "aaxis": {
            "gridcolor": "white",
            "linecolor": "white",
            "ticks": ""
           },
           "baxis": {
            "gridcolor": "white",
            "linecolor": "white",
            "ticks": ""
           },
           "bgcolor": "#E5ECF6",
           "caxis": {
            "gridcolor": "white",
            "linecolor": "white",
            "ticks": ""
           }
          },
          "title": {
           "x": 0.05
          },
          "xaxis": {
           "automargin": true,
           "gridcolor": "white",
           "linecolor": "white",
           "ticks": "",
           "title": {
            "standoff": 15
           },
           "zerolinecolor": "white",
           "zerolinewidth": 2
          },
          "yaxis": {
           "automargin": true,
           "gridcolor": "white",
           "linecolor": "white",
           "ticks": "",
           "title": {
            "standoff": 15
           },
           "zerolinecolor": "white",
           "zerolinewidth": 2
          }
         }
        },
        "title": {
         "text": "Sentiment Frequency Over Time"
        },
        "xaxis": {
         "anchor": "y",
         "domain": [
          0,
          1
         ],
         "title": {
          "text": "Date"
         }
        },
        "yaxis": {
         "anchor": "x",
         "autorange": "reversed",
         "domain": [
          0,
          1
         ],
         "title": {
          "text": "Sentiment"
         }
        }
       }
      }
     },
     "metadata": {},
     "output_type": "display_data"
    }
   ],
   "source": [
    "timeline_sentiment_df['TweetAt'] = pd.to_datetime(timeline_sentiment_df['TweetAt'], format='%d-%m-%Y')\n",
    "heatmap_data = (\n",
    "    timeline_sentiment_df.groupby([timeline_sentiment_df['TweetAt'], 'Sentiment'])\n",
    "    .size()\n",
    "    .reset_index(name='count')\n",
    ")\n",
    "heatmap_pivot = heatmap_data.pivot(index='Sentiment', columns='TweetAt', values='count').fillna(0)\n",
    "heatmap_pivot = heatmap_pivot.loc[sorted(heatmap_pivot.index, key=lambda s: SENTIMENT_TO_SCORE_MAPPING[s])]\n",
    "\n",
    "fig = px.imshow(\n",
    "    heatmap_pivot,\n",
    "    labels=dict(x=\"Date\", y=\"Sentiment Score\", color=\"Tweet Count\"),\n",
    "    x=[col.strftime('%Y-%m-%d') for col in heatmap_pivot.columns],\n",
    "    y=heatmap_pivot.index,\n",
    "    color_continuous_scale='YlOrRd',\n",
    "    aspect='auto')\n",
    "fig.update_layout(\n",
    "    title=\"Sentiment Frequency Over Time\",\n",
    "    xaxis_title=\"Date\",\n",
    "    yaxis_title=\"Sentiment\",\n",
    "    height=400\n",
    ")\n",
    "fig.show()"
   ]
  },
  {
   "cell_type": "markdown",
   "id": "eb8f35db",
   "metadata": {
    "id": "eb8f35db"
   },
   "source": [
    "## 3. Word-cloud per Sentiment"
   ]
  },
  {
   "cell_type": "code",
   "execution_count": 33,
   "id": "c7237e0a",
   "metadata": {
    "id": "c7237e0a"
   },
   "outputs": [],
   "source": [
    "word_cloud_df = train_df[[\"OriginalTweet\", \"Sentiment\"]]"
   ]
  },
  {
   "cell_type": "code",
   "execution_count": 34,
   "id": "117bf6ba",
   "metadata": {
    "colab": {
     "base_uri": "https://localhost:8080/",
     "height": 206
    },
    "id": "117bf6ba",
    "outputId": "e8f95264-afbe-4d7a-db0c-14d43428e6d4"
   },
   "outputs": [
    {
     "data": {
      "text/html": [
       "<div>\n",
       "<style scoped>\n",
       "    .dataframe tbody tr th:only-of-type {\n",
       "        vertical-align: middle;\n",
       "    }\n",
       "\n",
       "    .dataframe tbody tr th {\n",
       "        vertical-align: top;\n",
       "    }\n",
       "\n",
       "    .dataframe thead th {\n",
       "        text-align: right;\n",
       "    }\n",
       "</style>\n",
       "<table border=\"1\" class=\"dataframe\">\n",
       "  <thead>\n",
       "    <tr style=\"text-align: right;\">\n",
       "      <th></th>\n",
       "      <th>OriginalTweet</th>\n",
       "      <th>Sentiment</th>\n",
       "    </tr>\n",
       "  </thead>\n",
       "  <tbody>\n",
       "    <tr>\n",
       "      <th>0</th>\n",
       "      <td>@MeNyrbie @Phil_Gahan @Chrisitv https://t.co/i...</td>\n",
       "      <td>Neutral</td>\n",
       "    </tr>\n",
       "    <tr>\n",
       "      <th>1</th>\n",
       "      <td>advice Talk to your neighbours family to excha...</td>\n",
       "      <td>Positive</td>\n",
       "    </tr>\n",
       "    <tr>\n",
       "      <th>2</th>\n",
       "      <td>Coronavirus Australia: Woolworths to give elde...</td>\n",
       "      <td>Positive</td>\n",
       "    </tr>\n",
       "    <tr>\n",
       "      <th>3</th>\n",
       "      <td>My food stock is not the only one which is emp...</td>\n",
       "      <td>Positive</td>\n",
       "    </tr>\n",
       "    <tr>\n",
       "      <th>4</th>\n",
       "      <td>Me, ready to go at supermarket during the #COV...</td>\n",
       "      <td>Extremely Negative</td>\n",
       "    </tr>\n",
       "  </tbody>\n",
       "</table>\n",
       "</div>"
      ],
      "text/plain": [
       "                                       OriginalTweet           Sentiment\n",
       "0  @MeNyrbie @Phil_Gahan @Chrisitv https://t.co/i...             Neutral\n",
       "1  advice Talk to your neighbours family to excha...            Positive\n",
       "2  Coronavirus Australia: Woolworths to give elde...            Positive\n",
       "3  My food stock is not the only one which is emp...            Positive\n",
       "4  Me, ready to go at supermarket during the #COV...  Extremely Negative"
      ]
     },
     "execution_count": 34,
     "metadata": {},
     "output_type": "execute_result"
    }
   ],
   "source": [
    "word_cloud_df.head()"
   ]
  },
  {
   "cell_type": "code",
   "execution_count": null,
   "id": "183c8af6",
   "metadata": {
    "colab": {
     "base_uri": "https://localhost:8080/",
     "height": 535
    },
    "id": "183c8af6",
    "outputId": "55c64a21-6e2f-410a-991f-a0aebbbc9b53"
   },
   "outputs": [
    {
     "name": "stderr",
     "output_type": "stream",
     "text": [
      "C:\\Users\\MotiM\\AppData\\Local\\Temp\\ipykernel_14088\\3681069121.py:1: SettingWithCopyWarning:\n",
      "\n",
      "\n",
      "A value is trying to be set on a copy of a slice from a DataFrame.\n",
      "Try using .loc[row_indexer,col_indexer] = value instead\n",
      "\n",
      "See the caveats in the documentation: https://pandas.pydata.org/pandas-docs/stable/user_guide/indexing.html#returning-a-view-versus-a-copy\n",
      "\n",
      "C:\\Users\\MotiM\\AppData\\Local\\Temp\\ipykernel_14088\\3681069121.py:12: SettingWithCopyWarning:\n",
      "\n",
      "\n",
      "A value is trying to be set on a copy of a slice from a DataFrame.\n",
      "Try using .loc[row_indexer,col_indexer] = value instead\n",
      "\n",
      "See the caveats in the documentation: https://pandas.pydata.org/pandas-docs/stable/user_guide/indexing.html#returning-a-view-versus-a-copy\n",
      "\n"
     ]
    },
    {
     "ename": "NameError",
     "evalue": "name 'WordCloud' is not defined",
     "output_type": "error",
     "traceback": [
      "\u001b[1;31m---------------------------------------------------------------------------\u001b[0m",
      "\u001b[1;31mNameError\u001b[0m                                 Traceback (most recent call last)",
      "Cell \u001b[1;32mIn[35], line 20\u001b[0m\n\u001b[0;32m     18\u001b[0m \u001b[38;5;28;01mfor\u001b[39;00m i, sentiment \u001b[38;5;129;01min\u001b[39;00m \u001b[38;5;28menumerate\u001b[39m(sentiments):\n\u001b[0;32m     19\u001b[0m     text_blob \u001b[38;5;241m=\u001b[39m \u001b[38;5;124m\"\u001b[39m\u001b[38;5;124m \u001b[39m\u001b[38;5;124m\"\u001b[39m\u001b[38;5;241m.\u001b[39mjoin(word_cloud_df[word_cloud_df[\u001b[38;5;124m'\u001b[39m\u001b[38;5;124mSentiment\u001b[39m\u001b[38;5;124m'\u001b[39m] \u001b[38;5;241m==\u001b[39m sentiment][\u001b[38;5;124m'\u001b[39m\u001b[38;5;124mclean_text\u001b[39m\u001b[38;5;124m'\u001b[39m])\n\u001b[1;32m---> 20\u001b[0m     wordcloud \u001b[38;5;241m=\u001b[39m \u001b[43mWordCloud\u001b[49m(width\u001b[38;5;241m=\u001b[39m\u001b[38;5;241m400\u001b[39m, height\u001b[38;5;241m=\u001b[39m\u001b[38;5;241m400\u001b[39m, background_color\u001b[38;5;241m=\u001b[39m\u001b[38;5;124m'\u001b[39m\u001b[38;5;124mwhite\u001b[39m\u001b[38;5;124m'\u001b[39m, colormap\u001b[38;5;241m=\u001b[39m\u001b[38;5;124m'\u001b[39m\u001b[38;5;124mviridis\u001b[39m\u001b[38;5;124m'\u001b[39m)\u001b[38;5;241m.\u001b[39mgenerate(text_blob)\n\u001b[0;32m     21\u001b[0m     axs[i]\u001b[38;5;241m.\u001b[39mimshow(wordcloud, interpolation\u001b[38;5;241m=\u001b[39m\u001b[38;5;124m'\u001b[39m\u001b[38;5;124mbilinear\u001b[39m\u001b[38;5;124m'\u001b[39m)\n\u001b[0;32m     22\u001b[0m     axs[i]\u001b[38;5;241m.\u001b[39mset_title(sentiment, fontsize\u001b[38;5;241m=\u001b[39m\u001b[38;5;241m16\u001b[39m)\n",
      "\u001b[1;31mNameError\u001b[0m: name 'WordCloud' is not defined"
     ]
    },
    {
     "data": {
      "image/png": "[encoded data removed]",
      "text/plain": [
       "<Figure size 2500x500 with 5 Axes>"
      ]
     },
     "metadata": {},
     "output_type": "display_data"
    }
   ],
   "source": [
    "word_cloud_df['clean_text'] = word_cloud_df['OriginalTweet'].str.lower()\n",
    "sentiments = word_cloud_df['Sentiment'].unique()\n",
    "to_remove = \"http\"\n",
    "\n",
    "def delete_words_with_http(text, to_remove):\n",
    "    if not isinstance(text, str):\n",
    "        return text\n",
    "    words = text.split()\n",
    "    kept_words = [word for word in words if to_remove not in word]\n",
    "    return ' '.join(kept_words)\n",
    "\n",
    "word_cloud_df['clean_text'] = word_cloud_df['clean_text'].apply(lambda x: delete_words_with_http(x, to_remove))\n",
    "\n",
    "# Plot word clouds\n",
    "fig, axs = plt.subplots(1, len(sentiments), figsize=(5 * len(sentiments), 5))\n",
    "if len(sentiments) == 1:\n",
    "    axs = [axs]  # make iterable\n",
    "for i, sentiment in enumerate(sentiments):\n",
    "    text_blob = \" \".join(word_cloud_df[word_cloud_df['Sentiment'] == sentiment]['clean_text'])\n",
    "    wordcloud = WordCloud(width=400, height=400, background_color='white', colormap='viridis').generate(text_blob)\n",
    "    axs[i].imshow(wordcloud, interpolation='bilinear')\n",
    "    axs[i].set_title(sentiment, fontsize=16)\n",
    "    axs[i].axis('off')\n",
    "\n",
    "plt.tight_layout()\n",
    "plt.show()"
   ]
  },
  {
   "cell_type": "markdown",
   "id": "5D6bYkTl8MFU",
   "metadata": {
    "id": "5D6bYkTl8MFU"
   },
   "source": [
    "The word cloud **did not show** any substantial differances between the topics of tweets under all sentiment categories"
   ]
  },
  {
   "cell_type": "markdown",
   "id": "e854a55d",
   "metadata": {},
   "source": [
    "Let's dive into the tweets themselves"
   ]
  },
  {
   "cell_type": "markdown",
   "id": "9a31df8f",
   "metadata": {},
   "source": [
    "## 4. Hashtags vs Sentiment"
   ]
  },
  {
   "cell_type": "code",
   "execution_count": 44,
   "id": "c5827369",
   "metadata": {},
   "outputs": [
    {
     "data": {
      "image/png": "[encoded data removed]",
      "text/plain": [
       "<Figure size 1600x900 with 1 Axes>"
      ]
     },
     "metadata": {},
     "output_type": "display_data"
    }
   ],
   "source": [
    "def extract_hashtags(text):\n",
    "    return re.findall(r\"#\\w+\", text.lower())\n",
    "\n",
    "def build_hashtag_df(df):\n",
    "    rows = []\n",
    "    for _, row in df.iterrows():\n",
    "        hashtags = extract_hashtags(row['OriginalTweet'])\n",
    "        for tag in hashtags:\n",
    "            rows.append({'Sentiment': row['Sentiment'], 'hashtag': tag})\n",
    "    return pd.DataFrame(rows)\n",
    "\n",
    "def plot_top_hashtags_by_sentiment(df, top_n = 10):\n",
    "    hashtag_df = build_hashtag_df(df)\n",
    "    top_tags = (\n",
    "        hashtag_df\n",
    "        .groupby('Sentiment')['hashtag']\n",
    "        .apply(lambda x: Counter(x).most_common(top_n))\n",
    "        .reset_index(name='top_hashtags')\n",
    "    )\n",
    "    flat_data = []\n",
    "    for _, row in top_tags.iterrows():\n",
    "        for tag, count in row['top_hashtags']:\n",
    "            flat_data.append({'Sentiment': row['Sentiment'], 'hashtag': tag, 'count': count})\n",
    "\n",
    "    top_df = pd.DataFrame(flat_data)\n",
    "    plt.figure(figsize=(16,9))\n",
    "    sns.barplot(data=top_df, x='hashtag', y='count', hue='Sentiment')\n",
    "    plt.xticks(rotation=45, ha='right')\n",
    "    plt.title(f'Top {top_n} Hashtags by Sentiment')\n",
    "    plt.tight_layout()\n",
    "    plt.show()\n",
    "\n",
    "plot_top_hashtags_by_sentiment(train_df)"
   ]
  },
  {
   "cell_type": "code",
   "execution_count": 45,
   "id": "7d0fb6ff",
   "metadata": {},
   "outputs": [
    {
     "data": {
      "image/png": "[encoded data removed]",
      "text/plain": [
       "<Figure size 1500x600 with 1 Axes>"
      ]
     },
     "metadata": {},
     "output_type": "display_data"
    }
   ],
   "source": [
    "def has_hashtag(text):\n",
    "    return bool(re.search(r\"#\\w+\", str(text)))\n",
    "\n",
    "hashtag_df = train_df.copy()\n",
    "hashtag_df['has_hashtag'] = hashtag_df['OriginalTweet'].apply(has_hashtag)\n",
    "grouped = hashtag_df.groupby('Sentiment')['has_hashtag'].agg(['sum', 'count']).reset_index()\n",
    "grouped['percent_with_hashtag'] = 100 * grouped['sum'] / grouped['count']\n",
    "\n",
    "grouped = grouped.sort_values('percent_with_hashtag', ascending=False)\n",
    "\n",
    "# Plot\n",
    "plt.figure(figsize=(15, 6))\n",
    "sns.barplot(data=grouped, x='Sentiment', y='percent_with_hashtag', palette='viridis')\n",
    "plt.ylabel(\"Percent of Tweets with Hashtags\")\n",
    "plt.xlabel(\"Sentiment\")\n",
    "plt.title(\"Hashtag Usage by Sentiment\")\n",
    "plt.ylim(0, 100)\n",
    "plt.xticks(rotation=45)\n",
    "plt.tight_layout()\n",
    "plt.show()"
   ]
  },
  {
   "cell_type": "markdown",
   "id": "5b402e8a",
   "metadata": {},
   "source": [
    "# Text pre processing"
   ]
  },
  {
   "cell_type": "markdown",
   "id": "8b07c83f",
   "metadata": {},
   "source": [
    "Since the task is LLM-based, we do not want to preform classical text processing operations like lematization and stemming, since this is encoded in the Model's tokenizer. Instead, we want to transfer the tweets to be as close to regular english (the better the model understans it and has a token representation for the word, the better).<<br>Thus, we preform the followin transformation using Regular expression: the motivation behind each step is mentioned:"
   ]
  },
  {
   "cell_type": "code",
   "execution_count": 46,
   "id": "71e551dd",
   "metadata": {},
   "outputs": [],
   "source": [
    "import html"
   ]
  },
  {
   "cell_type": "code",
   "execution_count": 47,
   "id": "a5010330",
   "metadata": {},
   "outputs": [],
   "source": [
    "def clean_tweet_text(text: str) -> str:\n",
    "    # Decode HTML entities\n",
    "    text = html.unescape(text)\n",
    "    # Replace URLs with <URL> token\n",
    "    text = re.sub(r'http\\S+|www\\S+', '<URL>', text)\n",
    "    # Replace mentions with <USER> token: none of the usernames are relevant for context and were probably anonimized.\n",
    "    text = re.sub(r'@\\w+', '<USER>', text)\n",
    "    # Optionally remove hashtag symbol but keep the word ( #covid -> covid )\n",
    "    text = re.sub(r'#(\\w+)', r'\\1', text)\n",
    "    # Normalize excessive repeated characters (e.g., sooooo → soo), also double or tripple spaces are a waste of tokens.\n",
    "    text = re.sub(r'(.)\\1{2,}', r'\\1\\1', text)\n",
    "    # Remove leading/trailing whitespace and normalize internal spaces\n",
    "    text = text.strip()\n",
    "    text = re.sub(r'\\s+', ' ', text)\n",
    "    return text\n"
   ]
  },
  {
   "cell_type": "code",
   "execution_count": 48,
   "id": "390e18b8",
   "metadata": {},
   "outputs": [],
   "source": [
    "clean_text_train_df = train_df.copy()\n",
    "clean_text_train_df[\"ProcessedTweet\"] = clean_text_train_df[\"OriginalTweet\"].apply(lambda x: clean_tweet_text(x))"
   ]
  },
  {
   "cell_type": "code",
   "execution_count": 43,
   "id": "ba774596",
   "metadata": {},
   "outputs": [
    {
     "data": {
      "text/html": [
       "<div>\n",
       "<style scoped>\n",
       "    .dataframe tbody tr th:only-of-type {\n",
       "        vertical-align: middle;\n",
       "    }\n",
       "\n",
       "    .dataframe tbody tr th {\n",
       "        vertical-align: top;\n",
       "    }\n",
       "\n",
       "    .dataframe thead th {\n",
       "        text-align: right;\n",
       "    }\n",
       "</style>\n",
       "<table border=\"1\" class=\"dataframe\">\n",
       "  <thead>\n",
       "    <tr style=\"text-align: right;\">\n",
       "      <th></th>\n",
       "      <th>OriginalTweet</th>\n",
       "      <th>ProcessedTweet</th>\n",
       "    </tr>\n",
       "  </thead>\n",
       "  <tbody>\n",
       "    <tr>\n",
       "      <th>0</th>\n",
       "      <td>@MeNyrbie @Phil_Gahan @Chrisitv https://t.co/i...</td>\n",
       "      <td>&lt;USER&gt; &lt;USER&gt; &lt;USER&gt; &lt;URL&gt; and &lt;URL&gt; and &lt;URL&gt;</td>\n",
       "    </tr>\n",
       "    <tr>\n",
       "      <th>1</th>\n",
       "      <td>advice Talk to your neighbours family to excha...</td>\n",
       "      <td>advice Talk to your neighbours family to excha...</td>\n",
       "    </tr>\n",
       "    <tr>\n",
       "      <th>2</th>\n",
       "      <td>Coronavirus Australia: Woolworths to give elde...</td>\n",
       "      <td>Coronavirus Australia: Woolworths to give elde...</td>\n",
       "    </tr>\n",
       "    <tr>\n",
       "      <th>3</th>\n",
       "      <td>My food stock is not the only one which is emp...</td>\n",
       "      <td>My food stock is not the only one which is emp...</td>\n",
       "    </tr>\n",
       "    <tr>\n",
       "      <th>4</th>\n",
       "      <td>Me, ready to go at supermarket during the #COV...</td>\n",
       "      <td>Me, ready to go at supermarket during the COVI...</td>\n",
       "    </tr>\n",
       "    <tr>\n",
       "      <th>...</th>\n",
       "      <td>...</td>\n",
       "      <td>...</td>\n",
       "    </tr>\n",
       "    <tr>\n",
       "      <th>41152</th>\n",
       "      <td>Airline pilots offering to stock supermarket s...</td>\n",
       "      <td>Airline pilots offering to stock supermarket s...</td>\n",
       "    </tr>\n",
       "    <tr>\n",
       "      <th>41153</th>\n",
       "      <td>Response to complaint not provided citing COVI...</td>\n",
       "      <td>Response to complaint not provided citing COVI...</td>\n",
       "    </tr>\n",
       "    <tr>\n",
       "      <th>41154</th>\n",
       "      <td>You know itÂs getting tough when @KameronWild...</td>\n",
       "      <td>You know itÂs getting tough when &lt;USER&gt; is ra...</td>\n",
       "    </tr>\n",
       "    <tr>\n",
       "      <th>41155</th>\n",
       "      <td>Is it wrong that the smell of hand sanitizer i...</td>\n",
       "      <td>Is it wrong that the smell of hand sanitizer i...</td>\n",
       "    </tr>\n",
       "    <tr>\n",
       "      <th>41156</th>\n",
       "      <td>@TartiiCat Well new/used Rift S are going for ...</td>\n",
       "      <td>&lt;USER&gt; Well new/used Rift S are going for $700...</td>\n",
       "    </tr>\n",
       "  </tbody>\n",
       "</table>\n",
       "<p>41157 rows × 2 columns</p>\n",
       "</div>"
      ],
      "text/plain": [
       "                                           OriginalTweet  \\\n",
       "0      @MeNyrbie @Phil_Gahan @Chrisitv https://t.co/i...   \n",
       "1      advice Talk to your neighbours family to excha...   \n",
       "2      Coronavirus Australia: Woolworths to give elde...   \n",
       "3      My food stock is not the only one which is emp...   \n",
       "4      Me, ready to go at supermarket during the #COV...   \n",
       "...                                                  ...   \n",
       "41152  Airline pilots offering to stock supermarket s...   \n",
       "41153  Response to complaint not provided citing COVI...   \n",
       "41154  You know itÂs getting tough when @KameronWild...   \n",
       "41155  Is it wrong that the smell of hand sanitizer i...   \n",
       "41156  @TartiiCat Well new/used Rift S are going for ...   \n",
       "\n",
       "                                          ProcessedTweet  \n",
       "0         <USER> <USER> <USER> <URL> and <URL> and <URL>  \n",
       "1      advice Talk to your neighbours family to excha...  \n",
       "2      Coronavirus Australia: Woolworths to give elde...  \n",
       "3      My food stock is not the only one which is emp...  \n",
       "4      Me, ready to go at supermarket during the COVI...  \n",
       "...                                                  ...  \n",
       "41152  Airline pilots offering to stock supermarket s...  \n",
       "41153  Response to complaint not provided citing COVI...  \n",
       "41154  You know itÂs getting tough when <USER> is ra...  \n",
       "41155  Is it wrong that the smell of hand sanitizer i...  \n",
       "41156  <USER> Well new/used Rift S are going for $700...  \n",
       "\n",
       "[41157 rows x 2 columns]"
      ]
     },
     "execution_count": 43,
     "metadata": {},
     "output_type": "execute_result"
    }
   ],
   "source": [
    "clean_text_train_df[[\"OriginalTweet\", \"ProcessedTweet\"]]"
   ]
  },
  {
   "cell_type": "code",
   "execution_count": null,
   "id": "be4dfafe",
   "metadata": {},
   "outputs": [],
   "source": []
  }
 ],
 "metadata": {
  "colab": {
   "provenance": []
  },
  "kernelspec": {
   "display_name": "Python 3",
   "name": "python3"
  },
  "language_info": {
   "codemirror_mode": {
    "name": "ipython",
    "version": 3
   },
   "file_extension": ".py",
   "mimetype": "text/x-python",
   "name": "python",
   "nbconvert_exporter": "python",
   "pygments_lexer": "ipython3",
   "version": "3.8.0"
  }
 },
 "nbformat": 4,
 "nbformat_minor": 5
}
