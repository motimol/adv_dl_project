{
 "cells": [
  {
   "cell_type": "code",
   "execution_count": 21,
   "id": "7b04d337",
   "metadata": {},
   "outputs": [],
   "source": [
    "import os\n",
    "import kagglehub\n",
    "import pandas as pd\n",
    "import plotly.express as px"
   ]
  },
  {
   "cell_type": "code",
   "execution_count": 13,
   "id": "c809c494",
   "metadata": {},
   "outputs": [
    {
     "name": "stdout",
     "output_type": "stream",
     "text": [
      "Warning: Looks like you're using an outdated `kagglehub` version, please consider updating (latest version: 0.3.12)\n",
      "Path to dataset files: C:\\Users\\MotiM\\.cache\\kagglehub\\datasets\\datatattle\\covid-19-nlp-text-classification\\versions\\1\n"
     ]
    }
   ],
   "source": [
    "data_path = kagglehub.dataset_download(\"datatattle/covid-19-nlp-text-classification\")\n",
    "\n",
    "print(\"Path to dataset files:\", data_path)\n"
   ]
  },
  {
   "cell_type": "code",
   "execution_count": 25,
   "id": "db500c4e",
   "metadata": {},
   "outputs": [],
   "source": [
    "train_df = pd.read_csv(os.path.join(data_path, \"Corona_NLP_train.csv\"), encoding=\"latin1\")\n",
    "test_df = pd.read_csv(os.path.join(data_path, \"Corona_NLP_test.csv\"), encoding=\"latin1\")"
   ]
  },
  {
   "cell_type": "code",
   "execution_count": 27,
   "id": "8b25c2c6",
   "metadata": {},
   "outputs": [
    {
     "name": "stdout",
     "output_type": "stream",
     "text": [
      "(41157, 6) (3798, 6)\n"
     ]
    }
   ],
   "source": [
    "print(train_df.shape, test_df.shape)"
   ]
  },
  {
   "cell_type": "markdown",
   "id": "4efe4032",
   "metadata": {},
   "source": [
    "Null count"
   ]
  },
  {
   "cell_type": "code",
   "execution_count": 26,
   "id": "aef2fd19",
   "metadata": {},
   "outputs": [
    {
     "data": {
      "text/plain": [
       "UserName            0\n",
       "ScreenName          0\n",
       "Location         8590\n",
       "TweetAt             0\n",
       "OriginalTweet       0\n",
       "Sentiment           0\n",
       "dtype: int64"
      ]
     },
     "execution_count": 26,
     "metadata": {},
     "output_type": "execute_result"
    }
   ],
   "source": [
    "train_df.isna().sum()"
   ]
  },
  {
   "cell_type": "markdown",
   "id": "20c9d865",
   "metadata": {},
   "source": [
    "Seems that only location has null values. So, for visualizations involving location, we'll remove them."
   ]
  },
  {
   "cell_type": "markdown",
   "id": "1429f38b",
   "metadata": {},
   "source": [
    "Number of unique classes:"
   ]
  },
  {
   "cell_type": "code",
   "execution_count": 32,
   "id": "bc88aa4e",
   "metadata": {},
   "outputs": [
    {
     "data": {
      "text/plain": [
       "Index(['Positive', 'Negative', 'Neutral', 'Extremely Positive',\n",
       "       'Extremely Negative'],\n",
       "      dtype='object')"
      ]
     },
     "execution_count": 32,
     "metadata": {},
     "output_type": "execute_result"
    }
   ],
   "source": [
    "train_df['Sentiment'].value_counts().index"
   ]
  },
  {
   "cell_type": "code",
   "execution_count": 28,
   "id": "698d15c8",
   "metadata": {},
   "outputs": [
    {
     "data": {
      "application/vnd.plotly.v1+json": {
       "config": {
        "plotlyServerURL": "https://plot.ly"
       },
       "data": [
        {
         "domain": {
          "x": [
           0,
           1
          ],
          "y": [
           0,
           1
          ]
         },
         "hole": 0.4,
         "hovertemplate": "Sentiment=%{label}<br>Count=%{value}<extra></extra>",
         "labels": [
          "Positive",
          "Negative",
          "Neutral",
          "Extremely Positive",
          "Extremely Negative"
         ],
         "legendgroup": "",
         "name": "",
         "showlegend": true,
         "type": "pie",
         "values": [
          11422,
          9917,
          7713,
          6624,
          5481
         ]
        }
       ],
       "layout": {
        "legend": {
         "tracegroupgap": 0
        },
        "template": {
         "data": {
          "bar": [
           {
            "error_x": {
             "color": "#2a3f5f"
            },
            "error_y": {
             "color": "#2a3f5f"
            },
            "marker": {
             "line": {
              "color": "#E5ECF6",
              "width": 0.5
             }
            },
            "type": "bar"
           }
          ],
          "barpolar": [
           {
            "marker": {
             "line": {
              "color": "#E5ECF6",
              "width": 0.5
             }
            },
            "type": "barpolar"
           }
          ],
          "carpet": [
           {
            "aaxis": {
             "endlinecolor": "#2a3f5f",
             "gridcolor": "white",
             "linecolor": "white",
             "minorgridcolor": "white",
             "startlinecolor": "#2a3f5f"
            },
            "baxis": {
             "endlinecolor": "#2a3f5f",
             "gridcolor": "white",
             "linecolor": "white",
             "minorgridcolor": "white",
             "startlinecolor": "#2a3f5f"
            },
            "type": "carpet"
           }
          ],
          "choropleth": [
           {
            "colorbar": {
             "outlinewidth": 0,
             "ticks": ""
            },
            "type": "choropleth"
           }
          ],
          "contour": [
           {
            "colorbar": {
             "outlinewidth": 0,
             "ticks": ""
            },
            "colorscale": [
             [
              0,
              "#0d0887"
             ],
             [
              0.1111111111111111,
              "#46039f"
             ],
             [
              0.2222222222222222,
              "#7201a8"
             ],
             [
              0.3333333333333333,
              "#9c179e"
             ],
             [
              0.4444444444444444,
              "#bd3786"
             ],
             [
              0.5555555555555556,
              "#d8576b"
             ],
             [
              0.6666666666666666,
              "#ed7953"
             ],
             [
              0.7777777777777778,
              "#fb9f3a"
             ],
             [
              0.8888888888888888,
              "#fdca26"
             ],
             [
              1,
              "#f0f921"
             ]
            ],
            "type": "contour"
           }
          ],
          "contourcarpet": [
           {
            "colorbar": {
             "outlinewidth": 0,
             "ticks": ""
            },
            "type": "contourcarpet"
           }
          ],
          "heatmap": [
           {
            "colorbar": {
             "outlinewidth": 0,
             "ticks": ""
            },
            "colorscale": [
             [
              0,
              "#0d0887"
             ],
             [
              0.1111111111111111,
              "#46039f"
             ],
             [
              0.2222222222222222,
              "#7201a8"
             ],
             [
              0.3333333333333333,
              "#9c179e"
             ],
             [
              0.4444444444444444,
              "#bd3786"
             ],
             [
              0.5555555555555556,
              "#d8576b"
             ],
             [
              0.6666666666666666,
              "#ed7953"
             ],
             [
              0.7777777777777778,
              "#fb9f3a"
             ],
             [
              0.8888888888888888,
              "#fdca26"
             ],
             [
              1,
              "#f0f921"
             ]
            ],
            "type": "heatmap"
           }
          ],
          "heatmapgl": [
           {
            "colorbar": {
             "outlinewidth": 0,
             "ticks": ""
            },
            "colorscale": [
             [
              0,
              "#0d0887"
             ],
             [
              0.1111111111111111,
              "#46039f"
             ],
             [
              0.2222222222222222,
              "#7201a8"
             ],
             [
              0.3333333333333333,
              "#9c179e"
             ],
             [
              0.4444444444444444,
              "#bd3786"
             ],
             [
              0.5555555555555556,
              "#d8576b"
             ],
             [
              0.6666666666666666,
              "#ed7953"
             ],
             [
              0.7777777777777778,
              "#fb9f3a"
             ],
             [
              0.8888888888888888,
              "#fdca26"
             ],
             [
              1,
              "#f0f921"
             ]
            ],
            "type": "heatmapgl"
           }
          ],
          "histogram": [
           {
            "marker": {
             "colorbar": {
              "outlinewidth": 0,
              "ticks": ""
             }
            },
            "type": "histogram"
           }
          ],
          "histogram2d": [
           {
            "colorbar": {
             "outlinewidth": 0,
             "ticks": ""
            },
            "colorscale": [
             [
              0,
              "#0d0887"
             ],
             [
              0.1111111111111111,
              "#46039f"
             ],
             [
              0.2222222222222222,
              "#7201a8"
             ],
             [
              0.3333333333333333,
              "#9c179e"
             ],
             [
              0.4444444444444444,
              "#bd3786"
             ],
             [
              0.5555555555555556,
              "#d8576b"
             ],
             [
              0.6666666666666666,
              "#ed7953"
             ],
             [
              0.7777777777777778,
              "#fb9f3a"
             ],
             [
              0.8888888888888888,
              "#fdca26"
             ],
             [
              1,
              "#f0f921"
             ]
            ],
            "type": "histogram2d"
           }
          ],
          "histogram2dcontour": [
           {
            "colorbar": {
             "outlinewidth": 0,
             "ticks": ""
            },
            "colorscale": [
             [
              0,
              "#0d0887"
             ],
             [
              0.1111111111111111,
              "#46039f"
             ],
             [
              0.2222222222222222,
              "#7201a8"
             ],
             [
              0.3333333333333333,
              "#9c179e"
             ],
             [
              0.4444444444444444,
              "#bd3786"
             ],
             [
              0.5555555555555556,
              "#d8576b"
             ],
             [
              0.6666666666666666,
              "#ed7953"
             ],
             [
              0.7777777777777778,
              "#fb9f3a"
             ],
             [
              0.8888888888888888,
              "#fdca26"
             ],
             [
              1,
              "#f0f921"
             ]
            ],
            "type": "histogram2dcontour"
           }
          ],
          "mesh3d": [
           {
            "colorbar": {
             "outlinewidth": 0,
             "ticks": ""
            },
            "type": "mesh3d"
           }
          ],
          "parcoords": [
           {
            "line": {
             "colorbar": {
              "outlinewidth": 0,
              "ticks": ""
             }
            },
            "type": "parcoords"
           }
          ],
          "pie": [
           {
            "automargin": true,
            "type": "pie"
           }
          ],
          "scatter": [
           {
            "marker": {
             "colorbar": {
              "outlinewidth": 0,
              "ticks": ""
             }
            },
            "type": "scatter"
           }
          ],
          "scatter3d": [
           {
            "line": {
             "colorbar": {
              "outlinewidth": 0,
              "ticks": ""
             }
            },
            "marker": {
             "colorbar": {
              "outlinewidth": 0,
              "ticks": ""
             }
            },
            "type": "scatter3d"
           }
          ],
          "scattercarpet": [
           {
            "marker": {
             "colorbar": {
              "outlinewidth": 0,
              "ticks": ""
             }
            },
            "type": "scattercarpet"
           }
          ],
          "scattergeo": [
           {
            "marker": {
             "colorbar": {
              "outlinewidth": 0,
              "ticks": ""
             }
            },
            "type": "scattergeo"
           }
          ],
          "scattergl": [
           {
            "marker": {
             "colorbar": {
              "outlinewidth": 0,
              "ticks": ""
             }
            },
            "type": "scattergl"
           }
          ],
          "scattermapbox": [
           {
            "marker": {
             "colorbar": {
              "outlinewidth": 0,
              "ticks": ""
             }
            },
            "type": "scattermapbox"
           }
          ],
          "scatterpolar": [
           {
            "marker": {
             "colorbar": {
              "outlinewidth": 0,
              "ticks": ""
             }
            },
            "type": "scatterpolar"
           }
          ],
          "scatterpolargl": [
           {
            "marker": {
             "colorbar": {
              "outlinewidth": 0,
              "ticks": ""
             }
            },
            "type": "scatterpolargl"
           }
          ],
          "scatterternary": [
           {
            "marker": {
             "colorbar": {
              "outlinewidth": 0,
              "ticks": ""
             }
            },
            "type": "scatterternary"
           }
          ],
          "surface": [
           {
            "colorbar": {
             "outlinewidth": 0,
             "ticks": ""
            },
            "colorscale": [
             [
              0,
              "#0d0887"
             ],
             [
              0.1111111111111111,
              "#46039f"
             ],
             [
              0.2222222222222222,
              "#7201a8"
             ],
             [
              0.3333333333333333,
              "#9c179e"
             ],
             [
              0.4444444444444444,
              "#bd3786"
             ],
             [
              0.5555555555555556,
              "#d8576b"
             ],
             [
              0.6666666666666666,
              "#ed7953"
             ],
             [
              0.7777777777777778,
              "#fb9f3a"
             ],
             [
              0.8888888888888888,
              "#fdca26"
             ],
             [
              1,
              "#f0f921"
             ]
            ],
            "type": "surface"
           }
          ],
          "table": [
           {
            "cells": {
             "fill": {
              "color": "#EBF0F8"
             },
             "line": {
              "color": "white"
             }
            },
            "header": {
             "fill": {
              "color": "#C8D4E3"
             },
             "line": {
              "color": "white"
             }
            },
            "type": "table"
           }
          ]
         },
         "layout": {
          "annotationdefaults": {
           "arrowcolor": "#2a3f5f",
           "arrowhead": 0,
           "arrowwidth": 1
          },
          "autotypenumbers": "strict",
          "coloraxis": {
           "colorbar": {
            "outlinewidth": 0,
            "ticks": ""
           }
          },
          "colorscale": {
           "diverging": [
            [
             0,
             "#8e0152"
            ],
            [
             0.1,
             "#c51b7d"
            ],
            [
             0.2,
             "#de77ae"
            ],
            [
             0.3,
             "#f1b6da"
            ],
            [
             0.4,
             "#fde0ef"
            ],
            [
             0.5,
             "#f7f7f7"
            ],
            [
             0.6,
             "#e6f5d0"
            ],
            [
             0.7,
             "#b8e186"
            ],
            [
             0.8,
             "#7fbc41"
            ],
            [
             0.9,
             "#4d9221"
            ],
            [
             1,
             "#276419"
            ]
           ],
           "sequential": [
            [
             0,
             "#0d0887"
            ],
            [
             0.1111111111111111,
             "#46039f"
            ],
            [
             0.2222222222222222,
             "#7201a8"
            ],
            [
             0.3333333333333333,
             "#9c179e"
            ],
            [
             0.4444444444444444,
             "#bd3786"
            ],
            [
             0.5555555555555556,
             "#d8576b"
            ],
            [
             0.6666666666666666,
             "#ed7953"
            ],
            [
             0.7777777777777778,
             "#fb9f3a"
            ],
            [
             0.8888888888888888,
             "#fdca26"
            ],
            [
             1,
             "#f0f921"
            ]
           ],
           "sequentialminus": [
            [
             0,
             "#0d0887"
            ],
            [
             0.1111111111111111,
             "#46039f"
            ],
            [
             0.2222222222222222,
             "#7201a8"
            ],
            [
             0.3333333333333333,
             "#9c179e"
            ],
            [
             0.4444444444444444,
             "#bd3786"
            ],
            [
             0.5555555555555556,
             "#d8576b"
            ],
            [
             0.6666666666666666,
             "#ed7953"
            ],
            [
             0.7777777777777778,
             "#fb9f3a"
            ],
            [
             0.8888888888888888,
             "#fdca26"
            ],
            [
             1,
             "#f0f921"
            ]
           ]
          },
          "colorway": [
           "#636efa",
           "#EF553B",
           "#00cc96",
           "#ab63fa",
           "#FFA15A",
           "#19d3f3",
           "#FF6692",
           "#B6E880",
           "#FF97FF",
           "#FECB52"
          ],
          "font": {
           "color": "#2a3f5f"
          },
          "geo": {
           "bgcolor": "white",
           "lakecolor": "white",
           "landcolor": "#E5ECF6",
           "showlakes": true,
           "showland": true,
           "subunitcolor": "white"
          },
          "hoverlabel": {
           "align": "left"
          },
          "hovermode": "closest",
          "mapbox": {
           "style": "light"
          },
          "paper_bgcolor": "white",
          "plot_bgcolor": "#E5ECF6",
          "polar": {
           "angularaxis": {
            "gridcolor": "white",
            "linecolor": "white",
            "ticks": ""
           },
           "bgcolor": "#E5ECF6",
           "radialaxis": {
            "gridcolor": "white",
            "linecolor": "white",
            "ticks": ""
           }
          },
          "scene": {
           "xaxis": {
            "backgroundcolor": "#E5ECF6",
            "gridcolor": "white",
            "gridwidth": 2,
            "linecolor": "white",
            "showbackground": true,
            "ticks": "",
            "zerolinecolor": "white"
           },
           "yaxis": {
            "backgroundcolor": "#E5ECF6",
            "gridcolor": "white",
            "gridwidth": 2,
            "linecolor": "white",
            "showbackground": true,
            "ticks": "",
            "zerolinecolor": "white"
           },
           "zaxis": {
            "backgroundcolor": "#E5ECF6",
            "gridcolor": "white",
            "gridwidth": 2,
            "linecolor": "white",
            "showbackground": true,
            "ticks": "",
            "zerolinecolor": "white"
           }
          },
          "shapedefaults": {
           "line": {
            "color": "#2a3f5f"
           }
          },
          "ternary": {
           "aaxis": {
            "gridcolor": "white",
            "linecolor": "white",
            "ticks": ""
           },
           "baxis": {
            "gridcolor": "white",
            "linecolor": "white",
            "ticks": ""
           },
           "bgcolor": "#E5ECF6",
           "caxis": {
            "gridcolor": "white",
            "linecolor": "white",
            "ticks": ""
           }
          },
          "title": {
           "x": 0.05
          },
          "xaxis": {
           "automargin": true,
           "gridcolor": "white",
           "linecolor": "white",
           "ticks": "",
           "title": {
            "standoff": 15
           },
           "zerolinecolor": "white",
           "zerolinewidth": 2
          },
          "yaxis": {
           "automargin": true,
           "gridcolor": "white",
           "linecolor": "white",
           "ticks": "",
           "title": {
            "standoff": 15
           },
           "zerolinecolor": "white",
           "zerolinewidth": 2
          }
         }
        },
        "title": {
         "text": "Distribution of Sentiments in Training Data"
        }
       }
      }
     },
     "metadata": {},
     "output_type": "display_data"
    }
   ],
   "source": [
    "sentiment_counts = train_df['Sentiment'].value_counts().reset_index()\n",
    "sentiment_counts.columns = ['Sentiment', 'Count']\n",
    "fig = px.pie(sentiment_counts, values='Count', names='Sentiment', title='Distribution of Sentiments in Training Data', hole=0.4)\n",
    "fig.show()"
   ]
  },
  {
   "cell_type": "markdown",
   "id": "d80b5e66",
   "metadata": {},
   "source": [
    "5 classes, seems quite balanced"
   ]
  },
  {
   "cell_type": "code",
   "execution_count": null,
   "id": "aa6cc29b",
   "metadata": {},
   "outputs": [],
   "source": []
  },
  {
   "cell_type": "code",
   "execution_count": null,
   "id": "d86637e7",
   "metadata": {},
   "outputs": [],
   "source": []
  },
  {
   "cell_type": "markdown",
   "id": "c064205d",
   "metadata": {},
   "source": [
    "# Visualizations"
   ]
  },
  {
   "cell_type": "markdown",
   "id": "b7b7d008",
   "metadata": {},
   "source": [
    "## 1. Sentiment VS Geographical location"
   ]
  },
  {
   "cell_type": "markdown",
   "id": "4b6e2000",
   "metadata": {},
   "source": [
    "Clean dataframe for visualiations regarding location"
   ]
  },
  {
   "cell_type": "code",
   "execution_count": 33,
   "id": "7272ccca",
   "metadata": {},
   "outputs": [],
   "source": [
    "SENTIMENT_TO_SCORE_MAPPING = {\n",
    "    'Extremely Negative': -2,\n",
    "    'Negative': -1,\n",
    "    'Neutral': 0,\n",
    "    'Positive': 1,\n",
    "    'Extremely Positive': 2\n",
    "    }"
   ]
  },
  {
   "cell_type": "code",
   "execution_count": 34,
   "id": "fcd9559b",
   "metadata": {},
   "outputs": [
    {
     "name": "stderr",
     "output_type": "stream",
     "text": [
      "C:\\Users\\MotiM\\AppData\\Roaming\\Python\\Python37\\site-packages\\ipykernel_launcher.py:2: SettingWithCopyWarning:\n",
      "\n",
      "\n",
      "A value is trying to be set on a copy of a slice from a DataFrame.\n",
      "Try using .loc[row_indexer,col_indexer] = value instead\n",
      "\n",
      "See the caveats in the documentation: https://pandas.pydata.org/pandas-docs/stable/user_guide/indexing.html#returning-a-view-versus-a-copy\n",
      "\n"
     ]
    }
   ],
   "source": [
    "location_viz_df = train_df[~train_df[\"Location\"].isna()]\n",
    "location_viz_df[\"sentiment_score\"] = location_viz_df[\"Sentiment\"].map(SENTIMENT_TO_SCORE_MAPPING)"
   ]
  },
  {
   "cell_type": "code",
   "execution_count": null,
   "id": "6e97b156",
   "metadata": {},
   "outputs": [],
   "source": [
    "LOCATION_IQ_TOKEN = 'pk.141e2e5711ccfbe2bea40ef7e857c721'\n",
    "SAMPLE_SIZE = 300 # because of a ratelimit to the API - maximum 5K / day"
   ]
  },
  {
   "cell_type": "code",
   "execution_count": 52,
   "id": "1e564581",
   "metadata": {},
   "outputs": [],
   "source": [
    "map_viz_df = location_viz_df.sample(SAMPLE_SIZE, random_state=23)"
   ]
  },
  {
   "cell_type": "code",
   "execution_count": 53,
   "id": "1b2052fe",
   "metadata": {},
   "outputs": [
    {
     "name": "stderr",
     "output_type": "stream",
     "text": []
    },
    {
     "name": "stdout",
     "output_type": "stream",
     "text": [
      "Error geocoding ?????: 404 Client Error: Not Found for url: https://us1.locationiq.com/v1/search.php?key=pk.141e2e5711ccfbe2bea40ef7e857c721&q=%3F%3F%3F%3F%3F&format=json\n"
     ]
    },
    {
     "name": "stderr",
     "output_type": "stream",
     "text": []
    },
    {
     "name": "stdout",
     "output_type": "stream",
     "text": [
      "Error geocoding www.fucktrump.com: 404 Client Error: Not Found for url: https://us1.locationiq.com/v1/search.php?key=pk.141e2e5711ccfbe2bea40ef7e857c721&q=www.fucktrump.com&format=json\n"
     ]
    },
    {
     "name": "stderr",
     "output_type": "stream",
     "text": []
    },
    {
     "name": "stdout",
     "output_type": "stream",
     "text": [
      "Error geocoding Research associate at IsAG: 429 Client Error: Too Many Requests for url: https://us1.locationiq.com/v1/search.php?key=pk.141e2e5711ccfbe2bea40ef7e857c721&q=Research+associate+at+IsAG&format=json\n"
     ]
    },
    {
     "name": "stderr",
     "output_type": "stream",
     "text": []
    },
    {
     "name": "stdout",
     "output_type": "stream",
     "text": [
      "Error geocoding Argadahana: 404 Client Error: Not Found for url: https://us1.locationiq.com/v1/search.php?key=pk.141e2e5711ccfbe2bea40ef7e857c721&q=Argadahana&format=json\n"
     ]
    },
    {
     "name": "stderr",
     "output_type": "stream",
     "text": []
    },
    {
     "name": "stdout",
     "output_type": "stream",
     "text": [
      "Error geocoding ??: 404 Client Error: Not Found for url: https://us1.locationiq.com/v1/search.php?key=pk.141e2e5711ccfbe2bea40ef7e857c721&q=%3F%3F&format=json\n"
     ]
    },
    {
     "name": "stderr",
     "output_type": "stream",
     "text": []
    },
    {
     "name": "stdout",
     "output_type": "stream",
     "text": [
      "Error geocoding News & Bible verses USA: 404 Client Error: Not Found for url: https://us1.locationiq.com/v1/search.php?key=pk.141e2e5711ccfbe2bea40ef7e857c721&q=News+%26+Bible+verses+USA&format=json\n"
     ]
    },
    {
     "name": "stderr",
     "output_type": "stream",
     "text": []
    },
    {
     "name": "stdout",
     "output_type": "stream",
     "text": [
      "Error geocoding deep in cognitive dissonance: 404 Client Error: Not Found for url: https://us1.locationiq.com/v1/search.php?key=pk.141e2e5711ccfbe2bea40ef7e857c721&q=deep+in+cognitive+dissonance&format=json\n"
     ]
    },
    {
     "name": "stderr",
     "output_type": "stream",
     "text": []
    },
    {
     "name": "stdout",
     "output_type": "stream",
     "text": [
      "Error geocoding Retweet doesnÂt = endorsement: 404 Client Error: Not Found for url: https://us1.locationiq.com/v1/search.php?key=pk.141e2e5711ccfbe2bea40ef7e857c721&q=Retweet+doesn%C3%82%C2%92t+%3D+endorsement&format=json\n"
     ]
    },
    {
     "name": "stderr",
     "output_type": "stream",
     "text": []
    },
    {
     "name": "stdout",
     "output_type": "stream",
     "text": [
      "Error geocoding Boston, MA: 429 Client Error: Too Many Requests for url: https://us1.locationiq.com/v1/search.php?key=pk.141e2e5711ccfbe2bea40ef7e857c721&q=Boston%2C+MA&format=json\n"
     ]
    },
    {
     "name": "stderr",
     "output_type": "stream",
     "text": []
    },
    {
     "name": "stdout",
     "output_type": "stream",
     "text": [
      "Error geocoding United States: 429 Client Error: Too Many Requests for url: https://us1.locationiq.com/v1/search.php?key=pk.141e2e5711ccfbe2bea40ef7e857c721&q=United+States&format=json\n"
     ]
    },
    {
     "name": "stderr",
     "output_type": "stream",
     "text": []
    },
    {
     "name": "stdout",
     "output_type": "stream",
     "text": [
      "Error geocoding Oxford UK: 429 Client Error: Too Many Requests for url: https://us1.locationiq.com/v1/search.php?key=pk.141e2e5711ccfbe2bea40ef7e857c721&q=Oxford+UK&format=json\n"
     ]
    },
    {
     "name": "stderr",
     "output_type": "stream",
     "text": []
    },
    {
     "name": "stdout",
     "output_type": "stream",
     "text": [
      "Error geocoding India: 429 Client Error: Too Many Requests for url: https://us1.locationiq.com/v1/search.php?key=pk.141e2e5711ccfbe2bea40ef7e857c721&q=India&format=json\n"
     ]
    },
    {
     "name": "stderr",
     "output_type": "stream",
     "text": []
    },
    {
     "name": "stdout",
     "output_type": "stream",
     "text": [
      "Error geocoding Perth, Western Australia: 429 Client Error: Too Many Requests for url: https://us1.locationiq.com/v1/search.php?key=pk.141e2e5711ccfbe2bea40ef7e857c721&q=Perth%2C+Western+Australia&format=json\n"
     ]
    },
    {
     "name": "stderr",
     "output_type": "stream",
     "text": []
    },
    {
     "name": "stdout",
     "output_type": "stream",
     "text": [
      "Error geocoding Try Ur Luck...Guess: 404 Client Error: Not Found for url: https://us1.locationiq.com/v1/search.php?key=pk.141e2e5711ccfbe2bea40ef7e857c721&q=Try+Ur+Luck...Guess&format=json\n"
     ]
    },
    {
     "name": "stderr",
     "output_type": "stream",
     "text": []
    },
    {
     "name": "stdout",
     "output_type": "stream",
     "text": [
      "Error geocoding Crenshaw X Slauson Ave = The District: 404 Client Error: Not Found for url: https://us1.locationiq.com/v1/search.php?key=pk.141e2e5711ccfbe2bea40ef7e857c721&q=Crenshaw+X+Slauson+Ave+%3D+The+District&format=json\n"
     ]
    },
    {
     "name": "stderr",
     "output_type": "stream",
     "text": []
    },
    {
     "name": "stdout",
     "output_type": "stream",
     "text": [
      "Error geocoding @literary.libations on Instagr: 404 Client Error: Not Found for url: https://us1.locationiq.com/v1/search.php?key=pk.141e2e5711ccfbe2bea40ef7e857c721&q=%40literary.libations+on+Instagr&format=json\n"
     ]
    },
    {
     "name": "stderr",
     "output_type": "stream",
     "text": []
    },
    {
     "name": "stdout",
     "output_type": "stream",
     "text": [
      "Error geocoding Edmonton, Alberta: 429 Client Error: Too Many Requests for url: https://us1.locationiq.com/v1/search.php?key=pk.141e2e5711ccfbe2bea40ef7e857c721&q=Edmonton%2C+Alberta&format=json\n"
     ]
    },
    {
     "name": "stderr",
     "output_type": "stream",
     "text": []
    },
    {
     "name": "stdout",
     "output_type": "stream",
     "text": [
      "Error geocoding Vermont : 429 Client Error: Too Many Requests for url: https://us1.locationiq.com/v1/search.php?key=pk.141e2e5711ccfbe2bea40ef7e857c721&q=Vermont+&format=json\n"
     ]
    },
    {
     "name": "stderr",
     "output_type": "stream",
     "text": []
    },
    {
     "name": "stdout",
     "output_type": "stream",
     "text": [
      "Error geocoding Playing Cool Games Since ATARI: 404 Client Error: Not Found for url: https://us1.locationiq.com/v1/search.php?key=pk.141e2e5711ccfbe2bea40ef7e857c721&q=Playing+Cool+Games+Since+ATARI&format=json\n"
     ]
    },
    {
     "name": "stderr",
     "output_type": "stream",
     "text": []
    },
    {
     "name": "stdout",
     "output_type": "stream",
     "text": [
      "Error geocoding info@aptitudeconsulting.co.za: 404 Client Error: Not Found for url: https://us1.locationiq.com/v1/search.php?key=pk.141e2e5711ccfbe2bea40ef7e857c721&q=info%40aptitudeconsulting.co.za&format=json\n"
     ]
    },
    {
     "name": "stderr",
     "output_type": "stream",
     "text": []
    },
    {
     "name": "stdout",
     "output_type": "stream",
     "text": [
      "Error geocoding WestMonster: 404 Client Error: Not Found for url: https://us1.locationiq.com/v1/search.php?key=pk.141e2e5711ccfbe2bea40ef7e857c721&q=WestMonster&format=json\n"
     ]
    },
    {
     "name": "stderr",
     "output_type": "stream",
     "text": []
    },
    {
     "name": "stdout",
     "output_type": "stream",
     "text": [
      "Error geocoding Planeptune: 404 Client Error: Not Found for url: https://us1.locationiq.com/v1/search.php?key=pk.141e2e5711ccfbe2bea40ef7e857c721&q=Planeptune&format=json\n"
     ]
    },
    {
     "name": "stderr",
     "output_type": "stream",
     "text": []
    },
    {
     "name": "stdout",
     "output_type": "stream",
     "text": [
      "Error geocoding 1021|Msawuden : 404 Client Error: Not Found for url: https://us1.locationiq.com/v1/search.php?key=pk.141e2e5711ccfbe2bea40ef7e857c721&q=1021%7CMsawuden+&format=json\n"
     ]
    },
    {
     "name": "stderr",
     "output_type": "stream",
     "text": []
    },
    {
     "name": "stdout",
     "output_type": "stream",
     "text": [
      "Error geocoding California, USA: 429 Client Error: Too Many Requests for url: https://us1.locationiq.com/v1/search.php?key=pk.141e2e5711ccfbe2bea40ef7e857c721&q=California%2C+USA&format=json\n"
     ]
    },
    {
     "name": "stderr",
     "output_type": "stream",
     "text": []
    },
    {
     "name": "stdout",
     "output_type": "stream",
     "text": [
      "Error geocoding Probably in the kitchen: 429 Client Error: Too Many Requests for url: https://us1.locationiq.com/v1/search.php?key=pk.141e2e5711ccfbe2bea40ef7e857c721&q=Probably+in+the+kitchen&format=json\n"
     ]
    },
    {
     "name": "stderr",
     "output_type": "stream",
     "text": []
    },
    {
     "name": "stdout",
     "output_type": "stream",
     "text": [
      "Error geocoding New Zealand (most of the time): 429 Client Error: Too Many Requests for url: https://us1.locationiq.com/v1/search.php?key=pk.141e2e5711ccfbe2bea40ef7e857c721&q=New+Zealand+%28most+of+the+time%29&format=json\n"
     ]
    },
    {
     "name": "stderr",
     "output_type": "stream",
     "text": []
    },
    {
     "name": "stdout",
     "output_type": "stream",
     "text": [
      "Error geocoding ????????: 429 Client Error: Too Many Requests for url: https://us1.locationiq.com/v1/search.php?key=pk.141e2e5711ccfbe2bea40ef7e857c721&q=%3F%3F%3F%3F%3F%3F%3F%3F&format=json\n"
     ]
    },
    {
     "name": "stderr",
     "output_type": "stream",
     "text": [
      "100%|██████████| 300/300 [04:40<00:00,  1.07it/s]\n"
     ]
    }
   ],
   "source": [
    "import requests\n",
    "import time\n",
    "from tqdm import tqdm\n",
    "\n",
    "def geocode_locationiq(location):\n",
    "    url = \"https://us1.locationiq.com/v1/search.php\"\n",
    "    params = {\n",
    "        \"key\": LOCATION_IQ_TOKEN,\n",
    "        \"q\": location,\n",
    "        \"format\": \"json\"\n",
    "    }\n",
    "    try:\n",
    "        response = requests.get(url, params=params)\n",
    "        response.raise_for_status()\n",
    "        data = response.json()\n",
    "        if isinstance(data, list) and data:\n",
    "            return float(data[0]['lat']), float(data[0]['lon'])\n",
    "        else:\n",
    "            return None, None\n",
    "    except Exception as e:\n",
    "        print(f\"Error geocoding {location}: {e}\")\n",
    "        return None, None\n",
    "\n",
    "# Apply with a delay to avoid rate limits (optional, but safe)\n",
    "results = []\n",
    "for loc in tqdm(map_viz_df['Location']):\n",
    "    lat, lon = geocode_locationiq(loc)\n",
    "    results.append((lat, lon))\n",
    "    time.sleep(0.5)  # Optional throttle (LocationIQ free tier = 2 req/sec)\n",
    "\n",
    "# Split the results into new columns\n",
    "map_viz_df[['latitude', 'longitude']] = pd.DataFrame(results, index=map_viz_df.index)"
   ]
  },
  {
   "cell_type": "code",
   "execution_count": 54,
   "id": "1a49b04d",
   "metadata": {},
   "outputs": [
    {
     "data": {
      "application/vnd.plotly.v1+json": {
       "config": {
        "plotlyServerURL": "https://plot.ly"
       },
       "data": [
        {
         "coloraxis": "coloraxis",
         "hovertemplate": "sentiment_score=%{z}<br>latitude=%{lat}<br>longitude=%{lon}<extra></extra>",
         "lat": [
          -43.530955,
          -41.5000831,
          -41.283683,
          -41.275618800000004,
          -37.8142454,
          -36.5986096,
          -33.987952,
          -33.9288301,
          -33.8698439,
          -31.8759835,
          -29.861825,
          -28.8166236,
          -27.5610193,
          -27.4689682,
          -24.7761086,
          -16.7643235,
          -15.80752915,
          -13.2687204,
          -12.05813,
          -1.4481149,
          -1.3026148499999999,
          -1.27900465,
          -0.60467,
          1.357107,
          2.726855,
          6.4550575,
          8.0006402,
          8.4963657,
          9.759159,
          10.5060934,
          11.5024338,
          11.9918671,
          12.3051828,
          12.7503486,
          14.466539,
          14.6510546,
          18.5213738,
          18.567412500000003,
          19.054999,
          22.2793278,
          22.3511148,
          23.0215374,
          23.2584857,
          23.4610615,
          24.474487,
          24.8546842,
          25.074282349999997,
          25.6093239,
          25.7741728,
          25.9812025,
          27.6886419,
          28.64308585,
          28.6517178,
          28.9174855,
          29.4246002,
          29.7851029,
          29.9759983,
          30.3308401,
          30.3849632,
          30.4380832,
          31,
          32.3293809,
          32.5143898,
          32.612602,
          32.723268,
          32.9628234,
          32.9715285,
          33.0283854,
          33.2588817,
          33.34883,
          33.403229,
          33.5206824,
          33.7489924,
          33.8708215,
          33.9004572,
          34.0536909,
          34.1476507,
          34.2331373,
          34.3129464,
          34.395342,
          35.2272086,
          35.3880338,
          35.4729886,
          35.672803,
          35.6729639,
          35.6876096,
          35.7490023,
          35.7803977,
          36.1622767,
          36.29885175,
          36.5748441,
          36.7014631,
          37.0412584,
          37.1232245,
          37.4429964,
          37.5666791,
          37.5726028,
          37.6922361,
          37.7792588,
          37.93852375,
          37.970495,
          38.4898675,
          38.5810606,
          38.7251776,
          38.7311123,
          38.8339578,
          38.8950368,
          39.1014537,
          39.1406267,
          39.359152,
          39.5162401,
          39.6456733,
          39.7837304,
          39.9207759,
          39.92176275,
          39.9527237,
          39.9786296,
          40.1164841,
          40.1392766,
          40.375713,
          40.6526006,
          40.7127281,
          40.7587838,
          40.7610296,
          40.7696272,
          40.785734,
          40.7896239,
          40.7944504,
          40.7947222,
          40.9699889,
          41.0339862,
          41.4406084,
          41.4996574,
          41.6500201,
          41.7690695,
          41.8755616,
          41.9153358,
          41.99952095,
          42.088442,
          42.1900249,
          42.3315509,
          42.3554334,
          42.3788774,
          42.4396039,
          42.6055893,
          42.9300668,
          42.9832406,
          42.9905492,
          43.6211955,
          43.6534817,
          43.9792797,
          44.1534121,
          44.2057083,
          44.3048009,
          44.6092059,
          45.022172,
          45.4208777,
          45.5202471,
          47.5614705,
          47.6038321,
          47.6571934,
          47.6582198,
          48.2083537,
          48.8588897,
          49.2608724,
          50.7352621,
          50.9025349,
          51.0000002,
          51.0456064,
          51.1638175,
          51.2078275,
          51.2239544,
          51.4816546,
          51.4863958,
          51.5004439,
          51.5030443,
          51.5074456,
          51.5156177,
          51.5323423,
          51.642737249999996,
          51.6520851,
          51.7634675,
          51.8784385,
          52.0579324,
          52.2434979,
          52.4796992,
          52.5310214,
          52.6036083,
          52.666667,
          52.7723859,
          52.865196,
          52.98430785,
          53.1389753,
          53.3493795,
          53.3806626,
          53.4794892,
          53.685418,
          53.778,
          53.7974185,
          53.8320958,
          54.7023545,
          55.6052931,
          55.9286442,
          56.1156137,
          56.3473407,
          56.7861112,
          61.0666922,
          61.1529386
         ],
         "lon": [
          172.6364343,
          172.8344077,
          174.905424,
          174.78376177208366,
          144.9631732,
          144.6780052,
          18.476826114477987,
          18.4172197,
          151.2082848,
          147.2869493,
          31.009909,
          24.991639,
          151.953351,
          153.0234991,
          134.755,
          -49.43397430215106,
          -47.87384817034305,
          33.9301963,
          -77.026039,
          36.971587,
          36.82884201813725,
          37.39526976452546,
          30.64851,
          103.8194992,
          101.723619,
          3.3941795,
          124.2933465,
          4.5480484,
          118.759845,
          -66.9146008,
          17.7578122,
          8.5303654,
          76.6553609,
          122.7312101,
          121.028538,
          121.0486254,
          73.8545071,
          73.77641686826863,
          72.8692035,
          114.1628131,
          78.6677428,
          72.5800568,
          77.401989,
          91.1808748,
          81.846893,
          67.0207055,
          55.18853865430702,
          85.1235252,
          -80.19362,
          -80.148379,
          -82.5723193,
          77.21926705734865,
          77.2219388,
          -81.9228604,
          -98.4951405,
          -82.46847607232229,
          -90.0782127,
          71.247499,
          -97.6496465,
          -84.2809332,
          72,
          -83.1137366,
          -96.8066615,
          -90.0367512,
          -114.6179954,
          -117.035864,
          -89.7348497,
          -97.0867203,
          -86.8295337,
          -112.49123,
          -111.923357,
          -86.8024326,
          -84.3902644,
          -117.929416,
          -98.5020777,
          -118.242766,
          -118.144155,
          -102.4107493,
          -78.1611077,
          -111.763275,
          -80.8430827,
          -94.4265011,
          -97.5170536,
          47.0124376,
          -79.0392919,
          -105.938456,
          -84.320293,
          -78.6390989,
          -86.7742984,
          -82.35919331410948,
          139.2394179,
          -118.755997,
          50.0068157,
          -78.4927721,
          -122.1545229,
          126.9782914,
          -85.1551411,
          -97.3375448,
          -122.4193286,
          23.661628673564437,
          -87.5715641,
          -122.3218414,
          -121.493895,
          -105.607716,
          -95.2414104,
          -104.825348,
          -77.0365427,
          -84.5124602,
          -77.2075612,
          -120.266932,
          -76.9382069,
          -84.1474512,
          -100.445882,
          32.8540497,
          116.42988483398855,
          -75.1635262,
          -74.5614824,
          -88.2430932,
          -74.9810019,
          -76.4626118,
          -73.9497211,
          -74.0060152,
          -73.8306503,
          -89.6020466,
          44.6736646,
          -74.009098,
          -73.9598939,
          -77.8616386,
          -73.9425,
          -77.7278831,
          -73.7629097,
          -75.6260271,
          -81.6936772,
          -72.7342163,
          -72.6206449,
          -87.6244212,
          -83.5135665,
          25.575045126890245,
          -84.211181,
          -87.9084039,
          -83.0466403,
          -71.060511,
          -72.032366,
          -76.4968019,
          -83.1499304,
          -75.8526969,
          -81.243372,
          -89.5335575,
          -84.6824346,
          -79.3839347,
          -120.737257,
          20.55144,
          -70.75378387447887,
          -78.3199496,
          -79.4175587,
          4.3221548,
          -75.6901106,
          -122.674194,
          -52.7126162,
          -122.330062,
          -117.42351,
          -122.3476777,
          16.3725042,
          2.3200410217200766,
          -123.113952,
          7.1024635,
          -1.404189,
          -109,
          -114.057541,
          10.4478313,
          -1.479355,
          1.4027344,
          -3.1791934,
          -0.3216623,
          -0.1265398,
          -0.0015493,
          -0.1277653,
          -0.0919983,
          9.937216,
          -0.4510282863423837,
          -0.0810175,
          -0.2258741,
          -0.4152837,
          1.1528095,
          5.6343227,
          -1.9026911,
          -1.2649062,
          -1.0883086,
          1,
          -1.2077985,
          -7.9794599,
          -3.932482297247055,
          8.2146017,
          -6.2605593,
          -1.4702278,
          -2.2451148,
          -113.262277,
          -1.5411705,
          -1.5437941,
          -1.6439739,
          -3.2765753,
          13.0001566,
          -4.3979459,
          -3.7922423,
          -2.8050703,
          -4.1140518,
          -107.991707,
          8.7876653
         ],
         "name": "",
         "radius": 25,
         "subplot": "mapbox",
         "type": "densitymapbox",
         "z": [
          -2,
          2,
          1,
          0,
          2,
          1,
          2,
          2,
          1,
          1,
          -1,
          1,
          1,
          1,
          0,
          1,
          -2,
          -1,
          0,
          0,
          3,
          -2,
          -1,
          1,
          -1,
          -1,
          -1,
          0,
          1,
          -1,
          2,
          1,
          0,
          2,
          0,
          1,
          1,
          2,
          0,
          0,
          1,
          -1,
          2,
          -1,
          1,
          -1,
          0,
          2,
          1,
          -1,
          0,
          -2,
          -1,
          0,
          1,
          -2,
          2,
          2,
          -1,
          0,
          0,
          -1,
          1,
          -2,
          -1,
          2,
          -1,
          2,
          -1,
          2,
          1,
          -1,
          1,
          1,
          -2,
          -1,
          -1,
          -1,
          -1,
          2,
          -1,
          2,
          -1,
          1,
          -1,
          -2,
          1,
          3,
          1,
          -1,
          -2,
          3,
          1,
          0,
          -2,
          -1,
          1,
          2,
          0,
          -2,
          -1,
          1,
          2,
          -2,
          1,
          1,
          -4,
          1,
          -1,
          0,
          -1,
          0,
          -1,
          -1,
          0,
          -2,
          -1,
          1,
          0,
          -2,
          -1,
          2,
          1,
          -2,
          -2,
          0,
          1,
          -1,
          1,
          -1,
          2,
          -1,
          -2,
          1,
          1,
          -2,
          2,
          1,
          -1,
          -1,
          -3,
          2,
          0,
          -1,
          1,
          -1,
          -2,
          2,
          1,
          0,
          -1,
          1,
          1,
          1,
          0,
          0,
          2,
          2,
          1,
          -3,
          2,
          -2,
          -2,
          1,
          0,
          2,
          1,
          1,
          -5,
          1,
          0,
          -1,
          -3,
          1,
          -1,
          1,
          -5,
          -1,
          -2,
          -1,
          1,
          1,
          1,
          -1,
          0,
          -1,
          -2,
          2,
          2,
          -2,
          0,
          -1,
          1,
          2,
          2,
          0,
          1,
          1,
          -2,
          1,
          3,
          1,
          2,
          0,
          0,
          0,
          0,
          0
         ]
        }
       ],
       "layout": {
        "coloraxis": {
         "colorbar": {
          "title": {
           "text": "sentiment_score"
          }
         },
         "colorscale": [
          [
           0,
           "#0d0887"
          ],
          [
           0.1111111111111111,
           "#46039f"
          ],
          [
           0.2222222222222222,
           "#7201a8"
          ],
          [
           0.3333333333333333,
           "#9c179e"
          ],
          [
           0.4444444444444444,
           "#bd3786"
          ],
          [
           0.5555555555555556,
           "#d8576b"
          ],
          [
           0.6666666666666666,
           "#ed7953"
          ],
          [
           0.7777777777777778,
           "#fb9f3a"
          ],
          [
           0.8888888888888888,
           "#fdca26"
          ],
          [
           1,
           "#f0f921"
          ]
         ]
        },
        "legend": {
         "tracegroupgap": 0
        },
        "mapbox": {
         "center": {
          "lat": 30,
          "lon": 0
         },
         "domain": {
          "x": [
           0,
           1
          ],
          "y": [
           0,
           1
          ]
         },
         "style": "carto-positron",
         "zoom": 1
        },
        "margin": {
         "t": 60
        },
        "template": {
         "data": {
          "bar": [
           {
            "error_x": {
             "color": "#2a3f5f"
            },
            "error_y": {
             "color": "#2a3f5f"
            },
            "marker": {
             "line": {
              "color": "#E5ECF6",
              "width": 0.5
             }
            },
            "type": "bar"
           }
          ],
          "barpolar": [
           {
            "marker": {
             "line": {
              "color": "#E5ECF6",
              "width": 0.5
             }
            },
            "type": "barpolar"
           }
          ],
          "carpet": [
           {
            "aaxis": {
             "endlinecolor": "#2a3f5f",
             "gridcolor": "white",
             "linecolor": "white",
             "minorgridcolor": "white",
             "startlinecolor": "#2a3f5f"
            },
            "baxis": {
             "endlinecolor": "#2a3f5f",
             "gridcolor": "white",
             "linecolor": "white",
             "minorgridcolor": "white",
             "startlinecolor": "#2a3f5f"
            },
            "type": "carpet"
           }
          ],
          "choropleth": [
           {
            "colorbar": {
             "outlinewidth": 0,
             "ticks": ""
            },
            "type": "choropleth"
           }
          ],
          "contour": [
           {
            "colorbar": {
             "outlinewidth": 0,
             "ticks": ""
            },
            "colorscale": [
             [
              0,
              "#0d0887"
             ],
             [
              0.1111111111111111,
              "#46039f"
             ],
             [
              0.2222222222222222,
              "#7201a8"
             ],
             [
              0.3333333333333333,
              "#9c179e"
             ],
             [
              0.4444444444444444,
              "#bd3786"
             ],
             [
              0.5555555555555556,
              "#d8576b"
             ],
             [
              0.6666666666666666,
              "#ed7953"
             ],
             [
              0.7777777777777778,
              "#fb9f3a"
             ],
             [
              0.8888888888888888,
              "#fdca26"
             ],
             [
              1,
              "#f0f921"
             ]
            ],
            "type": "contour"
           }
          ],
          "contourcarpet": [
           {
            "colorbar": {
             "outlinewidth": 0,
             "ticks": ""
            },
            "type": "contourcarpet"
           }
          ],
          "heatmap": [
           {
            "colorbar": {
             "outlinewidth": 0,
             "ticks": ""
            },
            "colorscale": [
             [
              0,
              "#0d0887"
             ],
             [
              0.1111111111111111,
              "#46039f"
             ],
             [
              0.2222222222222222,
              "#7201a8"
             ],
             [
              0.3333333333333333,
              "#9c179e"
             ],
             [
              0.4444444444444444,
              "#bd3786"
             ],
             [
              0.5555555555555556,
              "#d8576b"
             ],
             [
              0.6666666666666666,
              "#ed7953"
             ],
             [
              0.7777777777777778,
              "#fb9f3a"
             ],
             [
              0.8888888888888888,
              "#fdca26"
             ],
             [
              1,
              "#f0f921"
             ]
            ],
            "type": "heatmap"
           }
          ],
          "heatmapgl": [
           {
            "colorbar": {
             "outlinewidth": 0,
             "ticks": ""
            },
            "colorscale": [
             [
              0,
              "#0d0887"
             ],
             [
              0.1111111111111111,
              "#46039f"
             ],
             [
              0.2222222222222222,
              "#7201a8"
             ],
             [
              0.3333333333333333,
              "#9c179e"
             ],
             [
              0.4444444444444444,
              "#bd3786"
             ],
             [
              0.5555555555555556,
              "#d8576b"
             ],
             [
              0.6666666666666666,
              "#ed7953"
             ],
             [
              0.7777777777777778,
              "#fb9f3a"
             ],
             [
              0.8888888888888888,
              "#fdca26"
             ],
             [
              1,
              "#f0f921"
             ]
            ],
            "type": "heatmapgl"
           }
          ],
          "histogram": [
           {
            "marker": {
             "colorbar": {
              "outlinewidth": 0,
              "ticks": ""
             }
            },
            "type": "histogram"
           }
          ],
          "histogram2d": [
           {
            "colorbar": {
             "outlinewidth": 0,
             "ticks": ""
            },
            "colorscale": [
             [
              0,
              "#0d0887"
             ],
             [
              0.1111111111111111,
              "#46039f"
             ],
             [
              0.2222222222222222,
              "#7201a8"
             ],
             [
              0.3333333333333333,
              "#9c179e"
             ],
             [
              0.4444444444444444,
              "#bd3786"
             ],
             [
              0.5555555555555556,
              "#d8576b"
             ],
             [
              0.6666666666666666,
              "#ed7953"
             ],
             [
              0.7777777777777778,
              "#fb9f3a"
             ],
             [
              0.8888888888888888,
              "#fdca26"
             ],
             [
              1,
              "#f0f921"
             ]
            ],
            "type": "histogram2d"
           }
          ],
          "histogram2dcontour": [
           {
            "colorbar": {
             "outlinewidth": 0,
             "ticks": ""
            },
            "colorscale": [
             [
              0,
              "#0d0887"
             ],
             [
              0.1111111111111111,
              "#46039f"
             ],
             [
              0.2222222222222222,
              "#7201a8"
             ],
             [
              0.3333333333333333,
              "#9c179e"
             ],
             [
              0.4444444444444444,
              "#bd3786"
             ],
             [
              0.5555555555555556,
              "#d8576b"
             ],
             [
              0.6666666666666666,
              "#ed7953"
             ],
             [
              0.7777777777777778,
              "#fb9f3a"
             ],
             [
              0.8888888888888888,
              "#fdca26"
             ],
             [
              1,
              "#f0f921"
             ]
            ],
            "type": "histogram2dcontour"
           }
          ],
          "mesh3d": [
           {
            "colorbar": {
             "outlinewidth": 0,
             "ticks": ""
            },
            "type": "mesh3d"
           }
          ],
          "parcoords": [
           {
            "line": {
             "colorbar": {
              "outlinewidth": 0,
              "ticks": ""
             }
            },
            "type": "parcoords"
           }
          ],
          "pie": [
           {
            "automargin": true,
            "type": "pie"
           }
          ],
          "scatter": [
           {
            "marker": {
             "colorbar": {
              "outlinewidth": 0,
              "ticks": ""
             }
            },
            "type": "scatter"
           }
          ],
          "scatter3d": [
           {
            "line": {
             "colorbar": {
              "outlinewidth": 0,
              "ticks": ""
             }
            },
            "marker": {
             "colorbar": {
              "outlinewidth": 0,
              "ticks": ""
             }
            },
            "type": "scatter3d"
           }
          ],
          "scattercarpet": [
           {
            "marker": {
             "colorbar": {
              "outlinewidth": 0,
              "ticks": ""
             }
            },
            "type": "scattercarpet"
           }
          ],
          "scattergeo": [
           {
            "marker": {
             "colorbar": {
              "outlinewidth": 0,
              "ticks": ""
             }
            },
            "type": "scattergeo"
           }
          ],
          "scattergl": [
           {
            "marker": {
             "colorbar": {
              "outlinewidth": 0,
              "ticks": ""
             }
            },
            "type": "scattergl"
           }
          ],
          "scattermapbox": [
           {
            "marker": {
             "colorbar": {
              "outlinewidth": 0,
              "ticks": ""
             }
            },
            "type": "scattermapbox"
           }
          ],
          "scatterpolar": [
           {
            "marker": {
             "colorbar": {
              "outlinewidth": 0,
              "ticks": ""
             }
            },
            "type": "scatterpolar"
           }
          ],
          "scatterpolargl": [
           {
            "marker": {
             "colorbar": {
              "outlinewidth": 0,
              "ticks": ""
             }
            },
            "type": "scatterpolargl"
           }
          ],
          "scatterternary": [
           {
            "marker": {
             "colorbar": {
              "outlinewidth": 0,
              "ticks": ""
             }
            },
            "type": "scatterternary"
           }
          ],
          "surface": [
           {
            "colorbar": {
             "outlinewidth": 0,
             "ticks": ""
            },
            "colorscale": [
             [
              0,
              "#0d0887"
             ],
             [
              0.1111111111111111,
              "#46039f"
             ],
             [
              0.2222222222222222,
              "#7201a8"
             ],
             [
              0.3333333333333333,
              "#9c179e"
             ],
             [
              0.4444444444444444,
              "#bd3786"
             ],
             [
              0.5555555555555556,
              "#d8576b"
             ],
             [
              0.6666666666666666,
              "#ed7953"
             ],
             [
              0.7777777777777778,
              "#fb9f3a"
             ],
             [
              0.8888888888888888,
              "#fdca26"
             ],
             [
              1,
              "#f0f921"
             ]
            ],
            "type": "surface"
           }
          ],
          "table": [
           {
            "cells": {
             "fill": {
              "color": "#EBF0F8"
             },
             "line": {
              "color": "white"
             }
            },
            "header": {
             "fill": {
              "color": "#C8D4E3"
             },
             "line": {
              "color": "white"
             }
            },
            "type": "table"
           }
          ]
         },
         "layout": {
          "annotationdefaults": {
           "arrowcolor": "#2a3f5f",
           "arrowhead": 0,
           "arrowwidth": 1
          },
          "autotypenumbers": "strict",
          "coloraxis": {
           "colorbar": {
            "outlinewidth": 0,
            "ticks": ""
           }
          },
          "colorscale": {
           "diverging": [
            [
             0,
             "#8e0152"
            ],
            [
             0.1,
             "#c51b7d"
            ],
            [
             0.2,
             "#de77ae"
            ],
            [
             0.3,
             "#f1b6da"
            ],
            [
             0.4,
             "#fde0ef"
            ],
            [
             0.5,
             "#f7f7f7"
            ],
            [
             0.6,
             "#e6f5d0"
            ],
            [
             0.7,
             "#b8e186"
            ],
            [
             0.8,
             "#7fbc41"
            ],
            [
             0.9,
             "#4d9221"
            ],
            [
             1,
             "#276419"
            ]
           ],
           "sequential": [
            [
             0,
             "#0d0887"
            ],
            [
             0.1111111111111111,
             "#46039f"
            ],
            [
             0.2222222222222222,
             "#7201a8"
            ],
            [
             0.3333333333333333,
             "#9c179e"
            ],
            [
             0.4444444444444444,
             "#bd3786"
            ],
            [
             0.5555555555555556,
             "#d8576b"
            ],
            [
             0.6666666666666666,
             "#ed7953"
            ],
            [
             0.7777777777777778,
             "#fb9f3a"
            ],
            [
             0.8888888888888888,
             "#fdca26"
            ],
            [
             1,
             "#f0f921"
            ]
           ],
           "sequentialminus": [
            [
             0,
             "#0d0887"
            ],
            [
             0.1111111111111111,
             "#46039f"
            ],
            [
             0.2222222222222222,
             "#7201a8"
            ],
            [
             0.3333333333333333,
             "#9c179e"
            ],
            [
             0.4444444444444444,
             "#bd3786"
            ],
            [
             0.5555555555555556,
             "#d8576b"
            ],
            [
             0.6666666666666666,
             "#ed7953"
            ],
            [
             0.7777777777777778,
             "#fb9f3a"
            ],
            [
             0.8888888888888888,
             "#fdca26"
            ],
            [
             1,
             "#f0f921"
            ]
           ]
          },
          "colorway": [
           "#636efa",
           "#EF553B",
           "#00cc96",
           "#ab63fa",
           "#FFA15A",
           "#19d3f3",
           "#FF6692",
           "#B6E880",
           "#FF97FF",
           "#FECB52"
          ],
          "font": {
           "color": "#2a3f5f"
          },
          "geo": {
           "bgcolor": "white",
           "lakecolor": "white",
           "landcolor": "#E5ECF6",
           "showlakes": true,
           "showland": true,
           "subunitcolor": "white"
          },
          "hoverlabel": {
           "align": "left"
          },
          "hovermode": "closest",
          "mapbox": {
           "style": "light"
          },
          "paper_bgcolor": "white",
          "plot_bgcolor": "#E5ECF6",
          "polar": {
           "angularaxis": {
            "gridcolor": "white",
            "linecolor": "white",
            "ticks": ""
           },
           "bgcolor": "#E5ECF6",
           "radialaxis": {
            "gridcolor": "white",
            "linecolor": "white",
            "ticks": ""
           }
          },
          "scene": {
           "xaxis": {
            "backgroundcolor": "#E5ECF6",
            "gridcolor": "white",
            "gridwidth": 2,
            "linecolor": "white",
            "showbackground": true,
            "ticks": "",
            "zerolinecolor": "white"
           },
           "yaxis": {
            "backgroundcolor": "#E5ECF6",
            "gridcolor": "white",
            "gridwidth": 2,
            "linecolor": "white",
            "showbackground": true,
            "ticks": "",
            "zerolinecolor": "white"
           },
           "zaxis": {
            "backgroundcolor": "#E5ECF6",
            "gridcolor": "white",
            "gridwidth": 2,
            "linecolor": "white",
            "showbackground": true,
            "ticks": "",
            "zerolinecolor": "white"
           }
          },
          "shapedefaults": {
           "line": {
            "color": "#2a3f5f"
           }
          },
          "ternary": {
           "aaxis": {
            "gridcolor": "white",
            "linecolor": "white",
            "ticks": ""
           },
           "baxis": {
            "gridcolor": "white",
            "linecolor": "white",
            "ticks": ""
           },
           "bgcolor": "#E5ECF6",
           "caxis": {
            "gridcolor": "white",
            "linecolor": "white",
            "ticks": ""
           }
          },
          "title": {
           "x": 0.05
          },
          "xaxis": {
           "automargin": true,
           "gridcolor": "white",
           "linecolor": "white",
           "ticks": "",
           "title": {
            "standoff": 15
           },
           "zerolinecolor": "white",
           "zerolinewidth": 2
          },
          "yaxis": {
           "automargin": true,
           "gridcolor": "white",
           "linecolor": "white",
           "ticks": "",
           "title": {
            "standoff": 15
           },
           "zerolinecolor": "white",
           "zerolinewidth": 2
          }
         }
        }
       }
      }
     },
     "metadata": {},
     "output_type": "display_data"
    }
   ],
   "source": [
    "agg_df = map_viz_df.groupby(['latitude', 'longitude'], as_index=False)['sentiment_score'].sum()\n",
    "fig = px.density_mapbox(\n",
    "    agg_df,\n",
    "    lat=\"latitude\",\n",
    "    lon=\"longitude\",\n",
    "    z=\"sentiment_score\",\n",
    "    radius=25,\n",
    "    center={\"lat\": 30, \"lon\": 0},\n",
    "    zoom=1,\n",
    "    mapbox_style=\"carto-positron\"\n",
    ")\n",
    "fig.show()"
   ]
  },
  {
   "cell_type": "code",
   "execution_count": null,
   "id": "63cb3c05",
   "metadata": {},
   "outputs": [],
   "source": []
  },
  {
   "cell_type": "markdown",
   "id": "559848f9",
   "metadata": {},
   "source": [
    "## 2. Sentiment accross dates:\n",
    "Total sentiment score per day"
   ]
  },
  {
   "cell_type": "code",
   "execution_count": 71,
   "id": "707ef669",
   "metadata": {},
   "outputs": [],
   "source": [
    "timeline_sentiment_df = train_df.copy()\n",
    "timeline_sentiment_df = timeline_sentiment_df[[\"TweetAt\", \"Sentiment\"]]"
   ]
  },
  {
   "cell_type": "code",
   "execution_count": 80,
   "id": "d61a7736",
   "metadata": {},
   "outputs": [
    {
     "data": {
      "application/vnd.plotly.v1+json": {
       "config": {
        "plotlyServerURL": "https://plot.ly"
       },
       "data": [
        {
         "coloraxis": "coloraxis",
         "hovertemplate": "Date: %{x}<br>Sentiment Score: %{y}<br>Tweet Count: %{z}<extra></extra>",
         "name": "0",
         "type": "heatmap",
         "x": [
          "2020-03-16",
          "2020-03-17",
          "2020-03-18",
          "2020-03-19",
          "2020-03-20",
          "2020-03-21",
          "2020-03-22",
          "2020-03-23",
          "2020-03-24",
          "2020-03-25",
          "2020-03-26",
          "2020-03-27",
          "2020-03-28",
          "2020-03-29",
          "2020-03-30",
          "2020-03-31",
          "2020-04-01",
          "2020-04-02",
          "2020-04-03",
          "2020-04-04",
          "2020-04-05",
          "2020-04-06",
          "2020-04-07",
          "2020-04-08",
          "2020-04-09",
          "2020-04-10",
          "2020-04-11",
          "2020-04-12",
          "2020-04-13",
          "2020-04-14"
         ],
         "xaxis": "x",
         "y": [
          "Extremely Negative",
          "Negative",
          "Neutral",
          "Positive",
          "Extremely Positive"
         ],
         "yaxis": "y",
         "z": [
          [
           98,
           304,
           433,
           489,
           594,
           372,
           282,
           246,
           208,
           336,
           136,
           38,
           1,
           10,
           19,
           38,
           90,
           119,
           103,
           113,
           120,
           207,
           227,
           214,
           159,
           115,
           93,
           102,
           178,
           37
          ],
          [
           165,
           518,
           674,
           810,
           869,
           689,
           488,
           479,
           373,
           688,
           316,
           97,
           4,
           22,
           20,
           89,
           156,
           242,
           208,
           163,
           262,
           423,
           434,
           409,
           309,
           197,
           208,
           206,
           330,
           69
          ],
          [
           108,
           361,
           486,
           571,
           597,
           456,
           381,
           394,
           284,
           524,
           263,
           80,
           1,
           28,
           10,
           42,
           125,
           201,
           154,
           130,
           235,
           360,
           374,
           365,
           285,
           239,
           182,
           146,
           271,
           60
          ],
          [
           186,
           508,
           741,
           863,
           910,
           710,
           588,
           615,
           402,
           886,
           343,
           91,
           6,
           42,
           24,
           99,
           170,
           251,
           228,
           232,
           306,
           471,
           521,
           558,
           430,
           287,
           262,
           210,
           408,
           74
          ],
          [
           99,
           286,
           408,
           482,
           478,
           426,
           375,
           328,
           213,
           545,
           219,
           39,
           11,
           23,
           14,
           48,
           89,
           141,
           117,
           129,
           208,
           281,
           287,
           335,
           288,
           167,
           164,
           139,
           241,
           44
          ]
         ]
        }
       ],
       "layout": {
        "coloraxis": {
         "colorbar": {
          "title": {
           "text": "Tweet Count"
          }
         },
         "colorscale": [
          [
           0,
           "rgb(255,255,204)"
          ],
          [
           0.125,
           "rgb(255,237,160)"
          ],
          [
           0.25,
           "rgb(254,217,118)"
          ],
          [
           0.375,
           "rgb(254,178,76)"
          ],
          [
           0.5,
           "rgb(253,141,60)"
          ],
          [
           0.625,
           "rgb(252,78,42)"
          ],
          [
           0.75,
           "rgb(227,26,28)"
          ],
          [
           0.875,
           "rgb(189,0,38)"
          ],
          [
           1,
           "rgb(128,0,38)"
          ]
         ]
        },
        "height": 400,
        "margin": {
         "t": 60
        },
        "template": {
         "data": {
          "bar": [
           {
            "error_x": {
             "color": "#2a3f5f"
            },
            "error_y": {
             "color": "#2a3f5f"
            },
            "marker": {
             "line": {
              "color": "#E5ECF6",
              "width": 0.5
             }
            },
            "type": "bar"
           }
          ],
          "barpolar": [
           {
            "marker": {
             "line": {
              "color": "#E5ECF6",
              "width": 0.5
             }
            },
            "type": "barpolar"
           }
          ],
          "carpet": [
           {
            "aaxis": {
             "endlinecolor": "#2a3f5f",
             "gridcolor": "white",
             "linecolor": "white",
             "minorgridcolor": "white",
             "startlinecolor": "#2a3f5f"
            },
            "baxis": {
             "endlinecolor": "#2a3f5f",
             "gridcolor": "white",
             "linecolor": "white",
             "minorgridcolor": "white",
             "startlinecolor": "#2a3f5f"
            },
            "type": "carpet"
           }
          ],
          "choropleth": [
           {
            "colorbar": {
             "outlinewidth": 0,
             "ticks": ""
            },
            "type": "choropleth"
           }
          ],
          "contour": [
           {
            "colorbar": {
             "outlinewidth": 0,
             "ticks": ""
            },
            "colorscale": [
             [
              0,
              "#0d0887"
             ],
             [
              0.1111111111111111,
              "#46039f"
             ],
             [
              0.2222222222222222,
              "#7201a8"
             ],
             [
              0.3333333333333333,
              "#9c179e"
             ],
             [
              0.4444444444444444,
              "#bd3786"
             ],
             [
              0.5555555555555556,
              "#d8576b"
             ],
             [
              0.6666666666666666,
              "#ed7953"
             ],
             [
              0.7777777777777778,
              "#fb9f3a"
             ],
             [
              0.8888888888888888,
              "#fdca26"
             ],
             [
              1,
              "#f0f921"
             ]
            ],
            "type": "contour"
           }
          ],
          "contourcarpet": [
           {
            "colorbar": {
             "outlinewidth": 0,
             "ticks": ""
            },
            "type": "contourcarpet"
           }
          ],
          "heatmap": [
           {
            "colorbar": {
             "outlinewidth": 0,
             "ticks": ""
            },
            "colorscale": [
             [
              0,
              "#0d0887"
             ],
             [
              0.1111111111111111,
              "#46039f"
             ],
             [
              0.2222222222222222,
              "#7201a8"
             ],
             [
              0.3333333333333333,
              "#9c179e"
             ],
             [
              0.4444444444444444,
              "#bd3786"
             ],
             [
              0.5555555555555556,
              "#d8576b"
             ],
             [
              0.6666666666666666,
              "#ed7953"
             ],
             [
              0.7777777777777778,
              "#fb9f3a"
             ],
             [
              0.8888888888888888,
              "#fdca26"
             ],
             [
              1,
              "#f0f921"
             ]
            ],
            "type": "heatmap"
           }
          ],
          "heatmapgl": [
           {
            "colorbar": {
             "outlinewidth": 0,
             "ticks": ""
            },
            "colorscale": [
             [
              0,
              "#0d0887"
             ],
             [
              0.1111111111111111,
              "#46039f"
             ],
             [
              0.2222222222222222,
              "#7201a8"
             ],
             [
              0.3333333333333333,
              "#9c179e"
             ],
             [
              0.4444444444444444,
              "#bd3786"
             ],
             [
              0.5555555555555556,
              "#d8576b"
             ],
             [
              0.6666666666666666,
              "#ed7953"
             ],
             [
              0.7777777777777778,
              "#fb9f3a"
             ],
             [
              0.8888888888888888,
              "#fdca26"
             ],
             [
              1,
              "#f0f921"
             ]
            ],
            "type": "heatmapgl"
           }
          ],
          "histogram": [
           {
            "marker": {
             "colorbar": {
              "outlinewidth": 0,
              "ticks": ""
             }
            },
            "type": "histogram"
           }
          ],
          "histogram2d": [
           {
            "colorbar": {
             "outlinewidth": 0,
             "ticks": ""
            },
            "colorscale": [
             [
              0,
              "#0d0887"
             ],
             [
              0.1111111111111111,
              "#46039f"
             ],
             [
              0.2222222222222222,
              "#7201a8"
             ],
             [
              0.3333333333333333,
              "#9c179e"
             ],
             [
              0.4444444444444444,
              "#bd3786"
             ],
             [
              0.5555555555555556,
              "#d8576b"
             ],
             [
              0.6666666666666666,
              "#ed7953"
             ],
             [
              0.7777777777777778,
              "#fb9f3a"
             ],
             [
              0.8888888888888888,
              "#fdca26"
             ],
             [
              1,
              "#f0f921"
             ]
            ],
            "type": "histogram2d"
           }
          ],
          "histogram2dcontour": [
           {
            "colorbar": {
             "outlinewidth": 0,
             "ticks": ""
            },
            "colorscale": [
             [
              0,
              "#0d0887"
             ],
             [
              0.1111111111111111,
              "#46039f"
             ],
             [
              0.2222222222222222,
              "#7201a8"
             ],
             [
              0.3333333333333333,
              "#9c179e"
             ],
             [
              0.4444444444444444,
              "#bd3786"
             ],
             [
              0.5555555555555556,
              "#d8576b"
             ],
             [
              0.6666666666666666,
              "#ed7953"
             ],
             [
              0.7777777777777778,
              "#fb9f3a"
             ],
             [
              0.8888888888888888,
              "#fdca26"
             ],
             [
              1,
              "#f0f921"
             ]
            ],
            "type": "histogram2dcontour"
           }
          ],
          "mesh3d": [
           {
            "colorbar": {
             "outlinewidth": 0,
             "ticks": ""
            },
            "type": "mesh3d"
           }
          ],
          "parcoords": [
           {
            "line": {
             "colorbar": {
              "outlinewidth": 0,
              "ticks": ""
             }
            },
            "type": "parcoords"
           }
          ],
          "pie": [
           {
            "automargin": true,
            "type": "pie"
           }
          ],
          "scatter": [
           {
            "marker": {
             "colorbar": {
              "outlinewidth": 0,
              "ticks": ""
             }
            },
            "type": "scatter"
           }
          ],
          "scatter3d": [
           {
            "line": {
             "colorbar": {
              "outlinewidth": 0,
              "ticks": ""
             }
            },
            "marker": {
             "colorbar": {
              "outlinewidth": 0,
              "ticks": ""
             }
            },
            "type": "scatter3d"
           }
          ],
          "scattercarpet": [
           {
            "marker": {
             "colorbar": {
              "outlinewidth": 0,
              "ticks": ""
             }
            },
            "type": "scattercarpet"
           }
          ],
          "scattergeo": [
           {
            "marker": {
             "colorbar": {
              "outlinewidth": 0,
              "ticks": ""
             }
            },
            "type": "scattergeo"
           }
          ],
          "scattergl": [
           {
            "marker": {
             "colorbar": {
              "outlinewidth": 0,
              "ticks": ""
             }
            },
            "type": "scattergl"
           }
          ],
          "scattermapbox": [
           {
            "marker": {
             "colorbar": {
              "outlinewidth": 0,
              "ticks": ""
             }
            },
            "type": "scattermapbox"
           }
          ],
          "scatterpolar": [
           {
            "marker": {
             "colorbar": {
              "outlinewidth": 0,
              "ticks": ""
             }
            },
            "type": "scatterpolar"
           }
          ],
          "scatterpolargl": [
           {
            "marker": {
             "colorbar": {
              "outlinewidth": 0,
              "ticks": ""
             }
            },
            "type": "scatterpolargl"
           }
          ],
          "scatterternary": [
           {
            "marker": {
             "colorbar": {
              "outlinewidth": 0,
              "ticks": ""
             }
            },
            "type": "scatterternary"
           }
          ],
          "surface": [
           {
            "colorbar": {
             "outlinewidth": 0,
             "ticks": ""
            },
            "colorscale": [
             [
              0,
              "#0d0887"
             ],
             [
              0.1111111111111111,
              "#46039f"
             ],
             [
              0.2222222222222222,
              "#7201a8"
             ],
             [
              0.3333333333333333,
              "#9c179e"
             ],
             [
              0.4444444444444444,
              "#bd3786"
             ],
             [
              0.5555555555555556,
              "#d8576b"
             ],
             [
              0.6666666666666666,
              "#ed7953"
             ],
             [
              0.7777777777777778,
              "#fb9f3a"
             ],
             [
              0.8888888888888888,
              "#fdca26"
             ],
             [
              1,
              "#f0f921"
             ]
            ],
            "type": "surface"
           }
          ],
          "table": [
           {
            "cells": {
             "fill": {
              "color": "#EBF0F8"
             },
             "line": {
              "color": "white"
             }
            },
            "header": {
             "fill": {
              "color": "#C8D4E3"
             },
             "line": {
              "color": "white"
             }
            },
            "type": "table"
           }
          ]
         },
         "layout": {
          "annotationdefaults": {
           "arrowcolor": "#2a3f5f",
           "arrowhead": 0,
           "arrowwidth": 1
          },
          "autotypenumbers": "strict",
          "coloraxis": {
           "colorbar": {
            "outlinewidth": 0,
            "ticks": ""
           }
          },
          "colorscale": {
           "diverging": [
            [
             0,
             "#8e0152"
            ],
            [
             0.1,
             "#c51b7d"
            ],
            [
             0.2,
             "#de77ae"
            ],
            [
             0.3,
             "#f1b6da"
            ],
            [
             0.4,
             "#fde0ef"
            ],
            [
             0.5,
             "#f7f7f7"
            ],
            [
             0.6,
             "#e6f5d0"
            ],
            [
             0.7,
             "#b8e186"
            ],
            [
             0.8,
             "#7fbc41"
            ],
            [
             0.9,
             "#4d9221"
            ],
            [
             1,
             "#276419"
            ]
           ],
           "sequential": [
            [
             0,
             "#0d0887"
            ],
            [
             0.1111111111111111,
             "#46039f"
            ],
            [
             0.2222222222222222,
             "#7201a8"
            ],
            [
             0.3333333333333333,
             "#9c179e"
            ],
            [
             0.4444444444444444,
             "#bd3786"
            ],
            [
             0.5555555555555556,
             "#d8576b"
            ],
            [
             0.6666666666666666,
             "#ed7953"
            ],
            [
             0.7777777777777778,
             "#fb9f3a"
            ],
            [
             0.8888888888888888,
             "#fdca26"
            ],
            [
             1,
             "#f0f921"
            ]
           ],
           "sequentialminus": [
            [
             0,
             "#0d0887"
            ],
            [
             0.1111111111111111,
             "#46039f"
            ],
            [
             0.2222222222222222,
             "#7201a8"
            ],
            [
             0.3333333333333333,
             "#9c179e"
            ],
            [
             0.4444444444444444,
             "#bd3786"
            ],
            [
             0.5555555555555556,
             "#d8576b"
            ],
            [
             0.6666666666666666,
             "#ed7953"
            ],
            [
             0.7777777777777778,
             "#fb9f3a"
            ],
            [
             0.8888888888888888,
             "#fdca26"
            ],
            [
             1,
             "#f0f921"
            ]
           ]
          },
          "colorway": [
           "#636efa",
           "#EF553B",
           "#00cc96",
           "#ab63fa",
           "#FFA15A",
           "#19d3f3",
           "#FF6692",
           "#B6E880",
           "#FF97FF",
           "#FECB52"
          ],
          "font": {
           "color": "#2a3f5f"
          },
          "geo": {
           "bgcolor": "white",
           "lakecolor": "white",
           "landcolor": "#E5ECF6",
           "showlakes": true,
           "showland": true,
           "subunitcolor": "white"
          },
          "hoverlabel": {
           "align": "left"
          },
          "hovermode": "closest",
          "mapbox": {
           "style": "light"
          },
          "paper_bgcolor": "white",
          "plot_bgcolor": "#E5ECF6",
          "polar": {
           "angularaxis": {
            "gridcolor": "white",
            "linecolor": "white",
            "ticks": ""
           },
           "bgcolor": "#E5ECF6",
           "radialaxis": {
            "gridcolor": "white",
            "linecolor": "white",
            "ticks": ""
           }
          },
          "scene": {
           "xaxis": {
            "backgroundcolor": "#E5ECF6",
            "gridcolor": "white",
            "gridwidth": 2,
            "linecolor": "white",
            "showbackground": true,
            "ticks": "",
            "zerolinecolor": "white"
           },
           "yaxis": {
            "backgroundcolor": "#E5ECF6",
            "gridcolor": "white",
            "gridwidth": 2,
            "linecolor": "white",
            "showbackground": true,
            "ticks": "",
            "zerolinecolor": "white"
           },
           "zaxis": {
            "backgroundcolor": "#E5ECF6",
            "gridcolor": "white",
            "gridwidth": 2,
            "linecolor": "white",
            "showbackground": true,
            "ticks": "",
            "zerolinecolor": "white"
           }
          },
          "shapedefaults": {
           "line": {
            "color": "#2a3f5f"
           }
          },
          "ternary": {
           "aaxis": {
            "gridcolor": "white",
            "linecolor": "white",
            "ticks": ""
           },
           "baxis": {
            "gridcolor": "white",
            "linecolor": "white",
            "ticks": ""
           },
           "bgcolor": "#E5ECF6",
           "caxis": {
            "gridcolor": "white",
            "linecolor": "white",
            "ticks": ""
           }
          },
          "title": {
           "x": 0.05
          },
          "xaxis": {
           "automargin": true,
           "gridcolor": "white",
           "linecolor": "white",
           "ticks": "",
           "title": {
            "standoff": 15
           },
           "zerolinecolor": "white",
           "zerolinewidth": 2
          },
          "yaxis": {
           "automargin": true,
           "gridcolor": "white",
           "linecolor": "white",
           "ticks": "",
           "title": {
            "standoff": 15
           },
           "zerolinecolor": "white",
           "zerolinewidth": 2
          }
         }
        },
        "title": {
         "text": "Sentiment Score Frequency Over Time"
        },
        "xaxis": {
         "anchor": "y",
         "domain": [
          0,
          1
         ],
         "title": {
          "text": "Date"
         }
        },
        "yaxis": {
         "anchor": "x",
         "autorange": "reversed",
         "domain": [
          0,
          1
         ],
         "title": {
          "text": "Sentiment Score"
         }
        }
       }
      }
     },
     "metadata": {},
     "output_type": "display_data"
    }
   ],
   "source": [
    "timeline_sentiment_df['TweetAt'] = pd.to_datetime(timeline_sentiment_df['TweetAt'], format='%d-%m-%Y')\n",
    "heatmap_data = (\n",
    "    timeline_sentiment_df.groupby([timeline_sentiment_df['TweetAt'], 'Sentiment'])\n",
    "    .size()\n",
    "    .reset_index(name='count')\n",
    ")\n",
    "\n",
    "# Pivot to matrix format for heatmap\n",
    "heatmap_pivot = heatmap_data.pivot(index='Sentiment', columns='TweetAt', values='count').fillna(0)\n",
    "\n",
    "heatmap_pivot = heatmap_pivot.loc[\n",
    "    sorted(heatmap_pivot.index, key=lambda s: SENTIMENT_TO_SCORE_MAPPING[s])\n",
    "]\n",
    "\n",
    "# Plot heatmap\n",
    "fig = px.imshow(\n",
    "    heatmap_pivot,\n",
    "    labels=dict(x=\"Date\", y=\"Sentiment Score\", color=\"Tweet Count\"),\n",
    "    x=[col.strftime('%Y-%m-%d') for col in heatmap_pivot.columns],\n",
    "    y=heatmap_pivot.index,\n",
    "    color_continuous_scale='YlOrRd',\n",
    "    aspect='auto'\n",
    ")\n",
    "\n",
    "fig.update_layout(\n",
    "    title=\"Sentiment Score Frequency Over Time\",\n",
    "    xaxis_title=\"Date\",\n",
    "    yaxis_title=\"Sentiment Score\",\n",
    "    height=400\n",
    ")\n",
    "fig.show()"
   ]
  },
  {
   "cell_type": "code",
   "execution_count": null,
   "id": "8f4067c7",
   "metadata": {},
   "outputs": [],
   "source": []
  },
  {
   "cell_type": "code",
   "execution_count": null,
   "id": "7ebac30b",
   "metadata": {},
   "outputs": [],
   "source": []
  }
 ],
 "metadata": {
  "kernelspec": {
   "display_name": "base",
   "language": "python",
   "name": "python3"
  },
  "language_info": {
   "codemirror_mode": {
    "name": "ipython",
    "version": 3
   },
   "file_extension": ".py",
   "mimetype": "text/x-python",
   "name": "python",
   "nbconvert_exporter": "python",
   "pygments_lexer": "ipython3",
   "version": "3.7.6"
  }
 },
 "nbformat": 4,
 "nbformat_minor": 5
}
